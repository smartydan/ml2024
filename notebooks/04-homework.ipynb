{
 "cells": [
  {
   "cell_type": "markdown",
   "source": [
    "# Домашняя работа\n",
    "\n",
    "Будем работать с датасетом подержанных машин https://www.kaggle.com/datasets/adityadesai13/used-car-dataset-ford-and-mercedes\n",
    "\n",
    "Задача - построить прогноз цены машины по ее данным (год выпуска, пробег, расход, размер двигателя, тип коробки передач и тд). "
   ],
   "metadata": {
    "collapsed": false
   },
   "id": "89a33319a2ed7d57"
  },
  {
   "cell_type": "markdown",
   "source": [
    "## Easy\n",
    "\n",
    "Построить прогноз по одной марке машин при помощи решающих деревьев, взять только числовые признаки. В качестве метрики взять `r2_score`. Оценить важность признаков, проинтерпретировать модель."
   ],
   "metadata": {
    "collapsed": false
   },
   "id": "ea699722180972bf"
  },
  {
   "cell_type": "code",
   "outputs": [],
   "source": [
    "import os\n",
    "import pandas as pd\n",
    "\n",
    "from sklearn.tree import DecisionTreeRegressor\n",
    "from sklearn.metrics import r2_score\n",
    "from sklearn.model_selection import train_test_split\n",
    "from sklearn.model_selection import RandomizedSearchCV # быстрее Grid, но менее точный \n",
    "\n",
    "import seaborn as sns"
   ],
   "metadata": {
    "collapsed": false,
    "ExecuteTime": {
     "end_time": "2024-03-13T16:07:04.741198Z",
     "start_time": "2024-03-13T16:07:04.443847Z"
    }
   },
   "id": "4b6f47103fb7c892",
   "execution_count": 1
  },
  {
   "cell_type": "code",
   "outputs": [],
   "source": [
    "base_path = \"../data/cars/\""
   ],
   "metadata": {
    "collapsed": false,
    "ExecuteTime": {
     "end_time": "2024-03-13T16:07:04.747248Z",
     "start_time": "2024-03-13T16:07:04.742210Z"
    }
   },
   "id": "4009f2864a80171",
   "execution_count": 2
  },
  {
   "cell_type": "code",
   "outputs": [
    {
     "data": {
      "text/plain": "0"
     },
     "execution_count": 3,
     "metadata": {},
     "output_type": "execute_result"
    }
   ],
   "source": [
    "df1 = pd.read_csv(f'{base_path}audi.csv')\n",
    "df1.isnull().sum().sum()"
   ],
   "metadata": {
    "collapsed": false,
    "ExecuteTime": {
     "end_time": "2024-03-13T16:07:04.782802Z",
     "start_time": "2024-03-13T16:07:04.750395Z"
    }
   },
   "id": "934d39260f88460e",
   "execution_count": 3
  },
  {
   "cell_type": "code",
   "outputs": [
    {
     "name": "stdout",
     "output_type": "stream",
     "text": [
      "(10668, 9)\n",
      "Index(['model', 'year', 'price', 'transmission', 'mileage', 'fuelType', 'tax',\n",
      "       'mpg', 'engineSize'],\n",
      "      dtype='object')\n"
     ]
    }
   ],
   "source": [
    "cols = df1.columns\n",
    "print(df1.shape, cols, sep='\\n')"
   ],
   "metadata": {
    "collapsed": false,
    "ExecuteTime": {
     "end_time": "2024-03-13T16:07:04.791767Z",
     "start_time": "2024-03-13T16:07:04.784810Z"
    }
   },
   "id": "8ba23a277c524207",
   "execution_count": 4
  },
  {
   "cell_type": "code",
   "outputs": [
    {
     "name": "stdout",
     "output_type": "stream",
     "text": [
      "['transmission', 'fuelType', 'model']\n"
     ]
    }
   ],
   "source": [
    "df1 = df1.select_dtypes(include='number')\n",
    "numerical = df1.columns\n",
    "categorical = list(set(cols) - set(numerical))\n",
    "print(categorical)  # из важного (эмпирически) дропнули тип модели"
   ],
   "metadata": {
    "collapsed": false,
    "ExecuteTime": {
     "end_time": "2024-03-13T16:07:04.799143Z",
     "start_time": "2024-03-13T16:07:04.792775Z"
    }
   },
   "id": "1527699347c8b286",
   "execution_count": 5
  },
  {
   "cell_type": "code",
   "outputs": [],
   "source": [
    "rg = DecisionTreeRegressor()"
   ],
   "metadata": {
    "collapsed": false,
    "ExecuteTime": {
     "end_time": "2024-03-13T16:07:04.804900Z",
     "start_time": "2024-03-13T16:07:04.801159Z"
    }
   },
   "id": "96a42c972009888f",
   "execution_count": 6
  },
  {
   "cell_type": "code",
   "outputs": [],
   "source": [
    "X = df1.drop(columns='price')\n",
    "y = df1['price']"
   ],
   "metadata": {
    "collapsed": false,
    "ExecuteTime": {
     "end_time": "2024-03-13T16:07:04.812574Z",
     "start_time": "2024-03-13T16:07:04.806911Z"
    }
   },
   "id": "8a58ca6b2be2e8e8",
   "execution_count": 7
  },
  {
   "cell_type": "code",
   "outputs": [],
   "source": [
    "x_train, x_test, y_train, y_test = train_test_split(X, y, train_size=0.8)"
   ],
   "metadata": {
    "collapsed": false,
    "ExecuteTime": {
     "end_time": "2024-03-13T16:07:04.822173Z",
     "start_time": "2024-03-13T16:07:04.814584Z"
    }
   },
   "id": "b9377926b46fb2de",
   "execution_count": 8
  },
  {
   "cell_type": "code",
   "outputs": [
    {
     "data": {
      "text/plain": "DecisionTreeRegressor()",
      "text/html": "<style>#sk-container-id-1 {\n  /* Definition of color scheme common for light and dark mode */\n  --sklearn-color-text: black;\n  --sklearn-color-line: gray;\n  /* Definition of color scheme for unfitted estimators */\n  --sklearn-color-unfitted-level-0: #fff5e6;\n  --sklearn-color-unfitted-level-1: #f6e4d2;\n  --sklearn-color-unfitted-level-2: #ffe0b3;\n  --sklearn-color-unfitted-level-3: chocolate;\n  /* Definition of color scheme for fitted estimators */\n  --sklearn-color-fitted-level-0: #f0f8ff;\n  --sklearn-color-fitted-level-1: #d4ebff;\n  --sklearn-color-fitted-level-2: #b3dbfd;\n  --sklearn-color-fitted-level-3: cornflowerblue;\n\n  /* Specific color for light theme */\n  --sklearn-color-text-on-default-background: var(--sg-text-color, var(--theme-code-foreground, var(--jp-content-font-color1, black)));\n  --sklearn-color-background: var(--sg-background-color, var(--theme-background, var(--jp-layout-color0, white)));\n  --sklearn-color-border-box: var(--sg-text-color, var(--theme-code-foreground, var(--jp-content-font-color1, black)));\n  --sklearn-color-icon: #696969;\n\n  @media (prefers-color-scheme: dark) {\n    /* Redefinition of color scheme for dark theme */\n    --sklearn-color-text-on-default-background: var(--sg-text-color, var(--theme-code-foreground, var(--jp-content-font-color1, white)));\n    --sklearn-color-background: var(--sg-background-color, var(--theme-background, var(--jp-layout-color0, #111)));\n    --sklearn-color-border-box: var(--sg-text-color, var(--theme-code-foreground, var(--jp-content-font-color1, white)));\n    --sklearn-color-icon: #878787;\n  }\n}\n\n#sk-container-id-1 {\n  color: var(--sklearn-color-text);\n}\n\n#sk-container-id-1 pre {\n  padding: 0;\n}\n\n#sk-container-id-1 input.sk-hidden--visually {\n  border: 0;\n  clip: rect(1px 1px 1px 1px);\n  clip: rect(1px, 1px, 1px, 1px);\n  height: 1px;\n  margin: -1px;\n  overflow: hidden;\n  padding: 0;\n  position: absolute;\n  width: 1px;\n}\n\n#sk-container-id-1 div.sk-dashed-wrapped {\n  border: 1px dashed var(--sklearn-color-line);\n  margin: 0 0.4em 0.5em 0.4em;\n  box-sizing: border-box;\n  padding-bottom: 0.4em;\n  background-color: var(--sklearn-color-background);\n}\n\n#sk-container-id-1 div.sk-container {\n  /* jupyter's `normalize.less` sets `[hidden] { display: none; }`\n     but bootstrap.min.css set `[hidden] { display: none !important; }`\n     so we also need the `!important` here to be able to override the\n     default hidden behavior on the sphinx rendered scikit-learn.org.\n     See: https://github.com/scikit-learn/scikit-learn/issues/21755 */\n  display: inline-block !important;\n  position: relative;\n}\n\n#sk-container-id-1 div.sk-text-repr-fallback {\n  display: none;\n}\n\ndiv.sk-parallel-item,\ndiv.sk-serial,\ndiv.sk-item {\n  /* draw centered vertical line to link estimators */\n  background-image: linear-gradient(var(--sklearn-color-text-on-default-background), var(--sklearn-color-text-on-default-background));\n  background-size: 2px 100%;\n  background-repeat: no-repeat;\n  background-position: center center;\n}\n\n/* Parallel-specific style estimator block */\n\n#sk-container-id-1 div.sk-parallel-item::after {\n  content: \"\";\n  width: 100%;\n  border-bottom: 2px solid var(--sklearn-color-text-on-default-background);\n  flex-grow: 1;\n}\n\n#sk-container-id-1 div.sk-parallel {\n  display: flex;\n  align-items: stretch;\n  justify-content: center;\n  background-color: var(--sklearn-color-background);\n  position: relative;\n}\n\n#sk-container-id-1 div.sk-parallel-item {\n  display: flex;\n  flex-direction: column;\n}\n\n#sk-container-id-1 div.sk-parallel-item:first-child::after {\n  align-self: flex-end;\n  width: 50%;\n}\n\n#sk-container-id-1 div.sk-parallel-item:last-child::after {\n  align-self: flex-start;\n  width: 50%;\n}\n\n#sk-container-id-1 div.sk-parallel-item:only-child::after {\n  width: 0;\n}\n\n/* Serial-specific style estimator block */\n\n#sk-container-id-1 div.sk-serial {\n  display: flex;\n  flex-direction: column;\n  align-items: center;\n  background-color: var(--sklearn-color-background);\n  padding-right: 1em;\n  padding-left: 1em;\n}\n\n\n/* Toggleable style: style used for estimator/Pipeline/ColumnTransformer box that is\nclickable and can be expanded/collapsed.\n- Pipeline and ColumnTransformer use this feature and define the default style\n- Estimators will overwrite some part of the style using the `sk-estimator` class\n*/\n\n/* Pipeline and ColumnTransformer style (default) */\n\n#sk-container-id-1 div.sk-toggleable {\n  /* Default theme specific background. It is overwritten whether we have a\n  specific estimator or a Pipeline/ColumnTransformer */\n  background-color: var(--sklearn-color-background);\n}\n\n/* Toggleable label */\n#sk-container-id-1 label.sk-toggleable__label {\n  cursor: pointer;\n  display: block;\n  width: 100%;\n  margin-bottom: 0;\n  padding: 0.5em;\n  box-sizing: border-box;\n  text-align: center;\n}\n\n#sk-container-id-1 label.sk-toggleable__label-arrow:before {\n  /* Arrow on the left of the label */\n  content: \"▸\";\n  float: left;\n  margin-right: 0.25em;\n  color: var(--sklearn-color-icon);\n}\n\n#sk-container-id-1 label.sk-toggleable__label-arrow:hover:before {\n  color: var(--sklearn-color-text);\n}\n\n/* Toggleable content - dropdown */\n\n#sk-container-id-1 div.sk-toggleable__content {\n  max-height: 0;\n  max-width: 0;\n  overflow: hidden;\n  text-align: left;\n  /* unfitted */\n  background-color: var(--sklearn-color-unfitted-level-0);\n}\n\n#sk-container-id-1 div.sk-toggleable__content.fitted {\n  /* fitted */\n  background-color: var(--sklearn-color-fitted-level-0);\n}\n\n#sk-container-id-1 div.sk-toggleable__content pre {\n  margin: 0.2em;\n  border-radius: 0.25em;\n  color: var(--sklearn-color-text);\n  /* unfitted */\n  background-color: var(--sklearn-color-unfitted-level-0);\n}\n\n#sk-container-id-1 div.sk-toggleable__content.fitted pre {\n  /* unfitted */\n  background-color: var(--sklearn-color-fitted-level-0);\n}\n\n#sk-container-id-1 input.sk-toggleable__control:checked~div.sk-toggleable__content {\n  /* Expand drop-down */\n  max-height: 200px;\n  max-width: 100%;\n  overflow: auto;\n}\n\n#sk-container-id-1 input.sk-toggleable__control:checked~label.sk-toggleable__label-arrow:before {\n  content: \"▾\";\n}\n\n/* Pipeline/ColumnTransformer-specific style */\n\n#sk-container-id-1 div.sk-label input.sk-toggleable__control:checked~label.sk-toggleable__label {\n  color: var(--sklearn-color-text);\n  background-color: var(--sklearn-color-unfitted-level-2);\n}\n\n#sk-container-id-1 div.sk-label.fitted input.sk-toggleable__control:checked~label.sk-toggleable__label {\n  background-color: var(--sklearn-color-fitted-level-2);\n}\n\n/* Estimator-specific style */\n\n/* Colorize estimator box */\n#sk-container-id-1 div.sk-estimator input.sk-toggleable__control:checked~label.sk-toggleable__label {\n  /* unfitted */\n  background-color: var(--sklearn-color-unfitted-level-2);\n}\n\n#sk-container-id-1 div.sk-estimator.fitted input.sk-toggleable__control:checked~label.sk-toggleable__label {\n  /* fitted */\n  background-color: var(--sklearn-color-fitted-level-2);\n}\n\n#sk-container-id-1 div.sk-label label.sk-toggleable__label,\n#sk-container-id-1 div.sk-label label {\n  /* The background is the default theme color */\n  color: var(--sklearn-color-text-on-default-background);\n}\n\n/* On hover, darken the color of the background */\n#sk-container-id-1 div.sk-label:hover label.sk-toggleable__label {\n  color: var(--sklearn-color-text);\n  background-color: var(--sklearn-color-unfitted-level-2);\n}\n\n/* Label box, darken color on hover, fitted */\n#sk-container-id-1 div.sk-label.fitted:hover label.sk-toggleable__label.fitted {\n  color: var(--sklearn-color-text);\n  background-color: var(--sklearn-color-fitted-level-2);\n}\n\n/* Estimator label */\n\n#sk-container-id-1 div.sk-label label {\n  font-family: monospace;\n  font-weight: bold;\n  display: inline-block;\n  line-height: 1.2em;\n}\n\n#sk-container-id-1 div.sk-label-container {\n  text-align: center;\n}\n\n/* Estimator-specific */\n#sk-container-id-1 div.sk-estimator {\n  font-family: monospace;\n  border: 1px dotted var(--sklearn-color-border-box);\n  border-radius: 0.25em;\n  box-sizing: border-box;\n  margin-bottom: 0.5em;\n  /* unfitted */\n  background-color: var(--sklearn-color-unfitted-level-0);\n}\n\n#sk-container-id-1 div.sk-estimator.fitted {\n  /* fitted */\n  background-color: var(--sklearn-color-fitted-level-0);\n}\n\n/* on hover */\n#sk-container-id-1 div.sk-estimator:hover {\n  /* unfitted */\n  background-color: var(--sklearn-color-unfitted-level-2);\n}\n\n#sk-container-id-1 div.sk-estimator.fitted:hover {\n  /* fitted */\n  background-color: var(--sklearn-color-fitted-level-2);\n}\n\n/* Specification for estimator info (e.g. \"i\" and \"?\") */\n\n/* Common style for \"i\" and \"?\" */\n\n.sk-estimator-doc-link,\na:link.sk-estimator-doc-link,\na:visited.sk-estimator-doc-link {\n  float: right;\n  font-size: smaller;\n  line-height: 1em;\n  font-family: monospace;\n  background-color: var(--sklearn-color-background);\n  border-radius: 1em;\n  height: 1em;\n  width: 1em;\n  text-decoration: none !important;\n  margin-left: 1ex;\n  /* unfitted */\n  border: var(--sklearn-color-unfitted-level-1) 1pt solid;\n  color: var(--sklearn-color-unfitted-level-1);\n}\n\n.sk-estimator-doc-link.fitted,\na:link.sk-estimator-doc-link.fitted,\na:visited.sk-estimator-doc-link.fitted {\n  /* fitted */\n  border: var(--sklearn-color-fitted-level-1) 1pt solid;\n  color: var(--sklearn-color-fitted-level-1);\n}\n\n/* On hover */\ndiv.sk-estimator:hover .sk-estimator-doc-link:hover,\n.sk-estimator-doc-link:hover,\ndiv.sk-label-container:hover .sk-estimator-doc-link:hover,\n.sk-estimator-doc-link:hover {\n  /* unfitted */\n  background-color: var(--sklearn-color-unfitted-level-3);\n  color: var(--sklearn-color-background);\n  text-decoration: none;\n}\n\ndiv.sk-estimator.fitted:hover .sk-estimator-doc-link.fitted:hover,\n.sk-estimator-doc-link.fitted:hover,\ndiv.sk-label-container:hover .sk-estimator-doc-link.fitted:hover,\n.sk-estimator-doc-link.fitted:hover {\n  /* fitted */\n  background-color: var(--sklearn-color-fitted-level-3);\n  color: var(--sklearn-color-background);\n  text-decoration: none;\n}\n\n/* Span, style for the box shown on hovering the info icon */\n.sk-estimator-doc-link span {\n  display: none;\n  z-index: 9999;\n  position: relative;\n  font-weight: normal;\n  right: .2ex;\n  padding: .5ex;\n  margin: .5ex;\n  width: min-content;\n  min-width: 20ex;\n  max-width: 50ex;\n  color: var(--sklearn-color-text);\n  box-shadow: 2pt 2pt 4pt #999;\n  /* unfitted */\n  background: var(--sklearn-color-unfitted-level-0);\n  border: .5pt solid var(--sklearn-color-unfitted-level-3);\n}\n\n.sk-estimator-doc-link.fitted span {\n  /* fitted */\n  background: var(--sklearn-color-fitted-level-0);\n  border: var(--sklearn-color-fitted-level-3);\n}\n\n.sk-estimator-doc-link:hover span {\n  display: block;\n}\n\n/* \"?\"-specific style due to the `<a>` HTML tag */\n\n#sk-container-id-1 a.estimator_doc_link {\n  float: right;\n  font-size: 1rem;\n  line-height: 1em;\n  font-family: monospace;\n  background-color: var(--sklearn-color-background);\n  border-radius: 1rem;\n  height: 1rem;\n  width: 1rem;\n  text-decoration: none;\n  /* unfitted */\n  color: var(--sklearn-color-unfitted-level-1);\n  border: var(--sklearn-color-unfitted-level-1) 1pt solid;\n}\n\n#sk-container-id-1 a.estimator_doc_link.fitted {\n  /* fitted */\n  border: var(--sklearn-color-fitted-level-1) 1pt solid;\n  color: var(--sklearn-color-fitted-level-1);\n}\n\n/* On hover */\n#sk-container-id-1 a.estimator_doc_link:hover {\n  /* unfitted */\n  background-color: var(--sklearn-color-unfitted-level-3);\n  color: var(--sklearn-color-background);\n  text-decoration: none;\n}\n\n#sk-container-id-1 a.estimator_doc_link.fitted:hover {\n  /* fitted */\n  background-color: var(--sklearn-color-fitted-level-3);\n}\n</style><div id=\"sk-container-id-1\" class=\"sk-top-container\"><div class=\"sk-text-repr-fallback\"><pre>DecisionTreeRegressor()</pre><b>In a Jupyter environment, please rerun this cell to show the HTML representation or trust the notebook. <br />On GitHub, the HTML representation is unable to render, please try loading this page with nbviewer.org.</b></div><div class=\"sk-container\" hidden><div class=\"sk-item\"><div class=\"sk-estimator fitted sk-toggleable\"><input class=\"sk-toggleable__control sk-hidden--visually\" id=\"sk-estimator-id-1\" type=\"checkbox\" checked><label for=\"sk-estimator-id-1\" class=\"sk-toggleable__label fitted sk-toggleable__label-arrow fitted\">&nbsp;&nbsp;DecisionTreeRegressor<a class=\"sk-estimator-doc-link fitted\" rel=\"noreferrer\" target=\"_blank\" href=\"https://scikit-learn.org/1.4/modules/generated/sklearn.tree.DecisionTreeRegressor.html\">?<span>Documentation for DecisionTreeRegressor</span></a><span class=\"sk-estimator-doc-link fitted\">i<span>Fitted</span></span></label><div class=\"sk-toggleable__content fitted\"><pre>DecisionTreeRegressor()</pre></div> </div></div></div></div>"
     },
     "execution_count": 9,
     "metadata": {},
     "output_type": "execute_result"
    }
   ],
   "source": [
    "rg.fit(x_train, y_train)"
   ],
   "metadata": {
    "collapsed": false,
    "ExecuteTime": {
     "end_time": "2024-03-13T16:07:04.861558Z",
     "start_time": "2024-03-13T16:07:04.823184Z"
    }
   },
   "id": "51fc083ead14cd07",
   "execution_count": 9
  },
  {
   "cell_type": "code",
   "outputs": [
    {
     "data": {
      "text/plain": "0.9075514187540915"
     },
     "execution_count": 10,
     "metadata": {},
     "output_type": "execute_result"
    }
   ],
   "source": [
    "y_pred = rg.predict(x_test)\n",
    "r2score = r2_score(y_pred, y_test)\n",
    "r2score"
   ],
   "metadata": {
    "collapsed": false,
    "ExecuteTime": {
     "end_time": "2024-03-13T16:07:04.872913Z",
     "start_time": "2024-03-13T16:07:04.862565Z"
    }
   },
   "id": "1d9a4f0b8e41e8be",
   "execution_count": 10
  },
  {
   "cell_type": "code",
   "outputs": [
    {
     "data": {
      "text/plain": "<Figure size 640x480 with 1 Axes>",
      "image/png": "[encoded data removed]"
     },
     "metadata": {},
     "output_type": "display_data"
    }
   ],
   "source": [
    "res = pd.DataFrame({\"names\": rg.feature_names_in_, \"val\": rg.feature_importances_})\n",
    "graph = sns.barplot(x=res.names, y=res.val)\n",
    "graph.set_title(\"Features importance\");"
   ],
   "metadata": {
    "collapsed": false,
    "ExecuteTime": {
     "end_time": "2024-03-13T16:07:05.343971Z",
     "start_time": "2024-03-13T16:07:04.874923Z"
    }
   },
   "id": "f4eacc9eed313e52",
   "execution_count": 11
  },
  {
   "cell_type": "markdown",
   "source": [
    "Имеет среднее значение год регистрации (насколько машина старая), объем бака. Что удивительно, примерно вдвое более важным оказался удельный расход бензина, и совершенно неважен налог (да и пробег не особо). Можно попробовать обучить модельку без него."
   ],
   "metadata": {
    "collapsed": false
   },
   "id": "27e5110e70ca5aaa"
  },
  {
   "cell_type": "markdown",
   "source": [
    "## Normal\n",
    "\n",
    "Объединить в один датафрейм данные по всем маркам машин. Преобразовать категориальные признаки.\n",
    "\n",
    "Построить еще несколько моделей, используя подбор гиперпараметров. Сравнить между собой все построенные модели."
   ],
   "metadata": {
    "collapsed": false
   },
   "id": "94d703d628cd1b99"
  },
  {
   "cell_type": "code",
   "outputs": [
    {
     "data": {
      "text/plain": "(0, 0)"
     },
     "execution_count": 12,
     "metadata": {},
     "output_type": "execute_result"
    }
   ],
   "source": [
    "df = pd.DataFrame()\n",
    "df.shape"
   ],
   "metadata": {
    "collapsed": false,
    "ExecuteTime": {
     "end_time": "2024-03-13T16:07:05.356978Z",
     "start_time": "2024-03-13T16:07:05.348978Z"
    }
   },
   "id": "e49040928a9cc2ed",
   "execution_count": 12
  },
  {
   "cell_type": "code",
   "outputs": [],
   "source": [
    "for path in os.listdir(base_path):\n",
    "    if 'unclean' not in path:\n",
    "        data = pd.read_csv(f'{base_path}{path}')\n",
    "        df = pd.concat([df, data])"
   ],
   "metadata": {
    "collapsed": false,
    "ExecuteTime": {
     "end_time": "2024-03-13T16:07:05.691276Z",
     "start_time": "2024-03-13T16:07:05.359978Z"
    }
   },
   "id": "58bcdd09af7dfc87",
   "execution_count": 13
  },
  {
   "cell_type": "code",
   "outputs": [
    {
     "name": "stdout",
     "output_type": "stream",
     "text": [
      "(108540, 10)\n",
      "['model', 'year', 'price', 'transmission', 'mileage', 'fuelType', 'tax', 'mpg', 'engineSize', 'tax(£)']\n",
      "model                0\n",
      "year                 0\n",
      "price                0\n",
      "transmission         0\n",
      "mileage              0\n",
      "fuelType             0\n",
      "tax              14213\n",
      "mpg               9353\n",
      "engineSize           0\n",
      "tax(£)          103680\n",
      "dtype: int64\n"
     ]
    }
   ],
   "source": [
    "print(df.shape, df.columns.tolist(), df.isna().sum(axis=0), sep='\\n')"
   ],
   "metadata": {
    "collapsed": false,
    "ExecuteTime": {
     "end_time": "2024-03-13T16:07:05.724501Z",
     "start_time": "2024-03-13T16:07:05.693284Z"
    }
   },
   "id": "e7be88e0c671245e",
   "execution_count": 14
  },
  {
   "cell_type": "markdown",
   "source": [
    "### Поработаем с выбросами"
   ],
   "metadata": {
    "collapsed": false
   },
   "id": "9984c4c7423637a0"
  },
  {
   "cell_type": "code",
   "outputs": [
    {
     "data": {
      "text/plain": "0"
     },
     "execution_count": 15,
     "metadata": {},
     "output_type": "execute_result"
    }
   ],
   "source": [
    "taxna = df.tax.isna()\n",
    "tax2 = 'tax(£)'\n",
    "tax2na = df[tax2].isna()\n",
    "samples = df[(~taxna) & (~tax2na)]  #.filter(regex=\"tax*\")\n",
    "samples.shape[0]"
   ],
   "metadata": {
    "collapsed": false,
    "ExecuteTime": {
     "end_time": "2024-03-13T16:07:05.736577Z",
     "start_time": "2024-03-13T16:07:05.726510Z"
    }
   },
   "id": "1a82449e8c7addee",
   "execution_count": 15
  },
  {
   "cell_type": "code",
   "outputs": [
    {
     "data": {
      "text/plain": "9353"
     },
     "execution_count": 16,
     "metadata": {},
     "output_type": "execute_result"
    }
   ],
   "source": [
    "df.loc[taxna, 'tax'] = df[taxna]['tax(£)']\n",
    "df.tax.isna().sum()"
   ],
   "metadata": {
    "collapsed": false,
    "ExecuteTime": {
     "end_time": "2024-03-13T16:07:05.750458Z",
     "start_time": "2024-03-13T16:07:05.738586Z"
    }
   },
   "id": "3d4b1391fa29206",
   "execution_count": 16
  },
  {
   "cell_type": "code",
   "outputs": [
    {
     "data": {
      "text/plain": "(108540, 9)"
     },
     "execution_count": 17,
     "metadata": {},
     "output_type": "execute_result"
    }
   ],
   "source": [
    "df.drop(columns=tax2, inplace=True)\n",
    "df.shape"
   ],
   "metadata": {
    "collapsed": false,
    "ExecuteTime": {
     "end_time": "2024-03-13T16:07:05.772974Z",
     "start_time": "2024-03-13T16:07:05.752467Z"
    }
   },
   "id": "b088fe5f2caea386",
   "execution_count": 17
  },
  {
   "cell_type": "code",
   "outputs": [
    {
     "data": {
      "text/plain": "0"
     },
     "execution_count": 18,
     "metadata": {},
     "output_type": "execute_result"
    }
   ],
   "source": [
    "taxna = df.tax.isna()\n",
    "(\n",
    "            df.mpg.isna() != taxna).sum()  # как видим, теперь нули только в каких-то одинаковых семплах, видимо, в одной из моделек"
   ],
   "metadata": {
    "collapsed": false,
    "ExecuteTime": {
     "end_time": "2024-03-13T16:07:05.784041Z",
     "start_time": "2024-03-13T16:07:05.774982Z"
    }
   },
   "id": "8ea5ee554df2c811",
   "execution_count": 18
  },
  {
   "cell_type": "code",
   "outputs": [
    {
     "data": {
      "text/plain": "model\nFocus      5454\nC Class    3899\nName: count, dtype: int64"
     },
     "execution_count": 19,
     "metadata": {},
     "output_type": "execute_result"
    }
   ],
   "source": [
    "nuls_models = df[taxna].model.value_counts()  # на самом деле, в двух\n",
    "nuls_models"
   ],
   "metadata": {
    "collapsed": false,
    "ExecuteTime": {
     "end_time": "2024-03-13T16:07:05.797720Z",
     "start_time": "2024-03-13T16:07:05.786048Z"
    }
   },
   "id": "6bcedba63b16db",
   "execution_count": 19
  },
  {
   "cell_type": "markdown",
   "source": [
    "### И с категориальными"
   ],
   "metadata": {
    "collapsed": false
   },
   "id": "1e2b8762ebd87fe9"
  },
  {
   "cell_type": "code",
   "outputs": [
    {
     "name": "stdout",
     "output_type": "stream",
     "text": [
      "transmission\n",
      "Manual       61308\n",
      "Semi-Auto    24903\n",
      "Automatic    22319\n",
      "Other           10\n",
      "Name: count, dtype: int64\n",
      "=========\n",
      "fuelType\n",
      "Petrol      59875\n",
      "Diesel      45177\n",
      "Hybrid       3229\n",
      "Other         253\n",
      "Electric        6\n",
      "Name: count, dtype: int64\n",
      "=========\n",
      "model\n",
      " Focus      10042\n",
      " C Class     7646\n",
      " Fiesta      6557\n",
      " Golf        4863\n",
      " Corsa       3441\n",
      "            ...  \n",
      "180             1\n",
      "230             1\n",
      "220             1\n",
      "200             1\n",
      " Accent         1\n",
      "Name: count, Length: 195, dtype: int64\n",
      "=========\n"
     ]
    }
   ],
   "source": [
    "for col in categorical:\n",
    "    print(df[col].value_counts(), end=\"\\n=========\\n\")"
   ],
   "metadata": {
    "collapsed": false,
    "ExecuteTime": {
     "end_time": "2024-03-13T16:07:05.844298Z",
     "start_time": "2024-03-13T16:07:05.799728Z"
    }
   },
   "id": "d7010098c5df94a7",
   "execution_count": 20
  },
  {
   "cell_type": "code",
   "outputs": [],
   "source": [
    "params = {\n",
    "    \"splitter\": [\"best\", \"random\"],\n",
    "    \"max_depth\": [None, *list(range(2, 20 + 1, 2))],\n",
    "    \"min_samples_split\": [2, 5, 0.02],\n",
    "    \"max_features\": [None, \"sqrt\", \"log2\"],\n",
    "    \"ccp_alpha\": [0.001, 0.005, 0.01, 0.02]\n",
    "}"
   ],
   "metadata": {
    "collapsed": false,
    "ExecuteTime": {
     "end_time": "2024-03-13T16:07:05.851958Z",
     "start_time": "2024-03-13T16:07:05.846306Z"
    }
   },
   "id": "ca431eae85cb013f",
   "execution_count": 21
  },
  {
   "cell_type": "code",
   "outputs": [
    {
     "name": "stdout",
     "output_type": "stream",
     "text": [
      "Fitting 5 folds for each of 100 candidates, totalling 500 fits\n",
      "[CV] END ccp_alpha=0.02, max_depth=10, max_features=sqrt, min_samples_split=0.02, splitter=best; total time=   0.0s\n",
      "[CV] END ccp_alpha=0.02, max_depth=10, max_features=sqrt, min_samples_split=0.02, splitter=best; total time=   0.0s\n",
      "[CV] END ccp_alpha=0.02, max_depth=10, max_features=sqrt, min_samples_split=0.02, splitter=best; total time=   0.0s\n",
      "[CV] END ccp_alpha=0.02, max_depth=10, max_features=sqrt, min_samples_split=0.02, splitter=best; total time=   0.0s\n",
      "[CV] END ccp_alpha=0.02, max_depth=10, max_features=sqrt, min_samples_split=0.02, splitter=best; total time=   0.0s\n",
      "[CV] END ccp_alpha=0.01, max_depth=14, max_features=sqrt, min_samples_split=2, splitter=best; total time=   0.0s\n",
      "[CV] END ccp_alpha=0.01, max_depth=14, max_features=sqrt, min_samples_split=2, splitter=best; total time=   0.0s\n",
      "[CV] END ccp_alpha=0.01, max_depth=14, max_features=sqrt, min_samples_split=2, splitter=best; total time=   0.0s\n",
      "[CV] END ccp_alpha=0.01, max_depth=14, max_features=sqrt, min_samples_split=2, splitter=best; total time=   0.0s\n",
      "[CV] END ccp_alpha=0.01, max_depth=14, max_features=sqrt, min_samples_split=2, splitter=best; total time=   0.0s\n",
      "[CV] END ccp_alpha=0.02, max_depth=None, max_features=None, min_samples_split=0.02, splitter=best; total time=   0.0s\n",
      "[CV] END ccp_alpha=0.02, max_depth=None, max_features=None, min_samples_split=0.02, splitter=best; total time=   0.0s\n",
      "[CV] END ccp_alpha=0.02, max_depth=None, max_features=None, min_samples_split=0.02, splitter=best; total time=   0.0s\n",
      "[CV] END ccp_alpha=0.02, max_depth=None, max_features=None, min_samples_split=0.02, splitter=best; total time=   0.0s\n",
      "[CV] END ccp_alpha=0.02, max_depth=None, max_features=None, min_samples_split=0.02, splitter=best; total time=   0.0s\n",
      "[CV] END ccp_alpha=0.02, max_depth=None, max_features=log2, min_samples_split=2, splitter=best; total time=   0.0s\n",
      "[CV] END ccp_alpha=0.02, max_depth=None, max_features=log2, min_samples_split=2, splitter=best; total time=   0.0s\n",
      "[CV] END ccp_alpha=0.02, max_depth=None, max_features=log2, min_samples_split=2, splitter=best; total time=   0.0s\n",
      "[CV] END ccp_alpha=0.02, max_depth=None, max_features=log2, min_samples_split=2, splitter=best; total time=   0.0s\n",
      "[CV] END ccp_alpha=0.02, max_depth=None, max_features=log2, min_samples_split=2, splitter=best; total time=   0.0s\n",
      "[CV] END ccp_alpha=0.001, max_depth=12, max_features=log2, min_samples_split=2, splitter=best; total time=   0.0s\n",
      "[CV] END ccp_alpha=0.001, max_depth=12, max_features=log2, min_samples_split=2, splitter=best; total time=   0.0s\n",
      "[CV] END ccp_alpha=0.001, max_depth=12, max_features=log2, min_samples_split=2, splitter=best; total time=   0.0s\n",
      "[CV] END ccp_alpha=0.001, max_depth=12, max_features=log2, min_samples_split=2, splitter=best; total time=   0.0s\n",
      "[CV] END ccp_alpha=0.001, max_depth=12, max_features=log2, min_samples_split=2, splitter=best; total time=   0.0s\n",
      "[CV] END ccp_alpha=0.001, max_depth=6, max_features=sqrt, min_samples_split=5, splitter=random; total time=   0.0s\n",
      "[CV] END ccp_alpha=0.001, max_depth=6, max_features=sqrt, min_samples_split=5, splitter=random; total time=   0.0s\n",
      "[CV] END ccp_alpha=0.001, max_depth=6, max_features=sqrt, min_samples_split=5, splitter=random; total time=   0.0s\n",
      "[CV] END ccp_alpha=0.001, max_depth=6, max_features=sqrt, min_samples_split=5, splitter=random; total time=   0.0s\n",
      "[CV] END ccp_alpha=0.001, max_depth=6, max_features=sqrt, min_samples_split=5, splitter=random; total time=   0.0s\n",
      "[CV] END ccp_alpha=0.005, max_depth=8, max_features=sqrt, min_samples_split=0.02, splitter=random; total time=   0.0s\n",
      "[CV] END ccp_alpha=0.005, max_depth=8, max_features=sqrt, min_samples_split=0.02, splitter=random; total time=   0.0s\n",
      "[CV] END ccp_alpha=0.005, max_depth=8, max_features=sqrt, min_samples_split=0.02, splitter=random; total time=   0.0s\n",
      "[CV] END ccp_alpha=0.005, max_depth=8, max_features=sqrt, min_samples_split=0.02, splitter=random; total time=   0.0s\n",
      "[CV] END ccp_alpha=0.005, max_depth=8, max_features=sqrt, min_samples_split=0.02, splitter=random; total time=   0.0s\n",
      "[CV] END ccp_alpha=0.01, max_depth=12, max_features=sqrt, min_samples_split=0.02, splitter=random; total time=   0.0s\n",
      "[CV] END ccp_alpha=0.01, max_depth=12, max_features=sqrt, min_samples_split=0.02, splitter=random; total time=   0.0s\n",
      "[CV] END ccp_alpha=0.01, max_depth=12, max_features=sqrt, min_samples_split=0.02, splitter=random; total time=   0.0s\n",
      "[CV] END ccp_alpha=0.01, max_depth=12, max_features=sqrt, min_samples_split=0.02, splitter=random; total time=   0.0s\n",
      "[CV] END ccp_alpha=0.01, max_depth=12, max_features=sqrt, min_samples_split=0.02, splitter=random; total time=   0.0s\n",
      "[CV] END ccp_alpha=0.001, max_depth=14, max_features=sqrt, min_samples_split=0.02, splitter=random; total time=   0.0s\n",
      "[CV] END ccp_alpha=0.001, max_depth=14, max_features=sqrt, min_samples_split=0.02, splitter=random; total time=   0.0s\n",
      "[CV] END ccp_alpha=0.001, max_depth=14, max_features=sqrt, min_samples_split=0.02, splitter=random; total time=   0.0s\n",
      "[CV] END ccp_alpha=0.001, max_depth=14, max_features=sqrt, min_samples_split=0.02, splitter=random; total time=   0.0s\n",
      "[CV] END ccp_alpha=0.001, max_depth=14, max_features=sqrt, min_samples_split=0.02, splitter=random; total time=   0.0s\n",
      "[CV] END ccp_alpha=0.01, max_depth=20, max_features=sqrt, min_samples_split=0.02, splitter=random; total time=   0.0s\n",
      "[CV] END ccp_alpha=0.01, max_depth=20, max_features=sqrt, min_samples_split=0.02, splitter=random; total time=   0.0s\n",
      "[CV] END ccp_alpha=0.01, max_depth=20, max_features=sqrt, min_samples_split=0.02, splitter=random; total time=   0.0s\n",
      "[CV] END ccp_alpha=0.01, max_depth=20, max_features=sqrt, min_samples_split=0.02, splitter=random; total time=   0.0s\n",
      "[CV] END ccp_alpha=0.01, max_depth=20, max_features=sqrt, min_samples_split=0.02, splitter=random; total time=   0.0s\n",
      "[CV] END ccp_alpha=0.005, max_depth=None, max_features=sqrt, min_samples_split=2, splitter=best; total time=   0.0s\n",
      "[CV] END ccp_alpha=0.005, max_depth=None, max_features=sqrt, min_samples_split=2, splitter=best; total time=   0.0s\n",
      "[CV] END ccp_alpha=0.005, max_depth=None, max_features=sqrt, min_samples_split=2, splitter=best; total time=   0.0s\n",
      "[CV] END ccp_alpha=0.005, max_depth=None, max_features=sqrt, min_samples_split=2, splitter=best; total time=   0.0s\n",
      "[CV] END ccp_alpha=0.005, max_depth=None, max_features=sqrt, min_samples_split=2, splitter=best; total time=   0.0s\n",
      "[CV] END ccp_alpha=0.005, max_depth=2, max_features=None, min_samples_split=5, splitter=best; total time=   0.0s\n",
      "[CV] END ccp_alpha=0.005, max_depth=2, max_features=None, min_samples_split=5, splitter=best; total time=   0.0s\n",
      "[CV] END ccp_alpha=0.005, max_depth=2, max_features=None, min_samples_split=5, splitter=best; total time=   0.0s\n",
      "[CV] END ccp_alpha=0.005, max_depth=2, max_features=None, min_samples_split=5, splitter=best; total time=   0.0s\n",
      "[CV] END ccp_alpha=0.005, max_depth=2, max_features=None, min_samples_split=5, splitter=best; total time=   0.0s\n",
      "[CV] END ccp_alpha=0.005, max_depth=2, max_features=log2, min_samples_split=5, splitter=random; total time=   0.0s\n",
      "[CV] END ccp_alpha=0.005, max_depth=2, max_features=log2, min_samples_split=5, splitter=random; total time=   0.0s\n",
      "[CV] END ccp_alpha=0.005, max_depth=2, max_features=log2, min_samples_split=5, splitter=random; total time=   0.0s\n",
      "[CV] END ccp_alpha=0.005, max_depth=2, max_features=log2, min_samples_split=5, splitter=random; total time=   0.0s\n",
      "[CV] END ccp_alpha=0.005, max_depth=2, max_features=log2, min_samples_split=5, splitter=random; total time=   0.0s\n",
      "[CV] END ccp_alpha=0.001, max_depth=6, max_features=log2, min_samples_split=2, splitter=best; total time=   0.0s\n",
      "[CV] END ccp_alpha=0.001, max_depth=6, max_features=log2, min_samples_split=2, splitter=best; total time=   0.0s\n",
      "[CV] END ccp_alpha=0.001, max_depth=6, max_features=log2, min_samples_split=2, splitter=best; total time=   0.0s\n",
      "[CV] END ccp_alpha=0.001, max_depth=6, max_features=log2, min_samples_split=2, splitter=best; total time=   0.0s\n",
      "[CV] END ccp_alpha=0.001, max_depth=6, max_features=log2, min_samples_split=2, splitter=best; total time=   0.0s\n",
      "[CV] END ccp_alpha=0.005, max_depth=None, max_features=log2, min_samples_split=5, splitter=random; total time=   0.0s\n",
      "[CV] END ccp_alpha=0.005, max_depth=None, max_features=log2, min_samples_split=5, splitter=random; total time=   0.0s\n",
      "[CV] END ccp_alpha=0.005, max_depth=None, max_features=log2, min_samples_split=5, splitter=random; total time=   0.0s\n",
      "[CV] END ccp_alpha=0.005, max_depth=None, max_features=log2, min_samples_split=5, splitter=random; total time=   0.0s\n",
      "[CV] END ccp_alpha=0.005, max_depth=None, max_features=log2, min_samples_split=5, splitter=random; total time=   0.0s\n",
      "[CV] END ccp_alpha=0.02, max_depth=16, max_features=log2, min_samples_split=0.02, splitter=best; total time=   0.0s\n",
      "[CV] END ccp_alpha=0.02, max_depth=16, max_features=log2, min_samples_split=0.02, splitter=best; total time=   0.0s\n",
      "[CV] END ccp_alpha=0.02, max_depth=16, max_features=log2, min_samples_split=0.02, splitter=best; total time=   0.0s\n",
      "[CV] END ccp_alpha=0.02, max_depth=16, max_features=log2, min_samples_split=0.02, splitter=best; total time=   0.0s\n",
      "[CV] END ccp_alpha=0.02, max_depth=16, max_features=log2, min_samples_split=0.02, splitter=best; total time=   0.0s\n",
      "[CV] END ccp_alpha=0.005, max_depth=4, max_features=None, min_samples_split=2, splitter=random; total time=   0.0s\n",
      "[CV] END ccp_alpha=0.005, max_depth=4, max_features=None, min_samples_split=2, splitter=random; total time=   0.0s\n",
      "[CV] END ccp_alpha=0.005, max_depth=4, max_features=None, min_samples_split=2, splitter=random; total time=   0.0s\n",
      "[CV] END ccp_alpha=0.005, max_depth=4, max_features=None, min_samples_split=2, splitter=random; total time=   0.0s\n",
      "[CV] END ccp_alpha=0.005, max_depth=4, max_features=None, min_samples_split=2, splitter=random; total time=   0.0s\n",
      "[CV] END ccp_alpha=0.001, max_depth=12, max_features=sqrt, min_samples_split=0.02, splitter=best; total time=   0.0s\n",
      "[CV] END ccp_alpha=0.001, max_depth=12, max_features=sqrt, min_samples_split=0.02, splitter=best; total time=   0.0s\n",
      "[CV] END ccp_alpha=0.001, max_depth=12, max_features=sqrt, min_samples_split=0.02, splitter=best; total time=   0.0s\n",
      "[CV] END ccp_alpha=0.001, max_depth=12, max_features=sqrt, min_samples_split=0.02, splitter=best; total time=   0.0s\n",
      "[CV] END ccp_alpha=0.001, max_depth=12, max_features=sqrt, min_samples_split=0.02, splitter=best; total time=   0.0s\n",
      "[CV] END ccp_alpha=0.02, max_depth=12, max_features=sqrt, min_samples_split=5, splitter=random; total time=   0.0s\n",
      "[CV] END ccp_alpha=0.02, max_depth=12, max_features=sqrt, min_samples_split=5, splitter=random; total time=   0.0s\n",
      "[CV] END ccp_alpha=0.02, max_depth=12, max_features=sqrt, min_samples_split=5, splitter=random; total time=   0.0s\n",
      "[CV] END ccp_alpha=0.02, max_depth=12, max_features=sqrt, min_samples_split=5, splitter=random; total time=   0.0s\n",
      "[CV] END ccp_alpha=0.02, max_depth=12, max_features=sqrt, min_samples_split=5, splitter=random; total time=   0.0s\n",
      "[CV] END ccp_alpha=0.01, max_depth=14, max_features=None, min_samples_split=2, splitter=best; total time=   0.0s\n",
      "[CV] END ccp_alpha=0.01, max_depth=14, max_features=None, min_samples_split=2, splitter=best; total time=   0.0s\n",
      "[CV] END ccp_alpha=0.01, max_depth=14, max_features=None, min_samples_split=2, splitter=best; total time=   0.0s\n",
      "[CV] END ccp_alpha=0.01, max_depth=14, max_features=None, min_samples_split=2, splitter=best; total time=   0.0s\n",
      "[CV] END ccp_alpha=0.01, max_depth=14, max_features=None, min_samples_split=2, splitter=best; total time=   0.0s\n",
      "[CV] END ccp_alpha=0.01, max_depth=None, max_features=log2, min_samples_split=5, splitter=random; total time=   0.0s\n",
      "[CV] END ccp_alpha=0.01, max_depth=None, max_features=log2, min_samples_split=5, splitter=random; total time=   0.0s\n",
      "[CV] END ccp_alpha=0.01, max_depth=None, max_features=log2, min_samples_split=5, splitter=random; total time=   0.0s\n",
      "[CV] END ccp_alpha=0.01, max_depth=None, max_features=log2, min_samples_split=5, splitter=random; total time=   0.0s\n",
      "[CV] END ccp_alpha=0.01, max_depth=None, max_features=log2, min_samples_split=5, splitter=random; total time=   0.0s\n",
      "[CV] END ccp_alpha=0.001, max_depth=20, max_features=log2, min_samples_split=0.02, splitter=best; total time=   0.0s\n",
      "[CV] END ccp_alpha=0.001, max_depth=20, max_features=log2, min_samples_split=0.02, splitter=best; total time=   0.0s\n",
      "[CV] END ccp_alpha=0.001, max_depth=20, max_features=log2, min_samples_split=0.02, splitter=best; total time=   0.0s\n",
      "[CV] END ccp_alpha=0.001, max_depth=20, max_features=log2, min_samples_split=0.02, splitter=best; total time=   0.0s\n",
      "[CV] END ccp_alpha=0.001, max_depth=20, max_features=log2, min_samples_split=0.02, splitter=best; total time=   0.0s\n",
      "[CV] END ccp_alpha=0.005, max_depth=20, max_features=None, min_samples_split=0.02, splitter=random; total time=   0.0s\n",
      "[CV] END ccp_alpha=0.005, max_depth=20, max_features=None, min_samples_split=0.02, splitter=random; total time=   0.0s\n",
      "[CV] END ccp_alpha=0.005, max_depth=20, max_features=None, min_samples_split=0.02, splitter=random; total time=   0.0s\n",
      "[CV] END ccp_alpha=0.005, max_depth=20, max_features=None, min_samples_split=0.02, splitter=random; total time=   0.0s\n",
      "[CV] END ccp_alpha=0.005, max_depth=20, max_features=None, min_samples_split=0.02, splitter=random; total time=   0.0s\n",
      "[CV] END ccp_alpha=0.01, max_depth=6, max_features=sqrt, min_samples_split=2, splitter=best; total time=   0.0s\n",
      "[CV] END ccp_alpha=0.01, max_depth=6, max_features=sqrt, min_samples_split=2, splitter=best; total time=   0.0s\n",
      "[CV] END ccp_alpha=0.01, max_depth=6, max_features=sqrt, min_samples_split=2, splitter=best; total time=   0.0s\n",
      "[CV] END ccp_alpha=0.01, max_depth=6, max_features=sqrt, min_samples_split=2, splitter=best; total time=   0.0s\n",
      "[CV] END ccp_alpha=0.01, max_depth=6, max_features=sqrt, min_samples_split=2, splitter=best; total time=   0.0s\n",
      "[CV] END ccp_alpha=0.005, max_depth=10, max_features=log2, min_samples_split=2, splitter=best; total time=   0.0s\n",
      "[CV] END ccp_alpha=0.005, max_depth=10, max_features=log2, min_samples_split=2, splitter=best; total time=   0.0s\n",
      "[CV] END ccp_alpha=0.005, max_depth=10, max_features=log2, min_samples_split=2, splitter=best; total time=   0.0s\n",
      "[CV] END ccp_alpha=0.005, max_depth=10, max_features=log2, min_samples_split=2, splitter=best; total time=   0.0s\n",
      "[CV] END ccp_alpha=0.005, max_depth=10, max_features=log2, min_samples_split=2, splitter=best; total time=   0.0s\n",
      "[CV] END ccp_alpha=0.001, max_depth=2, max_features=log2, min_samples_split=2, splitter=best; total time=   0.0s\n",
      "[CV] END ccp_alpha=0.001, max_depth=2, max_features=log2, min_samples_split=2, splitter=best; total time=   0.0s\n",
      "[CV] END ccp_alpha=0.001, max_depth=2, max_features=log2, min_samples_split=2, splitter=best; total time=   0.0s\n",
      "[CV] END ccp_alpha=0.001, max_depth=2, max_features=log2, min_samples_split=2, splitter=best; total time=   0.0s\n",
      "[CV] END ccp_alpha=0.001, max_depth=2, max_features=log2, min_samples_split=2, splitter=best; total time=   0.0s\n",
      "[CV] END ccp_alpha=0.01, max_depth=4, max_features=None, min_samples_split=2, splitter=best; total time=   0.0s\n",
      "[CV] END ccp_alpha=0.01, max_depth=4, max_features=None, min_samples_split=2, splitter=best; total time=   0.0s\n",
      "[CV] END ccp_alpha=0.01, max_depth=4, max_features=None, min_samples_split=2, splitter=best; total time=   0.0s\n",
      "[CV] END ccp_alpha=0.01, max_depth=4, max_features=None, min_samples_split=2, splitter=best; total time=   0.0s\n",
      "[CV] END ccp_alpha=0.01, max_depth=4, max_features=None, min_samples_split=2, splitter=best; total time=   0.0s\n",
      "[CV] END ccp_alpha=0.005, max_depth=14, max_features=None, min_samples_split=5, splitter=best; total time=   0.0s\n",
      "[CV] END ccp_alpha=0.005, max_depth=14, max_features=None, min_samples_split=5, splitter=best; total time=   0.0s\n",
      "[CV] END ccp_alpha=0.005, max_depth=14, max_features=None, min_samples_split=5, splitter=best; total time=   0.0s\n",
      "[CV] END ccp_alpha=0.005, max_depth=14, max_features=None, min_samples_split=5, splitter=best; total time=   0.0s\n",
      "[CV] END ccp_alpha=0.005, max_depth=14, max_features=None, min_samples_split=5, splitter=best; total time=   0.0s\n",
      "[CV] END ccp_alpha=0.005, max_depth=20, max_features=None, min_samples_split=5, splitter=best; total time=   0.0s\n",
      "[CV] END ccp_alpha=0.005, max_depth=20, max_features=None, min_samples_split=5, splitter=best; total time=   0.0s\n",
      "[CV] END ccp_alpha=0.005, max_depth=20, max_features=None, min_samples_split=5, splitter=best; total time=   0.0s\n",
      "[CV] END ccp_alpha=0.005, max_depth=20, max_features=None, min_samples_split=5, splitter=best; total time=   0.0s\n",
      "[CV] END ccp_alpha=0.005, max_depth=20, max_features=None, min_samples_split=5, splitter=best; total time=   0.0s\n",
      "[CV] END ccp_alpha=0.02, max_depth=16, max_features=None, min_samples_split=5, splitter=best; total time=   0.0s\n",
      "[CV] END ccp_alpha=0.02, max_depth=16, max_features=None, min_samples_split=5, splitter=best; total time=   0.0s\n",
      "[CV] END ccp_alpha=0.02, max_depth=16, max_features=None, min_samples_split=5, splitter=best; total time=   0.0s\n",
      "[CV] END ccp_alpha=0.02, max_depth=16, max_features=None, min_samples_split=5, splitter=best; total time=   0.0s\n",
      "[CV] END ccp_alpha=0.02, max_depth=16, max_features=None, min_samples_split=5, splitter=best; total time=   0.0s\n",
      "[CV] END ccp_alpha=0.01, max_depth=16, max_features=log2, min_samples_split=2, splitter=best; total time=   0.0s\n",
      "[CV] END ccp_alpha=0.01, max_depth=16, max_features=log2, min_samples_split=2, splitter=best; total time=   0.0s\n",
      "[CV] END ccp_alpha=0.01, max_depth=16, max_features=log2, min_samples_split=2, splitter=best; total time=   0.0s\n",
      "[CV] END ccp_alpha=0.01, max_depth=16, max_features=log2, min_samples_split=2, splitter=best; total time=   0.0s\n",
      "[CV] END ccp_alpha=0.01, max_depth=16, max_features=log2, min_samples_split=2, splitter=best; total time=   0.0s\n",
      "[CV] END ccp_alpha=0.005, max_depth=None, max_features=log2, min_samples_split=0.02, splitter=random; total time=   0.0s\n",
      "[CV] END ccp_alpha=0.005, max_depth=None, max_features=log2, min_samples_split=0.02, splitter=random; total time=   0.0s\n",
      "[CV] END ccp_alpha=0.005, max_depth=None, max_features=log2, min_samples_split=0.02, splitter=random; total time=   0.0s\n",
      "[CV] END ccp_alpha=0.005, max_depth=None, max_features=log2, min_samples_split=0.02, splitter=random; total time=   0.0s\n",
      "[CV] END ccp_alpha=0.005, max_depth=None, max_features=log2, min_samples_split=0.02, splitter=random; total time=   0.0s\n",
      "[CV] END ccp_alpha=0.01, max_depth=12, max_features=sqrt, min_samples_split=5, splitter=random; total time=   0.0s\n",
      "[CV] END ccp_alpha=0.01, max_depth=12, max_features=sqrt, min_samples_split=5, splitter=random; total time=   0.0s\n",
      "[CV] END ccp_alpha=0.01, max_depth=12, max_features=sqrt, min_samples_split=5, splitter=random; total time=   0.0s\n",
      "[CV] END ccp_alpha=0.01, max_depth=12, max_features=sqrt, min_samples_split=5, splitter=random; total time=   0.0s\n",
      "[CV] END ccp_alpha=0.01, max_depth=12, max_features=sqrt, min_samples_split=5, splitter=random; total time=   0.0s\n",
      "[CV] END ccp_alpha=0.02, max_depth=6, max_features=None, min_samples_split=5, splitter=best; total time=   0.0s\n",
      "[CV] END ccp_alpha=0.02, max_depth=6, max_features=None, min_samples_split=5, splitter=best; total time=   0.0s\n",
      "[CV] END ccp_alpha=0.02, max_depth=6, max_features=None, min_samples_split=5, splitter=best; total time=   0.0s\n",
      "[CV] END ccp_alpha=0.02, max_depth=6, max_features=None, min_samples_split=5, splitter=best; total time=   0.0s\n",
      "[CV] END ccp_alpha=0.02, max_depth=6, max_features=None, min_samples_split=5, splitter=best; total time=   0.0s\n",
      "[CV] END ccp_alpha=0.001, max_depth=4, max_features=None, min_samples_split=5, splitter=random; total time=   0.0s\n",
      "[CV] END ccp_alpha=0.001, max_depth=4, max_features=None, min_samples_split=5, splitter=random; total time=   0.0s\n",
      "[CV] END ccp_alpha=0.001, max_depth=4, max_features=None, min_samples_split=5, splitter=random; total time=   0.0s\n",
      "[CV] END ccp_alpha=0.001, max_depth=4, max_features=None, min_samples_split=5, splitter=random; total time=   0.0s\n",
      "[CV] END ccp_alpha=0.001, max_depth=4, max_features=None, min_samples_split=5, splitter=random; total time=   0.0s\n",
      "[CV] END ccp_alpha=0.001, max_depth=2, max_features=None, min_samples_split=0.02, splitter=random; total time=   0.0s\n",
      "[CV] END ccp_alpha=0.001, max_depth=2, max_features=None, min_samples_split=0.02, splitter=random; total time=   0.0s\n",
      "[CV] END ccp_alpha=0.001, max_depth=2, max_features=None, min_samples_split=0.02, splitter=random; total time=   0.0s\n",
      "[CV] END ccp_alpha=0.001, max_depth=2, max_features=None, min_samples_split=0.02, splitter=random; total time=   0.0s\n",
      "[CV] END ccp_alpha=0.001, max_depth=2, max_features=None, min_samples_split=0.02, splitter=random; total time=   0.0s\n",
      "[CV] END ccp_alpha=0.005, max_depth=6, max_features=None, min_samples_split=5, splitter=best; total time=   0.0s\n",
      "[CV] END ccp_alpha=0.005, max_depth=6, max_features=None, min_samples_split=5, splitter=best; total time=   0.0s\n",
      "[CV] END ccp_alpha=0.005, max_depth=6, max_features=None, min_samples_split=5, splitter=best; total time=   0.0s\n",
      "[CV] END ccp_alpha=0.005, max_depth=6, max_features=None, min_samples_split=5, splitter=best; total time=   0.0s\n",
      "[CV] END ccp_alpha=0.005, max_depth=6, max_features=None, min_samples_split=5, splitter=best; total time=   0.0s\n",
      "[CV] END ccp_alpha=0.02, max_depth=2, max_features=sqrt, min_samples_split=5, splitter=random; total time=   0.0s\n",
      "[CV] END ccp_alpha=0.02, max_depth=2, max_features=sqrt, min_samples_split=5, splitter=random; total time=   0.0s\n",
      "[CV] END ccp_alpha=0.02, max_depth=2, max_features=sqrt, min_samples_split=5, splitter=random; total time=   0.0s\n",
      "[CV] END ccp_alpha=0.02, max_depth=2, max_features=sqrt, min_samples_split=5, splitter=random; total time=   0.0s\n",
      "[CV] END ccp_alpha=0.02, max_depth=2, max_features=sqrt, min_samples_split=5, splitter=random; total time=   0.0s\n",
      "[CV] END ccp_alpha=0.005, max_depth=10, max_features=log2, min_samples_split=5, splitter=best; total time=   0.0s\n",
      "[CV] END ccp_alpha=0.005, max_depth=10, max_features=log2, min_samples_split=5, splitter=best; total time=   0.0s\n",
      "[CV] END ccp_alpha=0.005, max_depth=10, max_features=log2, min_samples_split=5, splitter=best; total time=   0.0s\n",
      "[CV] END ccp_alpha=0.005, max_depth=10, max_features=log2, min_samples_split=5, splitter=best; total time=   0.0s\n",
      "[CV] END ccp_alpha=0.005, max_depth=10, max_features=log2, min_samples_split=5, splitter=best; total time=   0.0s\n",
      "[CV] END ccp_alpha=0.01, max_depth=6, max_features=None, min_samples_split=5, splitter=random; total time=   0.0s\n",
      "[CV] END ccp_alpha=0.01, max_depth=6, max_features=None, min_samples_split=5, splitter=random; total time=   0.0s\n",
      "[CV] END ccp_alpha=0.01, max_depth=6, max_features=None, min_samples_split=5, splitter=random; total time=   0.0s\n",
      "[CV] END ccp_alpha=0.01, max_depth=6, max_features=None, min_samples_split=5, splitter=random; total time=   0.0s\n",
      "[CV] END ccp_alpha=0.01, max_depth=6, max_features=None, min_samples_split=5, splitter=random; total time=   0.0s\n",
      "[CV] END ccp_alpha=0.01, max_depth=None, max_features=None, min_samples_split=5, splitter=best; total time=   0.0s\n",
      "[CV] END ccp_alpha=0.01, max_depth=None, max_features=None, min_samples_split=5, splitter=best; total time=   0.0s\n",
      "[CV] END ccp_alpha=0.01, max_depth=None, max_features=None, min_samples_split=5, splitter=best; total time=   0.0s\n",
      "[CV] END ccp_alpha=0.01, max_depth=None, max_features=None, min_samples_split=5, splitter=best; total time=   0.0s\n",
      "[CV] END ccp_alpha=0.01, max_depth=None, max_features=None, min_samples_split=5, splitter=best; total time=   0.0s\n",
      "[CV] END ccp_alpha=0.01, max_depth=16, max_features=None, min_samples_split=2, splitter=random; total time=   0.0s\n",
      "[CV] END ccp_alpha=0.01, max_depth=16, max_features=None, min_samples_split=2, splitter=random; total time=   0.0s\n",
      "[CV] END ccp_alpha=0.01, max_depth=16, max_features=None, min_samples_split=2, splitter=random; total time=   0.0s\n",
      "[CV] END ccp_alpha=0.01, max_depth=16, max_features=None, min_samples_split=2, splitter=random; total time=   0.0s\n",
      "[CV] END ccp_alpha=0.01, max_depth=16, max_features=None, min_samples_split=2, splitter=random; total time=   0.0s\n",
      "[CV] END ccp_alpha=0.01, max_depth=None, max_features=None, min_samples_split=2, splitter=best; total time=   0.0s\n",
      "[CV] END ccp_alpha=0.01, max_depth=None, max_features=None, min_samples_split=2, splitter=best; total time=   0.0s\n",
      "[CV] END ccp_alpha=0.01, max_depth=None, max_features=None, min_samples_split=2, splitter=best; total time=   0.0s\n",
      "[CV] END ccp_alpha=0.01, max_depth=None, max_features=None, min_samples_split=2, splitter=best; total time=   0.0s\n",
      "[CV] END ccp_alpha=0.01, max_depth=None, max_features=None, min_samples_split=2, splitter=best; total time=   0.0s\n",
      "[CV] END ccp_alpha=0.02, max_depth=None, max_features=None, min_samples_split=5, splitter=best; total time=   0.0s\n",
      "[CV] END ccp_alpha=0.02, max_depth=None, max_features=None, min_samples_split=5, splitter=best; total time=   0.0s\n",
      "[CV] END ccp_alpha=0.02, max_depth=None, max_features=None, min_samples_split=5, splitter=best; total time=   0.0s\n",
      "[CV] END ccp_alpha=0.02, max_depth=None, max_features=None, min_samples_split=5, splitter=best; total time=   0.0s\n",
      "[CV] END ccp_alpha=0.02, max_depth=None, max_features=None, min_samples_split=5, splitter=best; total time=   0.0s\n",
      "[CV] END ccp_alpha=0.02, max_depth=6, max_features=None, min_samples_split=5, splitter=random; total time=   0.0s\n",
      "[CV] END ccp_alpha=0.02, max_depth=6, max_features=None, min_samples_split=5, splitter=random; total time=   0.0s\n",
      "[CV] END ccp_alpha=0.02, max_depth=6, max_features=None, min_samples_split=5, splitter=random; total time=   0.0s\n",
      "[CV] END ccp_alpha=0.02, max_depth=6, max_features=None, min_samples_split=5, splitter=random; total time=   0.0s\n",
      "[CV] END ccp_alpha=0.02, max_depth=6, max_features=None, min_samples_split=5, splitter=random; total time=   0.0s\n",
      "[CV] END ccp_alpha=0.01, max_depth=12, max_features=log2, min_samples_split=0.02, splitter=random; total time=   0.0s\n",
      "[CV] END ccp_alpha=0.01, max_depth=12, max_features=log2, min_samples_split=0.02, splitter=random; total time=   0.0s\n",
      "[CV] END ccp_alpha=0.01, max_depth=12, max_features=log2, min_samples_split=0.02, splitter=random; total time=   0.0s\n",
      "[CV] END ccp_alpha=0.01, max_depth=12, max_features=log2, min_samples_split=0.02, splitter=random; total time=   0.0s\n",
      "[CV] END ccp_alpha=0.01, max_depth=12, max_features=log2, min_samples_split=0.02, splitter=random; total time=   0.0s\n",
      "[CV] END ccp_alpha=0.005, max_depth=None, max_features=None, min_samples_split=2, splitter=best; total time=   0.0s\n",
      "[CV] END ccp_alpha=0.005, max_depth=None, max_features=None, min_samples_split=2, splitter=best; total time=   0.0s\n",
      "[CV] END ccp_alpha=0.005, max_depth=None, max_features=None, min_samples_split=2, splitter=best; total time=   0.0s\n",
      "[CV] END ccp_alpha=0.005, max_depth=None, max_features=None, min_samples_split=2, splitter=best; total time=   0.0s\n",
      "[CV] END ccp_alpha=0.005, max_depth=None, max_features=None, min_samples_split=2, splitter=best; total time=   0.0s\n",
      "[CV] END ccp_alpha=0.01, max_depth=8, max_features=log2, min_samples_split=5, splitter=best; total time=   0.0s\n",
      "[CV] END ccp_alpha=0.01, max_depth=8, max_features=log2, min_samples_split=5, splitter=best; total time=   0.0s\n",
      "[CV] END ccp_alpha=0.01, max_depth=8, max_features=log2, min_samples_split=5, splitter=best; total time=   0.0s\n",
      "[CV] END ccp_alpha=0.01, max_depth=8, max_features=log2, min_samples_split=5, splitter=best; total time=   0.0s\n",
      "[CV] END ccp_alpha=0.01, max_depth=8, max_features=log2, min_samples_split=5, splitter=best; total time=   0.0s\n",
      "[CV] END ccp_alpha=0.02, max_depth=14, max_features=None, min_samples_split=5, splitter=random; total time=   0.0s\n",
      "[CV] END ccp_alpha=0.02, max_depth=14, max_features=None, min_samples_split=5, splitter=random; total time=   0.0s\n",
      "[CV] END ccp_alpha=0.02, max_depth=14, max_features=None, min_samples_split=5, splitter=random; total time=   0.0s\n",
      "[CV] END ccp_alpha=0.02, max_depth=14, max_features=None, min_samples_split=5, splitter=random; total time=   0.0s\n",
      "[CV] END ccp_alpha=0.02, max_depth=14, max_features=None, min_samples_split=5, splitter=random; total time=   0.0s\n",
      "[CV] END ccp_alpha=0.01, max_depth=6, max_features=None, min_samples_split=2, splitter=best; total time=   0.0s\n",
      "[CV] END ccp_alpha=0.01, max_depth=6, max_features=None, min_samples_split=2, splitter=best; total time=   0.0s\n",
      "[CV] END ccp_alpha=0.01, max_depth=6, max_features=None, min_samples_split=2, splitter=best; total time=   0.0s\n",
      "[CV] END ccp_alpha=0.01, max_depth=6, max_features=None, min_samples_split=2, splitter=best; total time=   0.0s\n",
      "[CV] END ccp_alpha=0.01, max_depth=6, max_features=None, min_samples_split=2, splitter=best; total time=   0.0s\n",
      "[CV] END ccp_alpha=0.005, max_depth=14, max_features=sqrt, min_samples_split=0.02, splitter=best; total time=   0.0s\n",
      "[CV] END ccp_alpha=0.005, max_depth=14, max_features=sqrt, min_samples_split=0.02, splitter=best; total time=   0.0s\n",
      "[CV] END ccp_alpha=0.005, max_depth=14, max_features=sqrt, min_samples_split=0.02, splitter=best; total time=   0.0s\n",
      "[CV] END ccp_alpha=0.005, max_depth=14, max_features=sqrt, min_samples_split=0.02, splitter=best; total time=   0.0s\n",
      "[CV] END ccp_alpha=0.005, max_depth=14, max_features=sqrt, min_samples_split=0.02, splitter=best; total time=   0.0s\n",
      "[CV] END ccp_alpha=0.01, max_depth=8, max_features=log2, min_samples_split=2, splitter=random; total time=   0.0s\n",
      "[CV] END ccp_alpha=0.01, max_depth=8, max_features=log2, min_samples_split=2, splitter=random; total time=   0.0s\n",
      "[CV] END ccp_alpha=0.01, max_depth=8, max_features=log2, min_samples_split=2, splitter=random; total time=   0.0s\n",
      "[CV] END ccp_alpha=0.01, max_depth=8, max_features=log2, min_samples_split=2, splitter=random; total time=   0.0s\n",
      "[CV] END ccp_alpha=0.01, max_depth=8, max_features=log2, min_samples_split=2, splitter=random; total time=   0.0s\n",
      "[CV] END ccp_alpha=0.02, max_depth=6, max_features=sqrt, min_samples_split=0.02, splitter=best; total time=   0.0s\n",
      "[CV] END ccp_alpha=0.02, max_depth=6, max_features=sqrt, min_samples_split=0.02, splitter=best; total time=   0.0s\n",
      "[CV] END ccp_alpha=0.02, max_depth=6, max_features=sqrt, min_samples_split=0.02, splitter=best; total time=   0.0s\n",
      "[CV] END ccp_alpha=0.02, max_depth=6, max_features=sqrt, min_samples_split=0.02, splitter=best; total time=   0.0s\n",
      "[CV] END ccp_alpha=0.02, max_depth=6, max_features=sqrt, min_samples_split=0.02, splitter=best; total time=   0.0s\n",
      "[CV] END ccp_alpha=0.001, max_depth=8, max_features=log2, min_samples_split=5, splitter=best; total time=   0.0s\n",
      "[CV] END ccp_alpha=0.001, max_depth=8, max_features=log2, min_samples_split=5, splitter=best; total time=   0.0s\n",
      "[CV] END ccp_alpha=0.001, max_depth=8, max_features=log2, min_samples_split=5, splitter=best; total time=   0.0s\n",
      "[CV] END ccp_alpha=0.001, max_depth=8, max_features=log2, min_samples_split=5, splitter=best; total time=   0.0s\n",
      "[CV] END ccp_alpha=0.001, max_depth=8, max_features=log2, min_samples_split=5, splitter=best; total time=   0.0s\n",
      "[CV] END ccp_alpha=0.005, max_depth=14, max_features=None, min_samples_split=0.02, splitter=random; total time=   0.0s\n",
      "[CV] END ccp_alpha=0.005, max_depth=14, max_features=None, min_samples_split=0.02, splitter=random; total time=   0.0s\n",
      "[CV] END ccp_alpha=0.005, max_depth=14, max_features=None, min_samples_split=0.02, splitter=random; total time=   0.0s\n",
      "[CV] END ccp_alpha=0.005, max_depth=14, max_features=None, min_samples_split=0.02, splitter=random; total time=   0.0s\n",
      "[CV] END ccp_alpha=0.005, max_depth=14, max_features=None, min_samples_split=0.02, splitter=random; total time=   0.0s\n",
      "[CV] END ccp_alpha=0.005, max_depth=18, max_features=None, min_samples_split=2, splitter=best; total time=   0.0s\n",
      "[CV] END ccp_alpha=0.005, max_depth=18, max_features=None, min_samples_split=2, splitter=best; total time=   0.0s\n",
      "[CV] END ccp_alpha=0.005, max_depth=18, max_features=None, min_samples_split=2, splitter=best; total time=   0.0s\n",
      "[CV] END ccp_alpha=0.005, max_depth=18, max_features=None, min_samples_split=2, splitter=best; total time=   0.0s\n",
      "[CV] END ccp_alpha=0.005, max_depth=18, max_features=None, min_samples_split=2, splitter=best; total time=   0.0s\n",
      "[CV] END ccp_alpha=0.02, max_depth=2, max_features=sqrt, min_samples_split=0.02, splitter=random; total time=   0.0s\n",
      "[CV] END ccp_alpha=0.02, max_depth=2, max_features=sqrt, min_samples_split=0.02, splitter=random; total time=   0.0s\n",
      "[CV] END ccp_alpha=0.02, max_depth=2, max_features=sqrt, min_samples_split=0.02, splitter=random; total time=   0.0s\n",
      "[CV] END ccp_alpha=0.02, max_depth=2, max_features=sqrt, min_samples_split=0.02, splitter=random; total time=   0.0s\n",
      "[CV] END ccp_alpha=0.02, max_depth=2, max_features=sqrt, min_samples_split=0.02, splitter=random; total time=   0.0s\n",
      "[CV] END ccp_alpha=0.005, max_depth=4, max_features=None, min_samples_split=0.02, splitter=random; total time=   0.0s\n",
      "[CV] END ccp_alpha=0.005, max_depth=4, max_features=None, min_samples_split=0.02, splitter=random; total time=   0.0s\n",
      "[CV] END ccp_alpha=0.005, max_depth=4, max_features=None, min_samples_split=0.02, splitter=random; total time=   0.0s\n",
      "[CV] END ccp_alpha=0.005, max_depth=4, max_features=None, min_samples_split=0.02, splitter=random; total time=   0.0s\n",
      "[CV] END ccp_alpha=0.005, max_depth=4, max_features=None, min_samples_split=0.02, splitter=random; total time=   0.0s\n",
      "[CV] END ccp_alpha=0.02, max_depth=6, max_features=sqrt, min_samples_split=0.02, splitter=random; total time=   0.0s\n",
      "[CV] END ccp_alpha=0.02, max_depth=6, max_features=sqrt, min_samples_split=0.02, splitter=random; total time=   0.0s\n",
      "[CV] END ccp_alpha=0.02, max_depth=6, max_features=sqrt, min_samples_split=0.02, splitter=random; total time=   0.0s\n",
      "[CV] END ccp_alpha=0.02, max_depth=6, max_features=sqrt, min_samples_split=0.02, splitter=random; total time=   0.0s\n",
      "[CV] END ccp_alpha=0.02, max_depth=6, max_features=sqrt, min_samples_split=0.02, splitter=random; total time=   0.0s\n",
      "[CV] END ccp_alpha=0.005, max_depth=20, max_features=log2, min_samples_split=5, splitter=random; total time=   0.0s\n",
      "[CV] END ccp_alpha=0.005, max_depth=20, max_features=log2, min_samples_split=5, splitter=random; total time=   0.0s\n",
      "[CV] END ccp_alpha=0.005, max_depth=20, max_features=log2, min_samples_split=5, splitter=random; total time=   0.0s\n",
      "[CV] END ccp_alpha=0.005, max_depth=20, max_features=log2, min_samples_split=5, splitter=random; total time=   0.0s\n",
      "[CV] END ccp_alpha=0.005, max_depth=20, max_features=log2, min_samples_split=5, splitter=random; total time=   0.0s\n",
      "[CV] END ccp_alpha=0.01, max_depth=14, max_features=sqrt, min_samples_split=2, splitter=random; total time=   0.0s\n",
      "[CV] END ccp_alpha=0.01, max_depth=14, max_features=sqrt, min_samples_split=2, splitter=random; total time=   0.0s\n",
      "[CV] END ccp_alpha=0.01, max_depth=14, max_features=sqrt, min_samples_split=2, splitter=random; total time=   0.0s\n",
      "[CV] END ccp_alpha=0.01, max_depth=14, max_features=sqrt, min_samples_split=2, splitter=random; total time=   0.0s\n",
      "[CV] END ccp_alpha=0.01, max_depth=14, max_features=sqrt, min_samples_split=2, splitter=random; total time=   0.0s\n",
      "[CV] END ccp_alpha=0.01, max_depth=14, max_features=None, min_samples_split=2, splitter=random; total time=   0.0s\n",
      "[CV] END ccp_alpha=0.01, max_depth=14, max_features=None, min_samples_split=2, splitter=random; total time=   0.0s\n",
      "[CV] END ccp_alpha=0.01, max_depth=14, max_features=None, min_samples_split=2, splitter=random; total time=   0.0s\n",
      "[CV] END ccp_alpha=0.01, max_depth=14, max_features=None, min_samples_split=2, splitter=random; total time=   0.0s\n",
      "[CV] END ccp_alpha=0.01, max_depth=14, max_features=None, min_samples_split=2, splitter=random; total time=   0.0s\n",
      "[CV] END ccp_alpha=0.001, max_depth=6, max_features=log2, min_samples_split=2, splitter=random; total time=   0.0s\n",
      "[CV] END ccp_alpha=0.001, max_depth=6, max_features=log2, min_samples_split=2, splitter=random; total time=   0.0s\n",
      "[CV] END ccp_alpha=0.001, max_depth=6, max_features=log2, min_samples_split=2, splitter=random; total time=   0.0s\n",
      "[CV] END ccp_alpha=0.001, max_depth=6, max_features=log2, min_samples_split=2, splitter=random; total time=   0.0s\n",
      "[CV] END ccp_alpha=0.001, max_depth=6, max_features=log2, min_samples_split=2, splitter=random; total time=   0.0s\n",
      "[CV] END ccp_alpha=0.001, max_depth=8, max_features=sqrt, min_samples_split=2, splitter=best; total time=   0.0s\n",
      "[CV] END ccp_alpha=0.001, max_depth=8, max_features=sqrt, min_samples_split=2, splitter=best; total time=   0.0s\n",
      "[CV] END ccp_alpha=0.001, max_depth=8, max_features=sqrt, min_samples_split=2, splitter=best; total time=   0.0s\n",
      "[CV] END ccp_alpha=0.001, max_depth=8, max_features=sqrt, min_samples_split=2, splitter=best; total time=   0.0s\n",
      "[CV] END ccp_alpha=0.001, max_depth=8, max_features=sqrt, min_samples_split=2, splitter=best; total time=   0.0s\n",
      "[CV] END ccp_alpha=0.02, max_depth=16, max_features=sqrt, min_samples_split=0.02, splitter=best; total time=   0.0s\n",
      "[CV] END ccp_alpha=0.02, max_depth=16, max_features=sqrt, min_samples_split=0.02, splitter=best; total time=   0.0s\n",
      "[CV] END ccp_alpha=0.02, max_depth=16, max_features=sqrt, min_samples_split=0.02, splitter=best; total time=   0.0s\n",
      "[CV] END ccp_alpha=0.02, max_depth=16, max_features=sqrt, min_samples_split=0.02, splitter=best; total time=   0.0s\n",
      "[CV] END ccp_alpha=0.02, max_depth=16, max_features=sqrt, min_samples_split=0.02, splitter=best; total time=   0.0s\n",
      "[CV] END ccp_alpha=0.001, max_depth=4, max_features=log2, min_samples_split=2, splitter=random; total time=   0.0s\n",
      "[CV] END ccp_alpha=0.001, max_depth=4, max_features=log2, min_samples_split=2, splitter=random; total time=   0.0s\n",
      "[CV] END ccp_alpha=0.001, max_depth=4, max_features=log2, min_samples_split=2, splitter=random; total time=   0.0s\n",
      "[CV] END ccp_alpha=0.001, max_depth=4, max_features=log2, min_samples_split=2, splitter=random; total time=   0.0s\n",
      "[CV] END ccp_alpha=0.001, max_depth=4, max_features=log2, min_samples_split=2, splitter=random; total time=   0.0s\n",
      "[CV] END ccp_alpha=0.01, max_depth=4, max_features=log2, min_samples_split=0.02, splitter=best; total time=   0.0s\n",
      "[CV] END ccp_alpha=0.01, max_depth=4, max_features=log2, min_samples_split=0.02, splitter=best; total time=   0.0s\n",
      "[CV] END ccp_alpha=0.01, max_depth=4, max_features=log2, min_samples_split=0.02, splitter=best; total time=   0.0s\n",
      "[CV] END ccp_alpha=0.01, max_depth=4, max_features=log2, min_samples_split=0.02, splitter=best; total time=   0.0s\n",
      "[CV] END ccp_alpha=0.01, max_depth=4, max_features=log2, min_samples_split=0.02, splitter=best; total time=   0.0s\n",
      "[CV] END ccp_alpha=0.001, max_depth=16, max_features=sqrt, min_samples_split=0.02, splitter=random; total time=   0.0s\n",
      "[CV] END ccp_alpha=0.001, max_depth=16, max_features=sqrt, min_samples_split=0.02, splitter=random; total time=   0.0s\n",
      "[CV] END ccp_alpha=0.001, max_depth=16, max_features=sqrt, min_samples_split=0.02, splitter=random; total time=   0.0s\n",
      "[CV] END ccp_alpha=0.001, max_depth=16, max_features=sqrt, min_samples_split=0.02, splitter=random; total time=   0.0s\n",
      "[CV] END ccp_alpha=0.001, max_depth=16, max_features=sqrt, min_samples_split=0.02, splitter=random; total time=   0.0s\n",
      "[CV] END ccp_alpha=0.02, max_depth=20, max_features=log2, min_samples_split=2, splitter=random; total time=   0.0s\n",
      "[CV] END ccp_alpha=0.02, max_depth=20, max_features=log2, min_samples_split=2, splitter=random; total time=   0.0s\n",
      "[CV] END ccp_alpha=0.02, max_depth=20, max_features=log2, min_samples_split=2, splitter=random; total time=   0.0s\n",
      "[CV] END ccp_alpha=0.02, max_depth=20, max_features=log2, min_samples_split=2, splitter=random; total time=   0.0s\n",
      "[CV] END ccp_alpha=0.02, max_depth=20, max_features=log2, min_samples_split=2, splitter=random; total time=   0.0s\n",
      "[CV] END ccp_alpha=0.02, max_depth=20, max_features=log2, min_samples_split=5, splitter=best; total time=   0.0s\n",
      "[CV] END ccp_alpha=0.02, max_depth=20, max_features=log2, min_samples_split=5, splitter=best; total time=   0.0s\n",
      "[CV] END ccp_alpha=0.02, max_depth=20, max_features=log2, min_samples_split=5, splitter=best; total time=   0.0s\n",
      "[CV] END ccp_alpha=0.02, max_depth=20, max_features=log2, min_samples_split=5, splitter=best; total time=   0.0s\n",
      "[CV] END ccp_alpha=0.02, max_depth=20, max_features=log2, min_samples_split=5, splitter=best; total time=   0.0s\n",
      "[CV] END ccp_alpha=0.005, max_depth=16, max_features=None, min_samples_split=0.02, splitter=best; total time=   0.0s\n",
      "[CV] END ccp_alpha=0.005, max_depth=16, max_features=None, min_samples_split=0.02, splitter=best; total time=   0.0s\n",
      "[CV] END ccp_alpha=0.005, max_depth=16, max_features=None, min_samples_split=0.02, splitter=best; total time=   0.0s\n",
      "[CV] END ccp_alpha=0.005, max_depth=16, max_features=None, min_samples_split=0.02, splitter=best; total time=   0.0s\n",
      "[CV] END ccp_alpha=0.005, max_depth=16, max_features=None, min_samples_split=0.02, splitter=best; total time=   0.0s\n",
      "[CV] END ccp_alpha=0.001, max_depth=2, max_features=log2, min_samples_split=5, splitter=random; total time=   0.0s\n",
      "[CV] END ccp_alpha=0.001, max_depth=2, max_features=log2, min_samples_split=5, splitter=random; total time=   0.0s\n",
      "[CV] END ccp_alpha=0.001, max_depth=2, max_features=log2, min_samples_split=5, splitter=random; total time=   0.0s\n",
      "[CV] END ccp_alpha=0.001, max_depth=2, max_features=log2, min_samples_split=5, splitter=random; total time=   0.0s\n",
      "[CV] END ccp_alpha=0.001, max_depth=2, max_features=log2, min_samples_split=5, splitter=random; total time=   0.0s\n",
      "[CV] END ccp_alpha=0.001, max_depth=2, max_features=log2, min_samples_split=2, splitter=random; total time=   0.0s\n",
      "[CV] END ccp_alpha=0.001, max_depth=2, max_features=log2, min_samples_split=2, splitter=random; total time=   0.0s\n",
      "[CV] END ccp_alpha=0.001, max_depth=2, max_features=log2, min_samples_split=2, splitter=random; total time=   0.0s\n",
      "[CV] END ccp_alpha=0.001, max_depth=2, max_features=log2, min_samples_split=2, splitter=random; total time=   0.0s\n",
      "[CV] END ccp_alpha=0.001, max_depth=2, max_features=log2, min_samples_split=2, splitter=random; total time=   0.0s\n",
      "[CV] END ccp_alpha=0.02, max_depth=6, max_features=None, min_samples_split=2, splitter=best; total time=   0.0s\n",
      "[CV] END ccp_alpha=0.02, max_depth=6, max_features=None, min_samples_split=2, splitter=best; total time=   0.0s\n",
      "[CV] END ccp_alpha=0.02, max_depth=6, max_features=None, min_samples_split=2, splitter=best; total time=   0.0s\n",
      "[CV] END ccp_alpha=0.02, max_depth=6, max_features=None, min_samples_split=2, splitter=best; total time=   0.0s\n",
      "[CV] END ccp_alpha=0.02, max_depth=6, max_features=None, min_samples_split=2, splitter=best; total time=   0.0s\n",
      "[CV] END ccp_alpha=0.005, max_depth=16, max_features=log2, min_samples_split=5, splitter=random; total time=   0.0s\n",
      "[CV] END ccp_alpha=0.005, max_depth=16, max_features=log2, min_samples_split=5, splitter=random; total time=   0.0s\n",
      "[CV] END ccp_alpha=0.005, max_depth=16, max_features=log2, min_samples_split=5, splitter=random; total time=   0.0s\n",
      "[CV] END ccp_alpha=0.005, max_depth=16, max_features=log2, min_samples_split=5, splitter=random; total time=   0.0s\n",
      "[CV] END ccp_alpha=0.005, max_depth=16, max_features=log2, min_samples_split=5, splitter=random; total time=   0.0s\n",
      "[CV] END ccp_alpha=0.005, max_depth=12, max_features=log2, min_samples_split=2, splitter=random; total time=   0.0s\n",
      "[CV] END ccp_alpha=0.005, max_depth=12, max_features=log2, min_samples_split=2, splitter=random; total time=   0.0s\n",
      "[CV] END ccp_alpha=0.005, max_depth=12, max_features=log2, min_samples_split=2, splitter=random; total time=   0.0s\n",
      "[CV] END ccp_alpha=0.005, max_depth=12, max_features=log2, min_samples_split=2, splitter=random; total time=   0.0s\n",
      "[CV] END ccp_alpha=0.005, max_depth=12, max_features=log2, min_samples_split=2, splitter=random; total time=   0.0s\n",
      "[CV] END ccp_alpha=0.01, max_depth=20, max_features=sqrt, min_samples_split=5, splitter=random; total time=   0.0s\n",
      "[CV] END ccp_alpha=0.01, max_depth=20, max_features=sqrt, min_samples_split=5, splitter=random; total time=   0.0s\n",
      "[CV] END ccp_alpha=0.01, max_depth=20, max_features=sqrt, min_samples_split=5, splitter=random; total time=   0.0s\n",
      "[CV] END ccp_alpha=0.01, max_depth=20, max_features=sqrt, min_samples_split=5, splitter=random; total time=   0.0s\n",
      "[CV] END ccp_alpha=0.01, max_depth=20, max_features=sqrt, min_samples_split=5, splitter=random; total time=   0.0s\n",
      "[CV] END ccp_alpha=0.01, max_depth=2, max_features=sqrt, min_samples_split=2, splitter=best; total time=   0.0s\n",
      "[CV] END ccp_alpha=0.01, max_depth=2, max_features=sqrt, min_samples_split=2, splitter=best; total time=   0.0s\n",
      "[CV] END ccp_alpha=0.01, max_depth=2, max_features=sqrt, min_samples_split=2, splitter=best; total time=   0.0s\n",
      "[CV] END ccp_alpha=0.01, max_depth=2, max_features=sqrt, min_samples_split=2, splitter=best; total time=   0.0s\n",
      "[CV] END ccp_alpha=0.01, max_depth=2, max_features=sqrt, min_samples_split=2, splitter=best; total time=   0.0s\n",
      "[CV] END ccp_alpha=0.001, max_depth=10, max_features=sqrt, min_samples_split=2, splitter=best; total time=   0.0s\n",
      "[CV] END ccp_alpha=0.001, max_depth=10, max_features=sqrt, min_samples_split=2, splitter=best; total time=   0.0s\n",
      "[CV] END ccp_alpha=0.001, max_depth=10, max_features=sqrt, min_samples_split=2, splitter=best; total time=   0.0s\n",
      "[CV] END ccp_alpha=0.001, max_depth=10, max_features=sqrt, min_samples_split=2, splitter=best; total time=   0.0s\n",
      "[CV] END ccp_alpha=0.001, max_depth=10, max_features=sqrt, min_samples_split=2, splitter=best; total time=   0.0s\n",
      "[CV] END ccp_alpha=0.001, max_depth=8, max_features=None, min_samples_split=2, splitter=best; total time=   0.0s\n",
      "[CV] END ccp_alpha=0.001, max_depth=8, max_features=None, min_samples_split=2, splitter=best; total time=   0.0s\n",
      "[CV] END ccp_alpha=0.001, max_depth=8, max_features=None, min_samples_split=2, splitter=best; total time=   0.0s\n",
      "[CV] END ccp_alpha=0.001, max_depth=8, max_features=None, min_samples_split=2, splitter=best; total time=   0.0s\n",
      "[CV] END ccp_alpha=0.001, max_depth=8, max_features=None, min_samples_split=2, splitter=best; total time=   0.0s\n",
      "[CV] END ccp_alpha=0.001, max_depth=8, max_features=None, min_samples_split=0.02, splitter=random; total time=   0.0s\n",
      "[CV] END ccp_alpha=0.001, max_depth=8, max_features=None, min_samples_split=0.02, splitter=random; total time=   0.0s\n",
      "[CV] END ccp_alpha=0.001, max_depth=8, max_features=None, min_samples_split=0.02, splitter=random; total time=   0.0s\n",
      "[CV] END ccp_alpha=0.001, max_depth=8, max_features=None, min_samples_split=0.02, splitter=random; total time=   0.0s\n",
      "[CV] END ccp_alpha=0.001, max_depth=8, max_features=None, min_samples_split=0.02, splitter=random; total time=   0.0s\n",
      "[CV] END ccp_alpha=0.02, max_depth=6, max_features=log2, min_samples_split=5, splitter=best; total time=   0.0s\n",
      "[CV] END ccp_alpha=0.02, max_depth=6, max_features=log2, min_samples_split=5, splitter=best; total time=   0.0s\n",
      "[CV] END ccp_alpha=0.02, max_depth=6, max_features=log2, min_samples_split=5, splitter=best; total time=   0.0s\n",
      "[CV] END ccp_alpha=0.02, max_depth=6, max_features=log2, min_samples_split=5, splitter=best; total time=   0.0s\n",
      "[CV] END ccp_alpha=0.02, max_depth=6, max_features=log2, min_samples_split=5, splitter=best; total time=   0.0s\n",
      "[CV] END ccp_alpha=0.005, max_depth=6, max_features=log2, min_samples_split=5, splitter=best; total time=   0.0s\n",
      "[CV] END ccp_alpha=0.005, max_depth=6, max_features=log2, min_samples_split=5, splitter=best; total time=   0.0s\n",
      "[CV] END ccp_alpha=0.005, max_depth=6, max_features=log2, min_samples_split=5, splitter=best; total time=   0.0s\n",
      "[CV] END ccp_alpha=0.005, max_depth=6, max_features=log2, min_samples_split=5, splitter=best; total time=   0.0s\n",
      "[CV] END ccp_alpha=0.005, max_depth=6, max_features=log2, min_samples_split=5, splitter=best; total time=   0.0s\n",
      "[CV] END ccp_alpha=0.005, max_depth=6, max_features=sqrt, min_samples_split=5, splitter=best; total time=   0.0s\n",
      "[CV] END ccp_alpha=0.005, max_depth=6, max_features=sqrt, min_samples_split=5, splitter=best; total time=   0.0s\n",
      "[CV] END ccp_alpha=0.005, max_depth=6, max_features=sqrt, min_samples_split=5, splitter=best; total time=   0.0s\n",
      "[CV] END ccp_alpha=0.005, max_depth=6, max_features=sqrt, min_samples_split=5, splitter=best; total time=   0.0s\n",
      "[CV] END ccp_alpha=0.005, max_depth=6, max_features=sqrt, min_samples_split=5, splitter=best; total time=   0.0s\n",
      "[CV] END ccp_alpha=0.02, max_depth=14, max_features=sqrt, min_samples_split=5, splitter=random; total time=   0.0s\n",
      "[CV] END ccp_alpha=0.02, max_depth=14, max_features=sqrt, min_samples_split=5, splitter=random; total time=   0.0s\n",
      "[CV] END ccp_alpha=0.02, max_depth=14, max_features=sqrt, min_samples_split=5, splitter=random; total time=   0.0s\n",
      "[CV] END ccp_alpha=0.02, max_depth=14, max_features=sqrt, min_samples_split=5, splitter=random; total time=   0.0s\n",
      "[CV] END ccp_alpha=0.02, max_depth=14, max_features=sqrt, min_samples_split=5, splitter=random; total time=   0.0s\n",
      "[CV] END ccp_alpha=0.02, max_depth=20, max_features=None, min_samples_split=0.02, splitter=best; total time=   0.0s\n",
      "[CV] END ccp_alpha=0.02, max_depth=20, max_features=None, min_samples_split=0.02, splitter=best; total time=   0.0s\n",
      "[CV] END ccp_alpha=0.02, max_depth=20, max_features=None, min_samples_split=0.02, splitter=best; total time=   0.0s\n",
      "[CV] END ccp_alpha=0.02, max_depth=20, max_features=None, min_samples_split=0.02, splitter=best; total time=   0.0s\n",
      "[CV] END ccp_alpha=0.02, max_depth=20, max_features=None, min_samples_split=0.02, splitter=best; total time=   0.0s\n",
      "[CV] END ccp_alpha=0.005, max_depth=14, max_features=sqrt, min_samples_split=5, splitter=best; total time=   0.0s\n",
      "[CV] END ccp_alpha=0.005, max_depth=14, max_features=sqrt, min_samples_split=5, splitter=best; total time=   0.0s\n",
      "[CV] END ccp_alpha=0.005, max_depth=14, max_features=sqrt, min_samples_split=5, splitter=best; total time=   0.0s\n",
      "[CV] END ccp_alpha=0.005, max_depth=14, max_features=sqrt, min_samples_split=5, splitter=best; total time=   0.0s\n",
      "[CV] END ccp_alpha=0.005, max_depth=14, max_features=sqrt, min_samples_split=5, splitter=best; total time=   0.0s\n",
      "[CV] END ccp_alpha=0.02, max_depth=4, max_features=log2, min_samples_split=2, splitter=random; total time=   0.0s\n",
      "[CV] END ccp_alpha=0.02, max_depth=4, max_features=log2, min_samples_split=2, splitter=random; total time=   0.0s\n",
      "[CV] END ccp_alpha=0.02, max_depth=4, max_features=log2, min_samples_split=2, splitter=random; total time=   0.0s\n",
      "[CV] END ccp_alpha=0.02, max_depth=4, max_features=log2, min_samples_split=2, splitter=random; total time=   0.0s\n",
      "[CV] END ccp_alpha=0.02, max_depth=4, max_features=log2, min_samples_split=2, splitter=random; total time=   0.0s\n",
      "[CV] END ccp_alpha=0.005, max_depth=None, max_features=None, min_samples_split=2, splitter=random; total time=   0.0s\n",
      "[CV] END ccp_alpha=0.005, max_depth=None, max_features=None, min_samples_split=2, splitter=random; total time=   0.0s\n",
      "[CV] END ccp_alpha=0.005, max_depth=None, max_features=None, min_samples_split=2, splitter=random; total time=   0.0s\n",
      "[CV] END ccp_alpha=0.005, max_depth=None, max_features=None, min_samples_split=2, splitter=random; total time=   0.0s\n",
      "[CV] END ccp_alpha=0.005, max_depth=None, max_features=None, min_samples_split=2, splitter=random; total time=   0.0s\n",
      "[CV] END ccp_alpha=0.01, max_depth=8, max_features=None, min_samples_split=0.02, splitter=random; total time=   0.0s\n",
      "[CV] END ccp_alpha=0.01, max_depth=8, max_features=None, min_samples_split=0.02, splitter=random; total time=   0.0s\n",
      "[CV] END ccp_alpha=0.01, max_depth=8, max_features=None, min_samples_split=0.02, splitter=random; total time=   0.0s\n",
      "[CV] END ccp_alpha=0.01, max_depth=8, max_features=None, min_samples_split=0.02, splitter=random; total time=   0.0s\n",
      "[CV] END ccp_alpha=0.01, max_depth=8, max_features=None, min_samples_split=0.02, splitter=random; total time=   0.0s\n",
      "[CV] END ccp_alpha=0.02, max_depth=2, max_features=sqrt, min_samples_split=0.02, splitter=best; total time=   0.0s\n",
      "[CV] END ccp_alpha=0.02, max_depth=2, max_features=sqrt, min_samples_split=0.02, splitter=best; total time=   0.0s\n",
      "[CV] END ccp_alpha=0.02, max_depth=2, max_features=sqrt, min_samples_split=0.02, splitter=best; total time=   0.0s\n",
      "[CV] END ccp_alpha=0.02, max_depth=2, max_features=sqrt, min_samples_split=0.02, splitter=best; total time=   0.0s\n",
      "[CV] END ccp_alpha=0.02, max_depth=2, max_features=sqrt, min_samples_split=0.02, splitter=best; total time=   0.0s\n",
      "[CV] END ccp_alpha=0.02, max_depth=None, max_features=sqrt, min_samples_split=0.02, splitter=best; total time=   0.0s\n",
      "[CV] END ccp_alpha=0.02, max_depth=None, max_features=sqrt, min_samples_split=0.02, splitter=best; total time=   0.0s\n",
      "[CV] END ccp_alpha=0.02, max_depth=None, max_features=sqrt, min_samples_split=0.02, splitter=best; total time=   0.0s\n",
      "[CV] END ccp_alpha=0.02, max_depth=None, max_features=sqrt, min_samples_split=0.02, splitter=best; total time=   0.0s\n",
      "[CV] END ccp_alpha=0.02, max_depth=None, max_features=sqrt, min_samples_split=0.02, splitter=best; total time=   0.0s\n",
      "[CV] END ccp_alpha=0.02, max_depth=4, max_features=None, min_samples_split=0.02, splitter=random; total time=   0.0s\n",
      "[CV] END ccp_alpha=0.02, max_depth=4, max_features=None, min_samples_split=0.02, splitter=random; total time=   0.0s\n",
      "[CV] END ccp_alpha=0.02, max_depth=4, max_features=None, min_samples_split=0.02, splitter=random; total time=   0.0s\n",
      "[CV] END ccp_alpha=0.02, max_depth=4, max_features=None, min_samples_split=0.02, splitter=random; total time=   0.0s\n",
      "[CV] END ccp_alpha=0.02, max_depth=4, max_features=None, min_samples_split=0.02, splitter=random; total time=   0.0s\n",
      "[CV] END ccp_alpha=0.02, max_depth=14, max_features=log2, min_samples_split=2, splitter=random; total time=   0.0s\n",
      "[CV] END ccp_alpha=0.02, max_depth=14, max_features=log2, min_samples_split=2, splitter=random; total time=   0.0s\n",
      "[CV] END ccp_alpha=0.02, max_depth=14, max_features=log2, min_samples_split=2, splitter=random; total time=   0.0s\n",
      "[CV] END ccp_alpha=0.02, max_depth=14, max_features=log2, min_samples_split=2, splitter=random; total time=   0.0s\n",
      "[CV] END ccp_alpha=0.02, max_depth=14, max_features=log2, min_samples_split=2, splitter=random; total time=   0.0s\n",
      "[CV] END ccp_alpha=0.001, max_depth=6, max_features=None, min_samples_split=2, splitter=best; total time=   0.0s\n",
      "[CV] END ccp_alpha=0.001, max_depth=6, max_features=None, min_samples_split=2, splitter=best; total time=   0.0s\n",
      "[CV] END ccp_alpha=0.001, max_depth=6, max_features=None, min_samples_split=2, splitter=best; total time=   0.0s\n",
      "[CV] END ccp_alpha=0.001, max_depth=6, max_features=None, min_samples_split=2, splitter=best; total time=   0.0s\n",
      "[CV] END ccp_alpha=0.001, max_depth=6, max_features=None, min_samples_split=2, splitter=best; total time=   0.0s\n",
      "[CV] END ccp_alpha=0.02, max_depth=16, max_features=None, min_samples_split=0.02, splitter=best; total time=   0.0s\n",
      "[CV] END ccp_alpha=0.02, max_depth=16, max_features=None, min_samples_split=0.02, splitter=best; total time=   0.0s\n",
      "[CV] END ccp_alpha=0.02, max_depth=16, max_features=None, min_samples_split=0.02, splitter=best; total time=   0.0s\n",
      "[CV] END ccp_alpha=0.02, max_depth=16, max_features=None, min_samples_split=0.02, splitter=best; total time=   0.0s\n",
      "[CV] END ccp_alpha=0.02, max_depth=16, max_features=None, min_samples_split=0.02, splitter=best; total time=   0.0s\n",
      "[CV] END ccp_alpha=0.005, max_depth=None, max_features=sqrt, min_samples_split=0.02, splitter=random; total time=   0.0s\n",
      "[CV] END ccp_alpha=0.005, max_depth=None, max_features=sqrt, min_samples_split=0.02, splitter=random; total time=   0.0s\n",
      "[CV] END ccp_alpha=0.005, max_depth=None, max_features=sqrt, min_samples_split=0.02, splitter=random; total time=   0.0s\n",
      "[CV] END ccp_alpha=0.005, max_depth=None, max_features=sqrt, min_samples_split=0.02, splitter=random; total time=   0.0s\n",
      "[CV] END ccp_alpha=0.005, max_depth=None, max_features=sqrt, min_samples_split=0.02, splitter=random; total time=   0.0s\n",
      "[CV] END ccp_alpha=0.001, max_depth=10, max_features=sqrt, min_samples_split=2, splitter=random; total time=   0.0s\n",
      "[CV] END ccp_alpha=0.001, max_depth=10, max_features=sqrt, min_samples_split=2, splitter=random; total time=   0.0s\n",
      "[CV] END ccp_alpha=0.001, max_depth=10, max_features=sqrt, min_samples_split=2, splitter=random; total time=   0.0s\n",
      "[CV] END ccp_alpha=0.001, max_depth=10, max_features=sqrt, min_samples_split=2, splitter=random; total time=   0.0s\n",
      "[CV] END ccp_alpha=0.001, max_depth=10, max_features=sqrt, min_samples_split=2, splitter=random; total time=   0.0s\n",
      "[CV] END ccp_alpha=0.02, max_depth=10, max_features=None, min_samples_split=0.02, splitter=best; total time=   0.0s\n",
      "[CV] END ccp_alpha=0.02, max_depth=10, max_features=None, min_samples_split=0.02, splitter=best; total time=   0.0s\n",
      "[CV] END ccp_alpha=0.02, max_depth=10, max_features=None, min_samples_split=0.02, splitter=best; total time=   0.0s\n",
      "[CV] END ccp_alpha=0.02, max_depth=10, max_features=None, min_samples_split=0.02, splitter=best; total time=   0.0s\n",
      "[CV] END ccp_alpha=0.02, max_depth=10, max_features=None, min_samples_split=0.02, splitter=best; total time=   0.0s\n",
      "[CV] END ccp_alpha=0.001, max_depth=8, max_features=None, min_samples_split=0.02, splitter=best; total time=   0.0s\n",
      "[CV] END ccp_alpha=0.001, max_depth=8, max_features=None, min_samples_split=0.02, splitter=best; total time=   0.0s\n",
      "[CV] END ccp_alpha=0.001, max_depth=8, max_features=None, min_samples_split=0.02, splitter=best; total time=   0.0s\n",
      "[CV] END ccp_alpha=0.001, max_depth=8, max_features=None, min_samples_split=0.02, splitter=best; total time=   0.0s\n",
      "[CV] END ccp_alpha=0.001, max_depth=8, max_features=None, min_samples_split=0.02, splitter=best; total time=   0.0s\n"
     ]
    },
    {
     "data": {
      "text/plain": "DecisionTreeRegressor(ccp_alpha=0.005, max_depth=14, min_samples_split=5,\n                      random_state=42)",
      "text/html": "<style>#sk-container-id-2 {\n  /* Definition of color scheme common for light and dark mode */\n  --sklearn-color-text: black;\n  --sklearn-color-line: gray;\n  /* Definition of color scheme for unfitted estimators */\n  --sklearn-color-unfitted-level-0: #fff5e6;\n  --sklearn-color-unfitted-level-1: #f6e4d2;\n  --sklearn-color-unfitted-level-2: #ffe0b3;\n  --sklearn-color-unfitted-level-3: chocolate;\n  /* Definition of color scheme for fitted estimators */\n  --sklearn-color-fitted-level-0: #f0f8ff;\n  --sklearn-color-fitted-level-1: #d4ebff;\n  --sklearn-color-fitted-level-2: #b3dbfd;\n  --sklearn-color-fitted-level-3: cornflowerblue;\n\n  /* Specific color for light theme */\n  --sklearn-color-text-on-default-background: var(--sg-text-color, var(--theme-code-foreground, var(--jp-content-font-color1, black)));\n  --sklearn-color-background: var(--sg-background-color, var(--theme-background, var(--jp-layout-color0, white)));\n  --sklearn-color-border-box: var(--sg-text-color, var(--theme-code-foreground, var(--jp-content-font-color1, black)));\n  --sklearn-color-icon: #696969;\n\n  @media (prefers-color-scheme: dark) {\n    /* Redefinition of color scheme for dark theme */\n    --sklearn-color-text-on-default-background: var(--sg-text-color, var(--theme-code-foreground, var(--jp-content-font-color1, white)));\n    --sklearn-color-background: var(--sg-background-color, var(--theme-background, var(--jp-layout-color0, #111)));\n    --sklearn-color-border-box: var(--sg-text-color, var(--theme-code-foreground, var(--jp-content-font-color1, white)));\n    --sklearn-color-icon: #878787;\n  }\n}\n\n#sk-container-id-2 {\n  color: var(--sklearn-color-text);\n}\n\n#sk-container-id-2 pre {\n  padding: 0;\n}\n\n#sk-container-id-2 input.sk-hidden--visually {\n  border: 0;\n  clip: rect(1px 1px 1px 1px);\n  clip: rect(1px, 1px, 1px, 1px);\n  height: 1px;\n  margin: -1px;\n  overflow: hidden;\n  padding: 0;\n  position: absolute;\n  width: 1px;\n}\n\n#sk-container-id-2 div.sk-dashed-wrapped {\n  border: 1px dashed var(--sklearn-color-line);\n  margin: 0 0.4em 0.5em 0.4em;\n  box-sizing: border-box;\n  padding-bottom: 0.4em;\n  background-color: var(--sklearn-color-background);\n}\n\n#sk-container-id-2 div.sk-container {\n  /* jupyter's `normalize.less` sets `[hidden] { display: none; }`\n     but bootstrap.min.css set `[hidden] { display: none !important; }`\n     so we also need the `!important` here to be able to override the\n     default hidden behavior on the sphinx rendered scikit-learn.org.\n     See: https://github.com/scikit-learn/scikit-learn/issues/21755 */\n  display: inline-block !important;\n  position: relative;\n}\n\n#sk-container-id-2 div.sk-text-repr-fallback {\n  display: none;\n}\n\ndiv.sk-parallel-item,\ndiv.sk-serial,\ndiv.sk-item {\n  /* draw centered vertical line to link estimators */\n  background-image: linear-gradient(var(--sklearn-color-text-on-default-background), var(--sklearn-color-text-on-default-background));\n  background-size: 2px 100%;\n  background-repeat: no-repeat;\n  background-position: center center;\n}\n\n/* Parallel-specific style estimator block */\n\n#sk-container-id-2 div.sk-parallel-item::after {\n  content: \"\";\n  width: 100%;\n  border-bottom: 2px solid var(--sklearn-color-text-on-default-background);\n  flex-grow: 1;\n}\n\n#sk-container-id-2 div.sk-parallel {\n  display: flex;\n  align-items: stretch;\n  justify-content: center;\n  background-color: var(--sklearn-color-background);\n  position: relative;\n}\n\n#sk-container-id-2 div.sk-parallel-item {\n  display: flex;\n  flex-direction: column;\n}\n\n#sk-container-id-2 div.sk-parallel-item:first-child::after {\n  align-self: flex-end;\n  width: 50%;\n}\n\n#sk-container-id-2 div.sk-parallel-item:last-child::after {\n  align-self: flex-start;\n  width: 50%;\n}\n\n#sk-container-id-2 div.sk-parallel-item:only-child::after {\n  width: 0;\n}\n\n/* Serial-specific style estimator block */\n\n#sk-container-id-2 div.sk-serial {\n  display: flex;\n  flex-direction: column;\n  align-items: center;\n  background-color: var(--sklearn-color-background);\n  padding-right: 1em;\n  padding-left: 1em;\n}\n\n\n/* Toggleable style: style used for estimator/Pipeline/ColumnTransformer box that is\nclickable and can be expanded/collapsed.\n- Pipeline and ColumnTransformer use this feature and define the default style\n- Estimators will overwrite some part of the style using the `sk-estimator` class\n*/\n\n/* Pipeline and ColumnTransformer style (default) */\n\n#sk-container-id-2 div.sk-toggleable {\n  /* Default theme specific background. It is overwritten whether we have a\n  specific estimator or a Pipeline/ColumnTransformer */\n  background-color: var(--sklearn-color-background);\n}\n\n/* Toggleable label */\n#sk-container-id-2 label.sk-toggleable__label {\n  cursor: pointer;\n  display: block;\n  width: 100%;\n  margin-bottom: 0;\n  padding: 0.5em;\n  box-sizing: border-box;\n  text-align: center;\n}\n\n#sk-container-id-2 label.sk-toggleable__label-arrow:before {\n  /* Arrow on the left of the label */\n  content: \"▸\";\n  float: left;\n  margin-right: 0.25em;\n  color: var(--sklearn-color-icon);\n}\n\n#sk-container-id-2 label.sk-toggleable__label-arrow:hover:before {\n  color: var(--sklearn-color-text);\n}\n\n/* Toggleable content - dropdown */\n\n#sk-container-id-2 div.sk-toggleable__content {\n  max-height: 0;\n  max-width: 0;\n  overflow: hidden;\n  text-align: left;\n  /* unfitted */\n  background-color: var(--sklearn-color-unfitted-level-0);\n}\n\n#sk-container-id-2 div.sk-toggleable__content.fitted {\n  /* fitted */\n  background-color: var(--sklearn-color-fitted-level-0);\n}\n\n#sk-container-id-2 div.sk-toggleable__content pre {\n  margin: 0.2em;\n  border-radius: 0.25em;\n  color: var(--sklearn-color-text);\n  /* unfitted */\n  background-color: var(--sklearn-color-unfitted-level-0);\n}\n\n#sk-container-id-2 div.sk-toggleable__content.fitted pre {\n  /* unfitted */\n  background-color: var(--sklearn-color-fitted-level-0);\n}\n\n#sk-container-id-2 input.sk-toggleable__control:checked~div.sk-toggleable__content {\n  /* Expand drop-down */\n  max-height: 200px;\n  max-width: 100%;\n  overflow: auto;\n}\n\n#sk-container-id-2 input.sk-toggleable__control:checked~label.sk-toggleable__label-arrow:before {\n  content: \"▾\";\n}\n\n/* Pipeline/ColumnTransformer-specific style */\n\n#sk-container-id-2 div.sk-label input.sk-toggleable__control:checked~label.sk-toggleable__label {\n  color: var(--sklearn-color-text);\n  background-color: var(--sklearn-color-unfitted-level-2);\n}\n\n#sk-container-id-2 div.sk-label.fitted input.sk-toggleable__control:checked~label.sk-toggleable__label {\n  background-color: var(--sklearn-color-fitted-level-2);\n}\n\n/* Estimator-specific style */\n\n/* Colorize estimator box */\n#sk-container-id-2 div.sk-estimator input.sk-toggleable__control:checked~label.sk-toggleable__label {\n  /* unfitted */\n  background-color: var(--sklearn-color-unfitted-level-2);\n}\n\n#sk-container-id-2 div.sk-estimator.fitted input.sk-toggleable__control:checked~label.sk-toggleable__label {\n  /* fitted */\n  background-color: var(--sklearn-color-fitted-level-2);\n}\n\n#sk-container-id-2 div.sk-label label.sk-toggleable__label,\n#sk-container-id-2 div.sk-label label {\n  /* The background is the default theme color */\n  color: var(--sklearn-color-text-on-default-background);\n}\n\n/* On hover, darken the color of the background */\n#sk-container-id-2 div.sk-label:hover label.sk-toggleable__label {\n  color: var(--sklearn-color-text);\n  background-color: var(--sklearn-color-unfitted-level-2);\n}\n\n/* Label box, darken color on hover, fitted */\n#sk-container-id-2 div.sk-label.fitted:hover label.sk-toggleable__label.fitted {\n  color: var(--sklearn-color-text);\n  background-color: var(--sklearn-color-fitted-level-2);\n}\n\n/* Estimator label */\n\n#sk-container-id-2 div.sk-label label {\n  font-family: monospace;\n  font-weight: bold;\n  display: inline-block;\n  line-height: 1.2em;\n}\n\n#sk-container-id-2 div.sk-label-container {\n  text-align: center;\n}\n\n/* Estimator-specific */\n#sk-container-id-2 div.sk-estimator {\n  font-family: monospace;\n  border: 1px dotted var(--sklearn-color-border-box);\n  border-radius: 0.25em;\n  box-sizing: border-box;\n  margin-bottom: 0.5em;\n  /* unfitted */\n  background-color: var(--sklearn-color-unfitted-level-0);\n}\n\n#sk-container-id-2 div.sk-estimator.fitted {\n  /* fitted */\n  background-color: var(--sklearn-color-fitted-level-0);\n}\n\n/* on hover */\n#sk-container-id-2 div.sk-estimator:hover {\n  /* unfitted */\n  background-color: var(--sklearn-color-unfitted-level-2);\n}\n\n#sk-container-id-2 div.sk-estimator.fitted:hover {\n  /* fitted */\n  background-color: var(--sklearn-color-fitted-level-2);\n}\n\n/* Specification for estimator info (e.g. \"i\" and \"?\") */\n\n/* Common style for \"i\" and \"?\" */\n\n.sk-estimator-doc-link,\na:link.sk-estimator-doc-link,\na:visited.sk-estimator-doc-link {\n  float: right;\n  font-size: smaller;\n  line-height: 1em;\n  font-family: monospace;\n  background-color: var(--sklearn-color-background);\n  border-radius: 1em;\n  height: 1em;\n  width: 1em;\n  text-decoration: none !important;\n  margin-left: 1ex;\n  /* unfitted */\n  border: var(--sklearn-color-unfitted-level-1) 1pt solid;\n  color: var(--sklearn-color-unfitted-level-1);\n}\n\n.sk-estimator-doc-link.fitted,\na:link.sk-estimator-doc-link.fitted,\na:visited.sk-estimator-doc-link.fitted {\n  /* fitted */\n  border: var(--sklearn-color-fitted-level-1) 1pt solid;\n  color: var(--sklearn-color-fitted-level-1);\n}\n\n/* On hover */\ndiv.sk-estimator:hover .sk-estimator-doc-link:hover,\n.sk-estimator-doc-link:hover,\ndiv.sk-label-container:hover .sk-estimator-doc-link:hover,\n.sk-estimator-doc-link:hover {\n  /* unfitted */\n  background-color: var(--sklearn-color-unfitted-level-3);\n  color: var(--sklearn-color-background);\n  text-decoration: none;\n}\n\ndiv.sk-estimator.fitted:hover .sk-estimator-doc-link.fitted:hover,\n.sk-estimator-doc-link.fitted:hover,\ndiv.sk-label-container:hover .sk-estimator-doc-link.fitted:hover,\n.sk-estimator-doc-link.fitted:hover {\n  /* fitted */\n  background-color: var(--sklearn-color-fitted-level-3);\n  color: var(--sklearn-color-background);\n  text-decoration: none;\n}\n\n/* Span, style for the box shown on hovering the info icon */\n.sk-estimator-doc-link span {\n  display: none;\n  z-index: 9999;\n  position: relative;\n  font-weight: normal;\n  right: .2ex;\n  padding: .5ex;\n  margin: .5ex;\n  width: min-content;\n  min-width: 20ex;\n  max-width: 50ex;\n  color: var(--sklearn-color-text);\n  box-shadow: 2pt 2pt 4pt #999;\n  /* unfitted */\n  background: var(--sklearn-color-unfitted-level-0);\n  border: .5pt solid var(--sklearn-color-unfitted-level-3);\n}\n\n.sk-estimator-doc-link.fitted span {\n  /* fitted */\n  background: var(--sklearn-color-fitted-level-0);\n  border: var(--sklearn-color-fitted-level-3);\n}\n\n.sk-estimator-doc-link:hover span {\n  display: block;\n}\n\n/* \"?\"-specific style due to the `<a>` HTML tag */\n\n#sk-container-id-2 a.estimator_doc_link {\n  float: right;\n  font-size: 1rem;\n  line-height: 1em;\n  font-family: monospace;\n  background-color: var(--sklearn-color-background);\n  border-radius: 1rem;\n  height: 1rem;\n  width: 1rem;\n  text-decoration: none;\n  /* unfitted */\n  color: var(--sklearn-color-unfitted-level-1);\n  border: var(--sklearn-color-unfitted-level-1) 1pt solid;\n}\n\n#sk-container-id-2 a.estimator_doc_link.fitted {\n  /* fitted */\n  border: var(--sklearn-color-fitted-level-1) 1pt solid;\n  color: var(--sklearn-color-fitted-level-1);\n}\n\n/* On hover */\n#sk-container-id-2 a.estimator_doc_link:hover {\n  /* unfitted */\n  background-color: var(--sklearn-color-unfitted-level-3);\n  color: var(--sklearn-color-background);\n  text-decoration: none;\n}\n\n#sk-container-id-2 a.estimator_doc_link.fitted:hover {\n  /* fitted */\n  background-color: var(--sklearn-color-fitted-level-3);\n}\n</style><div id=\"sk-container-id-2\" class=\"sk-top-container\"><div class=\"sk-text-repr-fallback\"><pre>DecisionTreeRegressor(ccp_alpha=0.005, max_depth=14, min_samples_split=5,\n                      random_state=42)</pre><b>In a Jupyter environment, please rerun this cell to show the HTML representation or trust the notebook. <br />On GitHub, the HTML representation is unable to render, please try loading this page with nbviewer.org.</b></div><div class=\"sk-container\" hidden><div class=\"sk-item\"><div class=\"sk-estimator fitted sk-toggleable\"><input class=\"sk-toggleable__control sk-hidden--visually\" id=\"sk-estimator-id-2\" type=\"checkbox\" checked><label for=\"sk-estimator-id-2\" class=\"sk-toggleable__label fitted sk-toggleable__label-arrow fitted\">&nbsp;&nbsp;DecisionTreeRegressor<a class=\"sk-estimator-doc-link fitted\" rel=\"noreferrer\" target=\"_blank\" href=\"https://scikit-learn.org/1.4/modules/generated/sklearn.tree.DecisionTreeRegressor.html\">?<span>Documentation for DecisionTreeRegressor</span></a><span class=\"sk-estimator-doc-link fitted\">i<span>Fitted</span></span></label><div class=\"sk-toggleable__content fitted\"><pre>DecisionTreeRegressor(ccp_alpha=0.005, max_depth=14, min_samples_split=5,\n                      random_state=42)</pre></div> </div></div></div></div>"
     },
     "execution_count": 22,
     "metadata": {},
     "output_type": "execute_result"
    }
   ],
   "source": [
    "search = RandomizedSearchCV(DecisionTreeRegressor(random_state=42), params, verbose=2, n_iter=100, random_state=42)\n",
    "search.fit(x_train, y_train)\n",
    "search.best_estimator_"
   ],
   "metadata": {
    "collapsed": false,
    "ExecuteTime": {
     "end_time": "2024-03-13T16:07:10.499902Z",
     "start_time": "2024-03-13T16:07:05.853967Z"
    }
   },
   "id": "b148a312b2f9c547",
   "execution_count": 22
  },
  {
   "cell_type": "code",
   "outputs": [
    {
     "data": {
      "text/plain": "0.9263683254530819"
     },
     "execution_count": 23,
     "metadata": {},
     "output_type": "execute_result"
    }
   ],
   "source": [
    "model = search.best_estimator_\n",
    "model.fit(x_train, y_train)\n",
    "y_pred = model.predict(x_test)\n",
    "r2score = r2_score(y_pred, y_test)\n",
    "r2score # как видим, скоры очень близкие к изначальным"
   ],
   "metadata": {
    "collapsed": false,
    "ExecuteTime": {
     "end_time": "2024-03-13T16:07:10.568218Z",
     "start_time": "2024-03-13T16:07:10.500909Z"
    }
   },
   "id": "4f09bb7a9e3c29ac",
   "execution_count": 23
  }
 ],
 "metadata": {
  "kernelspec": {
   "display_name": "Python 3",
   "language": "python",
   "name": "python3"
  },
  "language_info": {
   "codemirror_mode": {
    "name": "ipython",
    "version": 2
   },
   "file_extension": ".py",
   "mimetype": "text/x-python",
   "name": "python",
   "nbconvert_exporter": "python",
   "pygments_lexer": "ipython2",
   "version": "2.7.6"
  }
 },
 "nbformat": 4,
 "nbformat_minor": 5
}
