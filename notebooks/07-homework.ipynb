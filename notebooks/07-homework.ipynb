{
 "cells": [
  {
   "cell_type": "markdown",
   "id": "75463811-fb8b-412c-a738-fb4b6a2ad203",
   "metadata": {},
   "source": [
    "# ДЗ 7\n",
    "\n",
    "Взять модель из предыдущей домашки и написать программу-обертку для обучения и предсказания модели.\n",
    "\n",
    "Читать аргументы консоли можно, например, при помощи click https://click.palletsprojects.com"
   ]
  },
  {
   "cell_type": "markdown",
   "id": "85cebdfa-6bb7-4e10-ab68-e88dee9ac313",
   "metadata": {},
   "source": [
    "## Easy\n",
    "\n",
    "Написать CLI-программу, которая должна уметь делать вот такие штуки:\n",
    "\n",
    "`python main.py train --data train.csv --test test.csv --model model.pkl`\n",
    "\n",
    "`python main.py train --data train.csv --split 0.2 --model model.pkl`\n",
    "\n",
    "`python main.py predict --model model.pkl --data \"some text\"`\n",
    "\n",
    "`python main.py predict --model model.pkl --data test.csv`\n",
    "\n",
    "Команда `train` должна обучать модель по данным `--data` и складывать результат в `--model` в формате pickle. Если передается аргумент `--test` или `--split`, то формируется тестовый датасет, на котором нужно будет посчитать метрики после обучения. `--test` - пусть до файла с тестовыми данными в том же формате, что и `--data`. `--split` - доля тестовой выборки, которая отделится от `--data`.\n",
    "\n",
    "Команда `predict` должна выдавать предсказание модели. `--model` - путь до файла с моделью с этапа обучения, `data` - либо файл, либо строка. Если это файл, то формат как в `--data` и тогда в консоль выводим предсказания через `\\n`.\n",
    "\n",
    "Вызвать в юпитер ноутбуке эти команды (через восклицательный знак), вывод должен остаться в ноутбуке как доказательство работоспособности команды"
   ]
  },
  {
   "cell_type": "code",
   "execution_count": 1,
   "id": "a47c6b53-bd4f-4935-8db6-058ec0d50580",
   "metadata": {},
   "outputs": [
    {
     "name": "stdout",
     "output_type": "stream",
     "text": [
      "Usage: main.py train [OPTIONS]\n",
      "\n",
      "Options:\n",
      "  --data TEXT    Data to train on.  [required]\n",
      "  --model TEXT   Path to save model to  [required]\n",
      "  --test TEXT    Data to test on. Shouldn't be passed with split together.\n",
      "  --split FLOAT  If passed, data will be split into two parts, (split) test\n",
      "                 and (1 - split) train.\n",
      "  --help         Show this message and exit.\n"
     ]
    }
   ],
   "source": [
    "!python main.py train --help"
   ]
  },
  {
   "cell_type": "code",
   "execution_count": 2,
   "id": "37ed4e81-d3ef-43e3-a0da-99422f13cbe5",
   "metadata": {},
   "outputs": [
    {
     "name": "stdout",
     "output_type": "stream",
     "text": [
      "You called train function\n",
      "Model fited and will be saved now to model.pkl\n"
     ]
    }
   ],
   "source": [
    "!python main.py train --data ../data/singapore_airlines_reviews.csv --model model.pkl"
   ]
  },
  {
   "cell_type": "code",
   "execution_count": 3,
   "id": "517ba346-c764-4cbd-b4c4-3e959814602e",
   "metadata": {},
   "outputs": [
    {
     "name": "stdout",
     "output_type": "stream",
     "text": [
      "You called train function\n",
      "data was splitted into sizes of 8000 train and 2000 test\n",
      "Metrcis are: \n",
      "              precision    recall  f1-score   support\n",
      "\n",
      "           1       0.67      0.74      0.71       206\n",
      "           2       0.33      0.02      0.03       110\n",
      "           3       0.50      0.37      0.43       211\n",
      "           4       0.51      0.25      0.34       397\n",
      "           5       0.73      0.96      0.83      1076\n",
      "\n",
      "    accuracy                           0.68      2000\n",
      "   macro avg       0.55      0.47      0.47      2000\n",
      "weighted avg       0.63      0.68      0.63      2000\n",
      "\n",
      "Model fited and will be saved now to model.pkl\n"
     ]
    }
   ],
   "source": [
    "!python main.py train --data ../data/singapore_airlines_reviews.csv --model model.pkl --split 0.2"
   ]
  },
  {
   "cell_type": "code",
   "execution_count": 4,
   "id": "0c1ae0f9-7f35-4796-9968-b7543d11f701",
   "metadata": {},
   "outputs": [
    {
     "name": "stdout",
     "output_type": "stream",
     "text": [
      "Usage: main.py predict [OPTIONS]\n",
      "\n",
      "Options:\n",
      "  --data TEXT   Data to predict on. Either path to csv file, or string in\n",
      "                format <text | target>  [required]\n",
      "  --model TEXT  Path to save model to  [required]\n",
      "  --help        Show this message and exit.\n"
     ]
    }
   ],
   "source": [
    "!python main.py predict --help"
   ]
  },
  {
   "cell_type": "code",
   "execution_count": 5,
   "id": "e15782ea-affb-49c0-834d-e16ad869b7f1",
   "metadata": {},
   "outputs": [
    {
     "name": "stdout",
     "output_type": "stream",
     "text": [
      "ok used airline go singapore london heathrow issues tickets cancelled one tickets trying get sorted cost lot money due roaming charges lengthy phone calls needed get ticket reinstated trying charge varying amounts resolve poor service got airport check desk due issue meant online check couldnt done premium economy spacious two seats either side plane 3 seats middle plane seemed relatively new brand new legroom good seats wider bigger arm rest two seats fold away tray tables good choice movies things tv shows games etc food ok didnt seem much different economy standard flight crew seemed friendly enough didnt really go isles drinks maybe twice whole 1314 hour flight airlines would done quite often overall flight ok seats comfy legroom good food ok flight crew could attentive especially premium economy would expect service slightly better economy\n",
      "4\n",
      "\n",
      "--------\n",
      "service suites class makes one feel like vip service singapore airlines suites class nothing excellent cabin crew warm friendly importantly came across sincere genuine throughout flight interacted leading stewardess sharifah went way ensure comfortable well taken care saw patrolling cabin consistently check needed anythingi could see looking suite always read assist us even offered make bed breakfast run could rest asked could walk around decks aircraft sharifah volunteered show around knowledgeable configurations a380 aircraft even pointed best seats cabin class walked suites class cabin resembles private cabins onboard sleeper trains gives suites class passengers form privacy cut holes cabin doors shape flower design somewhat reduce privacy got suites class cabins two lavatories front aircraft catering six suites class passengers lavatory right bigger two featuring vanity table toilet sink plenty space lavatory passengers change lalique pyjamas provided suites class passengers lavatory left smaller less luxurious passengers using lavatory still find spacious change pyjamas lavatory still provides amenities larger lavatory suites size biggest foremost suites 1a 1f 5m2 smallest 3a 3f aftmost suites measuring 33m2 occupy middle suite 2a 4m2 real estate suite fitted chair bed walls suite printed floral designs enhanced luxurious vibe come across loud top consistent design language cabin side table sits entrance suite flight attendants use side table place drinks snacks without needing deploy table table solid huge providing tons space suites class passengers table swivelled passengers get seat without stowing away seat first thing caught eye entered suite comfortable oversized pillow placed onto seat provide passengers greater comfort especially reclined mode seat measures 35 wide recline 45° calf rest seat deployed seat swivelled face tv front aircraft green light control panel would light indicate calf rests deployed swivelling seat controlled electronically via control panel built left side armrest tablet provided suite two power sockets came fitted usba charging outlets suite one side side table entrance suite another storage cubby window singapore airlines suites class features bed suite top comfortable seat singapore airlines uses lalique bedding bed found bed sturdy lacking terms comfort mattress padding tad thin lacked cushioning two pillows came bed soft liking lack storage space suites class onboard singapore airlines besides pockets shelving bulkheads seat small wardrobe door due slim design wardrobe limited amount things stowed space wardrobe passengers hang jackets bottom part wardrobe allowed stow away backpack storage fitted bulkhead suite due shallow design cubbies could use store smaller items singapore airlines designed open shelving space single leather strap beneath cubby holes singapore airlines fitted 32 hd touchscreen tv suite tv swivelled touch button either seat tablet face passengers sitting seat two ife controllers suite smaller one stowed seats armrest found intuitive use ife controller via tablet suite\n",
      "5\n",
      "\n",
      "--------\n",
      "don’t give money booked paid received email confirmation extra legroom seats 10 dec 4 feb checked seas gone resold paid seats put us standard seats spine support device means require extra space couldn’t use 13 12 hour flight exited wheelchair unable walk three week holiday tried 37 times reach philippines call centre appalling\n",
      "1\n",
      "\n",
      "--------\n",
      "best airline world best airline world seats food service brilliant crew friendly welcoming love flying singapore airlines\n",
      "5\n",
      "\n",
      "--------\n",
      "premium economy seating singapore airlines worth money premium economy seating singapore airlines narrow seats poor leg room compared air nz virgin drinks served plastic beakers roast chicken tough meat noodle dinner orange juice concoction premium offering toilets walk half way back economy cabin queue toilet one toilet plane working flown air nz day difference amenities poor value money apparent singapore airlines poor kris flyer website wish upgrade doesnt work\n",
      "2\n",
      "\n",
      "--------\n",
      "impossible get promised refund booked flights full 9 months advance paid well 11000 trip 2 weeks time booked trip around flights past 2 months changed flights 6 times resulting 15 hours stop overs delays making trip almost 32 hours long booked flight centre paid extra able cancel flights fight tooth nail get response let alone money back unenvious point paying litigation reclaim funds 9 months use wish flown well 30 times airline business family hundreds times end relationship never fly recommend poor integrity\n",
      "1\n",
      "\n",
      "--------\n",
      "woah fly sq fascinating experience sat seat stewardess offered warm towel felt welcomed treat well haha seats comfortable even gave teddy bear haha idk\n",
      "5\n",
      "\n",
      "--------\n",
      "long q check bad expeirence flight check baiyun airport took one hour plus q 5 counters economy class 2 business class lousy sq life\n",
      "1\n",
      "\n",
      "--------\n",
      "bad disappointed respected faculty bincy writing file complaint regarding cancellation connection flight singapore airlines irresponsible service singapore airlines airport staff members singapore parents 67 yr old dad 63 yr old mom travelled brisbane airport singapore airlines sq236 yesterday 1445 hrs arrived singapore airport 2025hrs yesterday late evening informed connection flight sq 536 booked confirmed got cancelled wait next day night informed us form communication secondly though parents older many health issues parents diabetic also taking insulin parents high blood pressure taking medicationsbut wait airport chair without support 24 hours without food especially non english speaking background mental stress physical discomforts 24 hours gone unimaginable cannot express full extent didnt get emotional physical support staffs singapore airportthey didnt arrange room rest proper lounge even food 24 hours parents prepared stay airport 4 hours booked tickets least transit time singapore airport trust services singapore airlines booked flight parents much confidence booked tickets agency sanjo travels india got confirmation singapore airlines didnt inform agency well completely mistake singapore airlines\n",
      "1\n",
      "\n",
      "--------\n",
      "give singapore airlines miss would rate singapore airlines worse ever travelled plus left time arrived time firstly one brought headsets ask one bfst omelette awful part yellow part brown rest inedible milk butter get comes liquid form squeeze tubes decaffeinated coffee hot chocolate wait nearly 11 hrs without food went galley hoping get sandwich available banana kitkat trays water nothing brought around 11 hrs choice juice films available limited date dinner eventually arrived inedible dinner drinks trolley choice red wine white wine chardonnay got half plastic cup wine repeats believe cost cutting detriment choice would never travel\n",
      "1\n",
      "\n",
      "--------\n"
     ]
    }
   ],
   "source": [
    "!python main.py predict --data ../data/singapore_airlines_reviews.csv --model model.pkl"
   ]
  },
  {
   "cell_type": "code",
   "execution_count": 6,
   "id": "2f9bec58-68c8-432e-aea6-a06b3ef9b97c",
   "metadata": {},
   "outputs": [
    {
     "name": "stdout",
     "output_type": "stream",
     "text": [
      "nice company 5\n"
     ]
    }
   ],
   "source": [
    "!python main.py predict --data \"Very nice company\" --model model.pkl"
   ]
  },
  {
   "cell_type": "markdown",
   "id": "2573408a-b977-4476-bf39-b12f9db1226d",
   "metadata": {},
   "source": [
    "## Medium\n",
    "\n",
    "Написать тесты на ваш код. Обработать краевые случаи.\n",
    "\n",
    "`python main.py test`\n",
    "или\n",
    "`pytest`\n",
    "\n",
    "Должно быть минимум три теста\n",
    "- функцию обучения (что оно корректно запускается на корректных данных, корректно реагирует на некорректные данные и что на выходе появляется sklearn-подобный файлик) - лучше запустить на каких-то небольших фиксированных данных и на маленькое количество итераций. после того, как тест отработает, файлик с моделью нужно удалить.\n",
    "- функцию предикта, и что на выходе ничего не появляется, кроме того, что ожидается (стоит подумать, что подавать на вход)\n",
    "- функцию разбиения данных - что это происходит в правильной пропорции и что происходит перемешивание. не забываем, что можно контроллировать random seed."
   ]
  },
  {
   "cell_type": "code",
   "execution_count": 7,
   "id": "3d106a44-9af1-4792-925f-da534aa6fc5a",
   "metadata": {},
   "outputs": [
    {
     "name": "stdout",
     "output_type": "stream",
     "text": [
      "\u001b[1m============================= test session starts =============================\u001b[0m\n",
      "platform win32 -- Python 3.12.2, pytest-8.1.1, pluggy-1.5.0\n",
      "rootdir: c:\\Users\\bentodan\\ml2024\\notebooks\n",
      "plugins: anyio-4.3.0\n",
      "collected 5 items\n",
      "\n",
      "test_main.py You called train function\n",
      "[Errno 2] No such file or directory: '../data/singapoor_airlines_reviews.csv'\n",
      "\u001b[32m.\u001b[0mYou called train function\n",
      "Model fited and will be saved now to model_test.pkl\n",
      "\u001b[32m.\u001b[0m\u001b[32m.\u001b[0m\u001b[32m.\u001b[0m\u001b[32m.\u001b[0m\n",
      "\n",
      "\u001b[32m============================= \u001b[32m\u001b[1m5 passed\u001b[0m\u001b[32m in 51.54s\u001b[0m\u001b[32m ==============================\u001b[0m\n"
     ]
    }
   ],
   "source": [
    "! pytest -s"
   ]
  },
  {
   "cell_type": "markdown",
   "id": "95ad7cfb-903c-4464-9184-57f3337339ae",
   "metadata": {},
   "source": [
    "## Hard\n",
    "\n",
    "Сделать простого телеграм-ботика с единственной функцией - он слушает входящие сообщения и отвечает тем, что скажет модель. Приложить в ноутбук скриншот с диалогом с ботом."
   ]
  },
  {
   "cell_type": "code",
   "execution_count": null,
   "id": "93b14012",
   "metadata": {},
   "outputs": [],
   "source": []
  }
 ],
 "metadata": {
  "kernelspec": {
   "display_name": "Python 3 (ipykernel)",
   "language": "python",
   "name": "python3"
  },
  "language_info": {
   "codemirror_mode": {
    "name": "ipython",
    "version": 3
   },
   "file_extension": ".py",
   "mimetype": "text/x-python",
   "name": "python",
   "nbconvert_exporter": "python",
   "pygments_lexer": "ipython3",
   "version": "3.12.2"
  }
 },
 "nbformat": 4,
 "nbformat_minor": 5
}
