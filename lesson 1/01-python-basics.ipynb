{
 "cells": [
  {
   "cell_type": "markdown",
   "metadata": {},
   "source": [
    "# Установка зависимостей\n",
    "\n",
    "<code>conda env create -f environment.yml</code>\n",
    "\n",
    "<code>conda activate classical-ml</code>\n"
   ]
  },
  {
   "cell_type": "markdown",
   "metadata": {},
   "source": [
    "# Синтаксис Python"
   ]
  },
  {
   "cell_type": "markdown",
   "metadata": {},
   "source": [
    "## Переменные\n",
    "\n",
    "Переменная - именованная область памяти, хранящяя какое-то значение"
   ]
  },
  {
   "cell_type": "code",
   "execution_count": 1,
   "metadata": {},
   "outputs": [],
   "source": [
    "a = 1"
   ]
  },
  {
   "cell_type": "markdown",
   "metadata": {},
   "source": [
    "Если в последней строке ячейки записать название переменной, то ее значение выведется"
   ]
  },
  {
   "cell_type": "code",
   "execution_count": 2,
   "metadata": {},
   "outputs": [
    {
     "data": {
      "text/plain": [
       "1"
      ]
     },
     "execution_count": 2,
     "metadata": {},
     "output_type": "execute_result"
    }
   ],
   "source": [
    "a"
   ]
  },
  {
   "cell_type": "markdown",
   "metadata": {},
   "source": [
    "Также, можно выводить значение через print"
   ]
  },
  {
   "cell_type": "code",
   "execution_count": 3,
   "metadata": {},
   "outputs": [
    {
     "name": "stdout",
     "output_type": "stream",
     "text": [
      "1\n"
     ]
    }
   ],
   "source": [
    "print(a)"
   ]
  },
  {
   "cell_type": "markdown",
   "metadata": {},
   "source": [
    "Значения могут быть разных типов. В Python необязательно указывать тип, но для наглядности укажем в примере ниже."
   ]
  },
  {
   "cell_type": "code",
   "execution_count": 4,
   "metadata": {},
   "outputs": [],
   "source": [
    "float_variable: float = 1.3\n",
    "string_variable: str = \"abcd\"\n",
    "bool_variable: bool = True"
   ]
  },
  {
   "cell_type": "markdown",
   "metadata": {},
   "source": [
    "Числа можно складывать"
   ]
  },
  {
   "cell_type": "code",
   "execution_count": 5,
   "metadata": {},
   "outputs": [
    {
     "data": {
      "text/plain": [
       "2.3"
      ]
     },
     "execution_count": 5,
     "metadata": {},
     "output_type": "execute_result"
    }
   ],
   "source": [
    "a + float_variable"
   ]
  },
  {
   "cell_type": "markdown",
   "metadata": {},
   "source": [
    "Число можно перевести в строку и обратно"
   ]
  },
  {
   "cell_type": "code",
   "execution_count": 6,
   "metadata": {},
   "outputs": [
    {
     "name": "stdout",
     "output_type": "stream",
     "text": [
      "1.3 <class 'str'>\n",
      "1.3 <class 'float'>\n"
     ]
    }
   ],
   "source": [
    "float2string = str(float_variable)\n",
    "print(float2string, type(float2string))\n",
    "\n",
    "string2float = float(float2string)\n",
    "print(string2float, type(string2float))"
   ]
  },
  {
   "cell_type": "markdown",
   "metadata": {},
   "source": [
    "## Условный оператор if\n",
    "\n",
    "Какое значение нужно задать у `float_variable`, чтобы вывело:\n",
    "- higher than 9;\n",
    "- lower than 5?"
   ]
  },
  {
   "cell_type": "code",
   "execution_count": 7,
   "metadata": {},
   "outputs": [
    {
     "name": "stdout",
     "output_type": "stream",
     "text": [
      "lower than 10\n"
     ]
    }
   ],
   "source": [
    "if float_variable < 10:\n",
    "    print(\"lower than 10\")\n",
    "elif float_variable < 5:\n",
    "    print(\"lower than 5\")\n",
    "else:\n",
    "    print(\"higher than 9\")"
   ]
  },
  {
   "cell_type": "markdown",
   "metadata": {},
   "source": [
    "## Цикл for\n",
    "\n",
    "При помощи цикла for мы можем компактно записать повторяющиеся строки кода"
   ]
  },
  {
   "cell_type": "code",
   "execution_count": 8,
   "metadata": {},
   "outputs": [
    {
     "name": "stdout",
     "output_type": "stream",
     "text": [
      "0 1 2 3 4 5 6 7 8 9 "
     ]
    }
   ],
   "source": [
    "for i in range(10):\n",
    "    print(i, end=\" \")"
   ]
  },
  {
   "cell_type": "code",
   "execution_count": 9,
   "metadata": {},
   "outputs": [
    {
     "name": "stdout",
     "output_type": "stream",
     "text": [
      "5 7 9 11 13 "
     ]
    }
   ],
   "source": [
    "for i in range(5, 15, 2):\n",
    "    print(i, end=\" \")"
   ]
  },
  {
   "cell_type": "markdown",
   "metadata": {},
   "source": [
    "## Базовые коллекции"
   ]
  },
  {
   "cell_type": "markdown",
   "metadata": {},
   "source": [
    "### Список\n",
    "\n",
    "Используем, когда нужно хранить много однообразных объектов"
   ]
  },
  {
   "cell_type": "code",
   "execution_count": 10,
   "metadata": {},
   "outputs": [
    {
     "name": "stdout",
     "output_type": "stream",
     "text": [
      "[1, 0, 2, 3, 10, 4, 18, 5] <class 'list'>\n",
      "[1, 0, 2, 3, 10, 4, 18, 5, 15]\n",
      "[0, 1, 2, 3, 4, 5, 10, 15, 18]\n"
     ]
    }
   ],
   "source": [
    "list_example = [1, 0, 2, 3, 10, 4, 18, 5]\n",
    "print(list_example, type(list_example))\n",
    "\n",
    "list_example.append(15)\n",
    "print(list_example)\n",
    "\n",
    "sorted_list = sorted(list_example)\n",
    "print(sorted_list)"
   ]
  },
  {
   "cell_type": "code",
   "execution_count": 11,
   "metadata": {},
   "outputs": [
    {
     "name": "stdout",
     "output_type": "stream",
     "text": [
      "1\n",
      "[1, 2]\n",
      "[18, 15, 10, 5, 4, 3, 2, 1, 0]\n"
     ]
    }
   ],
   "source": [
    "print(sorted_list[1])  # Вернет число\n",
    "print(sorted_list[1:3])  # Вернет список\n",
    "print(sorted_list[::-1])  # Развернем список"
   ]
  },
  {
   "cell_type": "code",
   "execution_count": 12,
   "metadata": {},
   "outputs": [
    {
     "data": {
      "text/plain": [
       "9"
      ]
     },
     "execution_count": 12,
     "metadata": {},
     "output_type": "execute_result"
    }
   ],
   "source": [
    "len(sorted_list)"
   ]
  },
  {
   "cell_type": "markdown",
   "metadata": {},
   "source": [
    "Если нам нужно что-то добавить к списку, то используем функцию `append`"
   ]
  },
  {
   "cell_type": "code",
   "execution_count": 13,
   "metadata": {},
   "outputs": [],
   "source": [
    "sorted_list.append(126)"
   ]
  },
  {
   "cell_type": "markdown",
   "metadata": {},
   "source": [
    "Список мутабелен, то есть может меняться с течением времени. Можно получать странные результаты.\n",
    "\n",
    "Список `sorted_list`, судя по названию, должен быть отсортирован. Но мы можем его изменить."
   ]
  },
  {
   "cell_type": "code",
   "execution_count": 14,
   "metadata": {},
   "outputs": [
    {
     "name": "stdout",
     "output_type": "stream",
     "text": [
      "[125, 1, 2, 3, 4, 5, 10, 15, 18, 126]\n"
     ]
    }
   ],
   "source": [
    "sorted_list[0] = 125\n",
    "print(sorted_list)"
   ]
  },
  {
   "cell_type": "markdown",
   "metadata": {},
   "source": [
    "Можно легко итерироваться по списку"
   ]
  },
  {
   "cell_type": "code",
   "execution_count": 15,
   "metadata": {},
   "outputs": [
    {
     "name": "stdout",
     "output_type": "stream",
     "text": [
      "126 2 3 4 5 6 11 16 19 127 "
     ]
    }
   ],
   "source": [
    "for i in sorted_list:\n",
    "    print(i + 1, end=\" \")"
   ]
  },
  {
   "cell_type": "markdown",
   "metadata": {},
   "source": [
    "Если нужно не только значение, но и индекс элемента, то можно использовать `enumerate`"
   ]
  },
  {
   "cell_type": "code",
   "execution_count": 16,
   "metadata": {},
   "outputs": [
    {
     "name": "stdout",
     "output_type": "stream",
     "text": [
      "0 125\n",
      "1 1\n",
      "2 2\n",
      "3 3\n",
      "4 4\n",
      "5 5\n",
      "6 10\n",
      "7 15\n",
      "8 18\n",
      "9 126\n"
     ]
    }
   ],
   "source": [
    "for i, val in enumerate(sorted_list):\n",
    "    print(i, val)"
   ]
  },
  {
   "cell_type": "markdown",
   "metadata": {},
   "source": [
    "## List comprehension"
   ]
  },
  {
   "cell_type": "markdown",
   "metadata": {},
   "source": [
    "Если нужно создать список по какому-то правилу, то есть list comprehension"
   ]
  },
  {
   "cell_type": "code",
   "execution_count": 17,
   "metadata": {},
   "outputs": [
    {
     "name": "stdout",
     "output_type": "stream",
     "text": [
      "[0, 1, 4, 9, 16, 25, 36, 49, 64, 81]\n"
     ]
    }
   ],
   "source": [
    "new_list = [value ** 2 for value in range(10)]\n",
    "print(new_list)"
   ]
  },
  {
   "cell_type": "markdown",
   "metadata": {},
   "source": [
    "Если есть возможность, лучше использовать list comprehension вместо обычного цикла"
   ]
  },
  {
   "cell_type": "code",
   "execution_count": 18,
   "metadata": {},
   "outputs": [
    {
     "name": "stdout",
     "output_type": "stream",
     "text": [
      "169 µs ± 1.27 µs per loop (mean ± std. dev. of 7 runs, 10,000 loops each)\n"
     ]
    }
   ],
   "source": [
    "%%timeit\n",
    "\n",
    "[i for i in range(10000)]"
   ]
  },
  {
   "cell_type": "code",
   "execution_count": 19,
   "metadata": {},
   "outputs": [
    {
     "name": "stdout",
     "output_type": "stream",
     "text": [
      "345 µs ± 536 ns per loop (mean ± std. dev. of 7 runs, 1,000 loops each)\n"
     ]
    }
   ],
   "source": [
    "%%timeit\n",
    "\n",
    "new_list = []\n",
    "for i in range(10000):\n",
    "    new_list.append(i)"
   ]
  },
  {
   "cell_type": "markdown",
   "metadata": {},
   "source": [
    "## Задача\n",
    "\n",
    "Вывести все четные числа среди квадратов чисел от 1 до 100."
   ]
  },
  {
   "cell_type": "code",
   "execution_count": 20,
   "metadata": {},
   "outputs": [],
   "source": [
    "# Ваш код здесь\n"
   ]
  },
  {
   "cell_type": "markdown",
   "metadata": {},
   "source": [
    "### Кортеж\n",
    "\n",
    "Нужно использовать, когда важен порядок элементов"
   ]
  },
  {
   "cell_type": "code",
   "execution_count": 21,
   "metadata": {},
   "outputs": [
    {
     "name": "stdout",
     "output_type": "stream",
     "text": [
      "(-10, 123, 0, 84) <class 'tuple'>\n",
      "-10\n"
     ]
    }
   ],
   "source": [
    "tuple_example = (-10, 123, 0, 84)\n",
    "print(tuple_example, type(tuple_example))\n",
    "print(tuple_example[0])"
   ]
  },
  {
   "cell_type": "markdown",
   "metadata": {},
   "source": [
    "Кортеж иммутабелен. Мы можем только создать новый кортеж."
   ]
  },
  {
   "cell_type": "code",
   "execution_count": 22,
   "metadata": {},
   "outputs": [
    {
     "ename": "TypeError",
     "evalue": "'tuple' object does not support item assignment",
     "output_type": "error",
     "traceback": [
      "\u001b[0;31m---------------------------------------------------------------------------\u001b[0m",
      "\u001b[0;31mTypeError\u001b[0m                                 Traceback (most recent call last)",
      "Input \u001b[0;32mIn [22]\u001b[0m, in \u001b[0;36m<cell line: 1>\u001b[0;34m()\u001b[0m\n\u001b[0;32m----> 1\u001b[0m tuple_example[\u001b[38;5;241m0\u001b[39m] \u001b[38;5;241m=\u001b[39m \u001b[38;5;241m123\u001b[39m\n",
      "\u001b[0;31mTypeError\u001b[0m: 'tuple' object does not support item assignment"
     ]
    }
   ],
   "source": [
    "tuple_example[0] = 123"
   ]
  },
  {
   "cell_type": "markdown",
   "metadata": {},
   "source": [
    "Обычно используем tuple как строку какой-то таблицы"
   ]
  },
  {
   "cell_type": "code",
   "execution_count": 23,
   "metadata": {},
   "outputs": [
    {
     "name": "stdout",
     "output_type": "stream",
     "text": [
      "Alex 25 175\n"
     ]
    }
   ],
   "source": [
    "person_table = [\n",
    "    (\"Alex\", 25, 175),\n",
    "    (\"Maria\", 45, 165),\n",
    "]\n",
    "\n",
    "name, age, height = person_table[0]\n",
    "print(name, age, height)"
   ]
  },
  {
   "cell_type": "markdown",
   "metadata": {},
   "source": [
    "## Словарь\n",
    "\n",
    "Используем, когда нужно отображать одни объекты в другие.\n",
    "\n",
    "Словарь не упорядочен, нужно использовать когда порядок значений не важен."
   ]
  },
  {
   "cell_type": "code",
   "execution_count": 24,
   "metadata": {},
   "outputs": [
    {
     "name": "stdout",
     "output_type": "stream",
     "text": [
      "{'name': 'Alex', 'id': 1} <class 'dict'>\n",
      "1\n",
      "{'name': 'Alex', 'id': 1, 'age': 25}\n"
     ]
    }
   ],
   "source": [
    "dict_example = {\"name\": \"Alex\", \"id\": 1}\n",
    "\n",
    "print(dict_example, type(dict_example))\n",
    "print(dict_example[\"id\"])\n",
    "\n",
    "dict_example[\"age\"] = 25\n",
    "print(dict_example)"
   ]
  },
  {
   "cell_type": "code",
   "execution_count": 25,
   "metadata": {},
   "outputs": [],
   "source": [
    "name2age = {\"Alex\": 25, \"Maria\": 45}"
   ]
  },
  {
   "cell_type": "code",
   "execution_count": 26,
   "metadata": {},
   "outputs": [
    {
     "data": {
      "text/plain": [
       "dict_keys(['name', 'id', 'age'])"
      ]
     },
     "execution_count": 26,
     "metadata": {},
     "output_type": "execute_result"
    }
   ],
   "source": [
    "dict_example.keys()"
   ]
  },
  {
   "cell_type": "code",
   "execution_count": 27,
   "metadata": {},
   "outputs": [
    {
     "data": {
      "text/plain": [
       "dict_items([('name', 'Alex'), ('id', 1), ('age', 25)])"
      ]
     },
     "execution_count": 27,
     "metadata": {},
     "output_type": "execute_result"
    }
   ],
   "source": [
    "dict_example.items()"
   ]
  },
  {
   "cell_type": "markdown",
   "metadata": {},
   "source": [
    "Словарь нельзя отсортировать, так как элементы неупорядочены"
   ]
  },
  {
   "cell_type": "code",
   "execution_count": null,
   "metadata": {},
   "outputs": [],
   "source": []
  },
  {
   "cell_type": "markdown",
   "metadata": {},
   "source": [
    "Есть dict comprehension"
   ]
  },
  {
   "cell_type": "code",
   "execution_count": 28,
   "metadata": {},
   "outputs": [
    {
     "name": "stdout",
     "output_type": "stream",
     "text": [
      "{'id': 1, 'value': 125}\n"
     ]
    }
   ],
   "source": [
    "keys = [\"id\", \"value\"]\n",
    "values = [1, 125]\n",
    "new_dict = {keys[i]: values[i] for i in range(len(keys))}\n",
    "print(new_dict)"
   ]
  },
  {
   "cell_type": "markdown",
   "metadata": {},
   "source": [
    "## Задача\n",
    "\n",
    "Дан словарь, который сопоставляет номер месяца с его названием. Сделать обратный словарь, который будет сопоставлять названию месяца его номер.\n",
    "\n",
    "Нельзя вручную задавать новый словарь."
   ]
  },
  {
   "cell_type": "code",
   "execution_count": 29,
   "metadata": {},
   "outputs": [],
   "source": [
    "month_dict = {\n",
    "    1: 'Январь',\n",
    "    2: 'Февраль',\n",
    "    3: 'Март',\n",
    "    4: 'Апрель',\n",
    "    5: 'Май',\n",
    "    6: 'Июнь',\n",
    "    7: 'Июль',\n",
    "    8: 'Август',\n",
    "    9: 'Сентябрь',\n",
    "    10: 'Октябрь',\n",
    "    11: 'Ноябрь',\n",
    "    12: 'Декабрь'\n",
    "}\n",
    "\n",
    "# Ваш код здесь\n"
   ]
  },
  {
   "cell_type": "markdown",
   "metadata": {},
   "source": [
    "# Функции\n",
    "\n",
    "Функция принимает на вход какие-то значения и что-то выдает. Функции нужны, чтобы убирать дублирования в коде.\n",
    "\n",
    "Создадим свою функцию:"
   ]
  },
  {
   "cell_type": "code",
   "execution_count": 30,
   "metadata": {},
   "outputs": [],
   "source": [
    "def add_one(x): # Сигнатура функции\n",
    "    # Тело функции (в нашем случае пустое)\n",
    "    return x + 1 # Возвращаемое значение (если не указать, то вернется None)"
   ]
  },
  {
   "cell_type": "markdown",
   "metadata": {},
   "source": [
    "Функция `add_one` принимает на вход параметр `x` и прибавляет к нему единицу\n",
    "\n",
    "Вызовем эту функцию:"
   ]
  },
  {
   "cell_type": "code",
   "execution_count": 31,
   "metadata": {},
   "outputs": [
    {
     "data": {
      "text/plain": [
       "6"
      ]
     },
     "execution_count": 31,
     "metadata": {},
     "output_type": "execute_result"
    }
   ],
   "source": [
    "add_one(5)"
   ]
  },
  {
   "cell_type": "markdown",
   "metadata": {},
   "source": [
    "## Задача\n",
    "\n",
    "Написать функцию, которая вернет список четных чисел от a до b"
   ]
  },
  {
   "cell_type": "code",
   "execution_count": null,
   "metadata": {},
   "outputs": [],
   "source": []
  },
  {
   "cell_type": "markdown",
   "metadata": {},
   "source": [
    "Напишем еще одну функцию. Что можно улучшить?"
   ]
  },
  {
   "cell_type": "code",
   "execution_count": 32,
   "metadata": {},
   "outputs": [],
   "source": [
    "def square_list(input_list):\n",
    "    new_list = []\n",
    "    for x in input_list:\n",
    "        new_list.append(x * x)\n",
    "    return new_list"
   ]
  },
  {
   "cell_type": "code",
   "execution_count": 33,
   "metadata": {},
   "outputs": [
    {
     "name": "stdout",
     "output_type": "stream",
     "text": [
      "[0, 1, 4, 9, 16, 25, 36, 49, 64, 81]\n"
     ]
    }
   ],
   "source": [
    "test_list = [i for i in range(10)]\n",
    "result_list = square_list(test_list)\n",
    "print(result_list)"
   ]
  },
  {
   "cell_type": "markdown",
   "metadata": {},
   "source": [
    "Еще используем для \"распаковки\" значений функции"
   ]
  },
  {
   "cell_type": "code",
   "execution_count": 34,
   "metadata": {},
   "outputs": [],
   "source": [
    "def some_function():\n",
    "    return 1, 2, 3\n",
    "\n",
    "a, b, c = some_function()"
   ]
  },
  {
   "cell_type": "code",
   "execution_count": 35,
   "metadata": {},
   "outputs": [
    {
     "data": {
      "text/plain": [
       "(1, 2)"
      ]
     },
     "execution_count": 35,
     "metadata": {},
     "output_type": "execute_result"
    }
   ],
   "source": [
    "def get_two_first_args(*args):\n",
    "    a, b, c = args\n",
    "    return a, b\n",
    "\n",
    "get_two_first_args(1, 2, 3)"
   ]
  },
  {
   "cell_type": "markdown",
   "metadata": {},
   "source": [
    "Если мы не хотим реализовывать функцию прямо сейчас, но хотим ее объявить, то можно использовать ключевое слово `pass`"
   ]
  },
  {
   "cell_type": "code",
   "execution_count": 36,
   "metadata": {},
   "outputs": [],
   "source": [
    "# Эта функция ничего не делает\n",
    "def empty_function():\n",
    "    pass"
   ]
  },
  {
   "cell_type": "markdown",
   "metadata": {},
   "source": [
    "Если не задать `pass`, то питон выдаст ошибку"
   ]
  },
  {
   "cell_type": "code",
   "execution_count": 37,
   "metadata": {},
   "outputs": [
    {
     "ename": "IndentationError",
     "evalue": "expected an indented block (1281291744.py, line 2)",
     "output_type": "error",
     "traceback": [
      "\u001b[0;36m  Input \u001b[0;32mIn [37]\u001b[0;36m\u001b[0m\n\u001b[0;31m    # не пишем pass и получаем ошибку\u001b[0m\n\u001b[0m                                     ^\u001b[0m\n\u001b[0;31mIndentationError\u001b[0m\u001b[0;31m:\u001b[0m expected an indented block\n"
     ]
    }
   ],
   "source": [
    "def empty_function():\n",
    "    # не пишем pass и получаем ошибку"
   ]
  },
  {
   "cell_type": "markdown",
   "metadata": {
    "tags": []
   },
   "source": [
    "## Задача\n",
    "\n",
    "Напишем функцию, которая принимает на вход любое количество аргумент и возвращает их среднее значение\n",
    "\n",
    "Пример:\n",
    "\n",
    "```python\n",
    "average(1, 2, 3)\n",
    "# 2\n",
    "\n",
    "average(1, 2, 3, 4, 5)\n",
    "# 3\n",
    "```"
   ]
  },
  {
   "cell_type": "code",
   "execution_count": 38,
   "metadata": {},
   "outputs": [],
   "source": [
    "# Ваш код здесь"
   ]
  },
  {
   "cell_type": "markdown",
   "metadata": {},
   "source": [
    "## Map, filter, reduce"
   ]
  },
  {
   "cell_type": "markdown",
   "metadata": {},
   "source": [
    "### Map\n",
    "Если нужно преобразовать каждый элемент коллекции, то используем map"
   ]
  },
  {
   "cell_type": "code",
   "execution_count": 39,
   "metadata": {},
   "outputs": [
    {
     "data": {
      "text/plain": [
       "[0, 1, 4, 9, 16, 25, 36, 49, 64, 81]"
      ]
     },
     "execution_count": 39,
     "metadata": {},
     "output_type": "execute_result"
    }
   ],
   "source": [
    "def square_element(x):\n",
    "    return x * x\n",
    "\n",
    "test_list = [i for i in range(10)]\n",
    "list(map(square_element, test_list))"
   ]
  },
  {
   "cell_type": "code",
   "execution_count": 40,
   "metadata": {},
   "outputs": [],
   "source": [
    "test_list = [i for i in range(100000)]\n"
   ]
  },
  {
   "cell_type": "markdown",
   "metadata": {},
   "source": [
    "`map` ленивый и ничего не сделает, если не обращаться к каждому элементу"
   ]
  },
  {
   "cell_type": "code",
   "execution_count": 41,
   "metadata": {},
   "outputs": [
    {
     "name": "stdout",
     "output_type": "stream",
     "text": [
      "82.1 ns ± 0.422 ns per loop (mean ± std. dev. of 7 runs, 10,000,000 loops each)\n"
     ]
    }
   ],
   "source": [
    "%%timeit\n",
    "\n",
    "map(square_element, test_list)"
   ]
  },
  {
   "cell_type": "markdown",
   "metadata": {},
   "source": [
    "а еще он медленнее чем list comprehension"
   ]
  },
  {
   "cell_type": "code",
   "execution_count": 42,
   "metadata": {},
   "outputs": [
    {
     "name": "stdout",
     "output_type": "stream",
     "text": [
      "3.08 ms ± 14.2 µs per loop (mean ± std. dev. of 7 runs, 100 loops each)\n"
     ]
    }
   ],
   "source": [
    "%%timeit\n",
    "\n",
    "[i * i for i in test_list]"
   ]
  },
  {
   "cell_type": "code",
   "execution_count": 43,
   "metadata": {},
   "outputs": [
    {
     "name": "stdout",
     "output_type": "stream",
     "text": [
      "4.41 ms ± 10.7 µs per loop (mean ± std. dev. of 7 runs, 100 loops each)\n"
     ]
    }
   ],
   "source": [
    "%%timeit\n",
    "\n",
    "list(map(square_element, test_list))"
   ]
  },
  {
   "cell_type": "markdown",
   "metadata": {},
   "source": [
    "Несколько фишек для укорачивания кода"
   ]
  },
  {
   "cell_type": "code",
   "execution_count": 44,
   "metadata": {},
   "outputs": [
    {
     "name": "stdout",
     "output_type": "stream",
     "text": [
      "0 1 4 9 16 25 36 49 64 81 "
     ]
    }
   ],
   "source": [
    "test_list = list(range(10)) # Так можно создавать лист\n",
    "for x in map(lambda x: x * x, test_list): # Так объявляются короткие функции\n",
    "    print(x, end=\" \") # Так можно использовать объект map"
   ]
  },
  {
   "cell_type": "markdown",
   "metadata": {},
   "source": [
    "### Filter"
   ]
  },
  {
   "cell_type": "markdown",
   "metadata": {},
   "source": [
    "Если нужно отобрать какие-то значения, то можно использовать filter"
   ]
  },
  {
   "cell_type": "code",
   "execution_count": 45,
   "metadata": {},
   "outputs": [
    {
     "data": {
      "text/plain": [
       "[10, 123]"
      ]
     },
     "execution_count": 45,
     "metadata": {},
     "output_type": "execute_result"
    }
   ],
   "source": [
    "test_list = [-5, 10, 123, -123]\n",
    "\n",
    "list(filter(lambda x: x > 0, test_list))"
   ]
  },
  {
   "cell_type": "markdown",
   "metadata": {},
   "source": [
    "Если использовать filter и map вместе, то можно очень быстро делать очень сложные вещи"
   ]
  },
  {
   "cell_type": "code",
   "execution_count": 46,
   "metadata": {},
   "outputs": [
    {
     "name": "stdout",
     "output_type": "stream",
     "text": [
      "[0, 1, -2, 3, -4, 5, -6, 7, -8, 9]\n"
     ]
    }
   ],
   "source": [
    "# Создадим тестовый список\n",
    "test_list = [i for i in range(10000)]\n",
    "# Четные элементы списка возьмем со знаком минус\n",
    "test_list[::2] = map(lambda x: -x, test_list[::2])\n",
    "print(test_list[:10])"
   ]
  },
  {
   "cell_type": "code",
   "execution_count": 47,
   "metadata": {},
   "outputs": [
    {
     "name": "stdout",
     "output_type": "stream",
     "text": [
      "361 µs ± 2.42 µs per loop (mean ± std. dev. of 7 runs, 1,000 loops each)\n"
     ]
    }
   ],
   "source": [
    "%%timeit\n",
    "\n",
    "new_list = []\n",
    "for x in test_list:\n",
    "    if x > 0:\n",
    "        new_list.append(x * x)"
   ]
  },
  {
   "cell_type": "code",
   "execution_count": 48,
   "metadata": {},
   "outputs": [
    {
     "name": "stdout",
     "output_type": "stream",
     "text": [
      "563 µs ± 4.3 µs per loop (mean ± std. dev. of 7 runs, 1,000 loops each)\n"
     ]
    }
   ],
   "source": [
    "%%timeit\n",
    "\n",
    "filtered = filter(lambda x: x > 0, test_list)\n",
    "list(map(lambda x: x * x, filtered))"
   ]
  },
  {
   "cell_type": "markdown",
   "metadata": {},
   "source": [
    "Немного медленнее, но у нас нет необходимости хранить в памяти сразу весь список"
   ]
  },
  {
   "cell_type": "markdown",
   "metadata": {},
   "source": [
    "### Reduce"
   ]
  },
  {
   "cell_type": "code",
   "execution_count": 49,
   "metadata": {},
   "outputs": [],
   "source": [
    "from functools import reduce"
   ]
  },
  {
   "cell_type": "markdown",
   "metadata": {},
   "source": [
    "Как работает reduce\n",
    "\n",
    "\n",
    "![](../images/reduce.png)\n",
    "\n",
    "Reduce стоит использовать, когда обрабатываете большое количество данных на кластере. В питоне это почти бесполезно."
   ]
  },
  {
   "cell_type": "code",
   "execution_count": 50,
   "metadata": {},
   "outputs": [
    {
     "data": {
      "text/plain": [
       "113"
      ]
     },
     "execution_count": 50,
     "metadata": {},
     "output_type": "execute_result"
    }
   ],
   "source": [
    "test_list = [47, 11, 42, 13]\n",
    "\n",
    "reduce(lambda x, y: x + y, test_list)"
   ]
  },
  {
   "cell_type": "code",
   "execution_count": 51,
   "metadata": {},
   "outputs": [
    {
     "data": {
      "text/plain": [
       "113"
      ]
     },
     "execution_count": 51,
     "metadata": {},
     "output_type": "execute_result"
    }
   ],
   "source": [
    "import operator\n",
    "\n",
    "reduce(operator.add, test_list)"
   ]
  },
  {
   "cell_type": "markdown",
   "metadata": {},
   "source": [
    "# Решаем квадратное уравнение\n",
    "\n",
    "Нужно написать код функции, которая на вход принимает коэфициенты a, b и c квадратного уравнения и считает ответ.\n",
    "\n",
    "Если корня два, то нужно вернуть кортеж вида $(x1, x2)$, где $x1 < x2$\n",
    "\n",
    "Если корень один, то просто возвращаем число\n",
    "\n",
    "Если корней нет, то возвращаем `None`"
   ]
  },
  {
   "cell_type": "code",
   "execution_count": 52,
   "metadata": {},
   "outputs": [],
   "source": [
    "from math import sqrt\n",
    "\n",
    "def solve_quadratic(a, b, c):\n",
    "    # Ваш код здесь\n",
    "    pass"
   ]
  },
  {
   "cell_type": "markdown",
   "metadata": {},
   "source": [
    "Ячейки ниже просто запускаем, чтобы проверить, что мы правильно написали функцию. Если не ругается, значит все ок."
   ]
  },
  {
   "cell_type": "code",
   "execution_count": 53,
   "metadata": {},
   "outputs": [],
   "source": [
    "def calculate_quadratic(a, b, c, x):\n",
    "    return a * x ** 2 + b * x + c\n",
    "\n",
    "def test_quadratic(a, b, c):\n",
    "    result = solve_quadratic(a, b, c)\n",
    "    if b * b - 4 * a * c < 0:\n",
    "        assert result is None\n",
    "        return\n",
    "    from typing import Iterable\n",
    "    if isinstance(result, Iterable):\n",
    "        x1, x2 = result\n",
    "        assert abs(calculate_quadratic(a, b, c, x1)) < 0.00001\n",
    "        assert abs(calculate_quadratic(a, b, c, x2)) < 0.00001\n",
    "    else:\n",
    "        x = result\n",
    "        assert abs(calculate_quadratic(a, b, c, x)) < 0.00001"
   ]
  },
  {
   "cell_type": "code",
   "execution_count": null,
   "metadata": {},
   "outputs": [],
   "source": [
    "test_quadratic(1, -2, -3) # два корня\n",
    "test_quadratic(1, 12, 36) # один корень\n",
    "test_quadratic(1, 0, 0)\n",
    "test_quadratic(0, 1, 0)\n",
    "test_quadratic(2, 4, -7) # два корня\n",
    "test_quadratic(1, 6, 9) # один корень\n",
    "test_quadratic(2, 4, 7) # нет корней"
   ]
  },
  {
   "cell_type": "markdown",
   "metadata": {},
   "source": [
    "## Работа с файлами\n",
    "\n",
    "Разберемся с форматом json. Про остальные форматы позже."
   ]
  },
  {
   "cell_type": "code",
   "execution_count": 54,
   "metadata": {},
   "outputs": [
    {
     "name": "stdout",
     "output_type": "stream",
     "text": [
      "hello world\n"
     ]
    }
   ],
   "source": [
    "# Сохраним строку\n",
    "with open('test.txt', 'w') as f:\n",
    "    f.write('hello world')\n",
    "    \n",
    "# Прочитаем файл\n",
    "with open('test.txt', 'r') as f:\n",
    "    print(f.read())"
   ]
  },
  {
   "cell_type": "markdown",
   "metadata": {},
   "source": [
    "Удалим файл"
   ]
  },
  {
   "cell_type": "code",
   "execution_count": 55,
   "metadata": {},
   "outputs": [],
   "source": [
    "import os\n",
    "\n",
    "os.remove('test.txt')"
   ]
  },
  {
   "cell_type": "markdown",
   "metadata": {},
   "source": [
    "### Сгенерируем данные"
   ]
  },
  {
   "cell_type": "code",
   "execution_count": 56,
   "metadata": {},
   "outputs": [],
   "source": [
    "import json\n",
    "import random"
   ]
  },
  {
   "cell_type": "code",
   "execution_count": 57,
   "metadata": {},
   "outputs": [
    {
     "data": {
      "text/plain": [
       "[{'item_id': 0, 'price': 312.0},\n",
       " {'item_id': 1, 'price': 643.7},\n",
       " {'item_id': 2, 'price': 116.1}]"
      ]
     },
     "execution_count": 57,
     "metadata": {},
     "output_type": "execute_result"
    }
   ],
   "source": [
    "def generate_item(item_id, price):\n",
    "    return {'item_id': item_id, 'price': price}\n",
    "\n",
    "items = [generate_item(item_id, round(random.random() * 1000, 1)) for item_id in range(100)]\n",
    "items[:3]"
   ]
  },
  {
   "cell_type": "markdown",
   "metadata": {},
   "source": [
    "### Сохраним и прочитаем как json"
   ]
  },
  {
   "cell_type": "code",
   "execution_count": 58,
   "metadata": {},
   "outputs": [
    {
     "name": "stdout",
     "output_type": "stream",
     "text": [
      "[{\"item_id\": 0, \"price\": 312.0}, {\"item_id\": 1, \"price\": 643.7}, {\"item_id\": 2, \"price\": 116.1}, {\"i\n",
      "[{'item_id': 0, 'price': 312.0}, {'item_id': 1, 'price': 643.7}, {'item_id': 2, 'price': 116.1}]\n"
     ]
    }
   ],
   "source": [
    "# Сконвертируем python-объект в формат json\n",
    "json_content = json.dumps(items)\n",
    "\n",
    "# А вот так сконвертить обратно\n",
    "json_items = json.loads(json_content)\n",
    "\n",
    "# Первые 100 символов\n",
    "print(json_content[:100])\n",
    "\n",
    "# Первые 3 элемента\n",
    "print(json_items[:3])"
   ]
  },
  {
   "cell_type": "code",
   "execution_count": 59,
   "metadata": {},
   "outputs": [
    {
     "name": "stdout",
     "output_type": "stream",
     "text": [
      "[{'item_id': 0, 'price': 312.0}, {'item_id': 1, 'price': 643.7}, {'item_id': 2, 'price': 116.1}]\n"
     ]
    }
   ],
   "source": [
    "# Сохраним в файл\n",
    "with open('test.json', 'w') as f:\n",
    "    f.write(json_content)\n",
    "\n",
    "# Прочитаем\n",
    "with open('test.json', 'r') as f:\n",
    "    content = json.loads(f.read())\n",
    "print(content[:3])"
   ]
  },
  {
   "cell_type": "code",
   "execution_count": 60,
   "metadata": {},
   "outputs": [],
   "source": [
    "os.remove('test.json')"
   ]
  },
  {
   "cell_type": "markdown",
   "metadata": {},
   "source": [
    "### Сохраним много файлов"
   ]
  },
  {
   "cell_type": "code",
   "execution_count": 61,
   "metadata": {},
   "outputs": [],
   "source": [
    "# Создадим папку, если ее нет\n",
    "dir_name = 'data'\n",
    "if not os.path.exists(dir_name):\n",
    "    os.makedirs(dir_name)\n",
    "\n",
    "for i, item in enumerate(items):\n",
    "    path = os.path.join(dir_name, f'{i}.json')\n",
    "    json.dump(item, open(path, 'w'))\n"
   ]
  },
  {
   "cell_type": "markdown",
   "metadata": {},
   "source": [
    "### Прочитаем файлики"
   ]
  },
  {
   "cell_type": "code",
   "execution_count": 62,
   "metadata": {},
   "outputs": [
    {
     "data": {
      "text/plain": [
       "(100,\n",
       " [{'item_id': 20, 'price': 698.4},\n",
       "  {'item_id': 98, 'price': 677.2},\n",
       "  {'item_id': 77, 'price': 293.3}])"
      ]
     },
     "execution_count": 62,
     "metadata": {},
     "output_type": "execute_result"
    }
   ],
   "source": [
    "new_items = []\n",
    "\n",
    "for filename in os.listdir(dir_name):\n",
    "    path = os.path.join(dir_name, filename)\n",
    "    if os.path.isfile(path):\n",
    "        item = json.load(open(path, 'r'))\n",
    "        new_items.append(item)\n",
    "\n",
    "len(new_items), new_items[:3]"
   ]
  },
  {
   "cell_type": "markdown",
   "metadata": {},
   "source": [
    "### Удалим файлики"
   ]
  },
  {
   "cell_type": "code",
   "execution_count": 64,
   "metadata": {},
   "outputs": [],
   "source": [
    "import shutil\n",
    "shutil.rmtree(dir_name)"
   ]
  },
  {
   "cell_type": "markdown",
   "metadata": {},
   "source": [
    "# Git\n",
    "\n",
    "`git init` - инициализировать репозиторий\n",
    "\n",
    "`git add .` - добавить все файлы к отслеживанию\n",
    "\n",
    "`git commit -m \"commit message\"` - сделать коммит с названием commit message\n",
    "\n",
    "`git push origin master` - сделать пуш в удаленный репозиторий origin в ветку master\n",
    "\n",
    "`git pull` - подтянуть изменения\n",
    "\n",
    "`git branch new-feature` - сделать ветку new-feature\n",
    "\n",
    "`git checkout new-feature` - перейти на ветку new-feature\n",
    "\n",
    "`git log` - посмотреть историю коммитов\n",
    "\n",
    "`git log --all --decorate --oneline --graph` - посмотреть красивую историю коммитов\n",
    "\n",
    "`git checkout 978be83` - перейти к коммиту 978be83\n",
    "\n",
    "При создании репозитория на github, будут написаны команды как запушить код в первый раз"
   ]
  },
  {
   "cell_type": "markdown",
   "metadata": {},
   "source": [
    "## Задача\n",
    "\n",
    "Последовательно сделать следующее:\n",
    "\n",
    "1. Создать новую папку test_git\n",
    "\n",
    "2. Инициализировать репозиторий\n",
    "\n",
    "3. Сделать текстовый файл 1.txt, заполнить его по своему усмотрению\n",
    "\n",
    "4. Сделать коммит\n",
    "\n",
    "5. Сделать новую ветку second-file, перейти в нее\n",
    "\n",
    "6. Закоммитить новый файл 2.txt с произвольным содержимым\n",
    "\n",
    "7. Перейти к master-ветке, проверить, что файл 2.txt остался в другой ветке\n",
    "\n",
    "8. Замержить ветку second-file в master"
   ]
  },
  {
   "cell_type": "markdown",
   "metadata": {},
   "source": [
    "# Anaconda\n",
    "\n",
    "`conda create -n my-environment python=3.11` - создать окружение my-environment с питоном 3.11\n",
    "\n",
    "`conda activate my-environment` - активировать окружение\n",
    "\n",
    "`conda deactivate` - деактивировать окружение\n",
    "\n",
    "`conda install numpy` - установка библиотеки\n",
    "\n",
    "`conda env export --name my-environment > env.yml` - экспорт всех библиотек в yml файл\n",
    "\n",
    "`conda env create --file env.yml` - создать окружение из файла env.yml"
   ]
  },
  {
   "cell_type": "markdown",
   "metadata": {},
   "source": [
    "# Полезные ссылки\n",
    "\n",
    "- [Git](https://git-scm.com/downloads)\n",
    "\n",
    "- [Anaconda](https://www.anaconda.com/products/individual#Downloads)\n",
    "\n",
    "- [Miniconda](https://docs.conda.io/projects/miniconda/en/latest/) - лучше вот это скачивать\n",
    "\n",
    "- [VS Code](https://code.visualstudio.com/download)\n",
    "\n",
    "- [Шпаргалка по анаконде](https://docs.conda.io/projects/conda/en/4.6.0/_downloads/52a95608c49671267e40c689e0bc00ca/conda-cheatsheet.pdf)\n",
    "\n",
    "- [Шпаргалка по гиту](https://education.github.com/git-cheat-sheet-education.pdf)\n",
    "\n",
    "- [Установка jupyterlab (вариант с conda install, не забываем активировать окружение)](https://jupyterlab.readthedocs.io/en/stable/getting_started/installation.html)"
   ]
  },
  {
   "cell_type": "markdown",
   "metadata": {},
   "source": [
    "# Домашнее задание (за него баллов нет, увы)\n",
    "\n",
    "- Вступить в чатик\n",
    "- Прочитать ПУД\n",
    "- Установить Anaconda и Git\n",
    "- Создать репозиторий на GitHub, отправить ссылку на почту\n"
   ]
  }
 ],
 "metadata": {
  "interpreter": {
   "hash": "3c60d125f86ecb331b65a8423cf0cca4676faa8812a500d14a58b02fbd427a36"
  },
  "kernelspec": {
   "display_name": "Python 3 (ipykernel)",
   "language": "python",
   "name": "python3"
  },
  "language_info": {
   "codemirror_mode": {
    "name": "ipython",
    "version": 3
   },
   "file_extension": ".py",
   "mimetype": "text/x-python",
   "name": "python",
   "nbconvert_exporter": "python",
   "pygments_lexer": "ipython3",
   "version": "3.9.12"
  }
 },
 "nbformat": 4,
 "nbformat_minor": 4
}
