{
 "cells": [
  {
   "cell_type": "markdown",
   "source": [
    "# Домашнее задание\n",
    "\n",
    "Установить Anaconda и Git. Создать репозиторий на GitHub"
   ],
   "metadata": {
    "collapsed": false
   },
   "id": "6ff3d75ffc916b6b"
  },
  {
   "cell_type": "markdown",
   "source": [
    "## Easy (+0.1)\n",
    "\n",
    "Написать функцию, которая на вход принимает список, а возвращает словарь со среднием, медианой и модой, например вот такой: `{\"mean\": ..., \"median\": ..., \"mode\": ...}`.\n",
    "\n",
    "Пример:\n",
    "\n",
    "```python\n",
    "\n",
    "func([0, 1, 1, 10, 5, 4, 3])\n",
    "\n",
    "# Должно вернуть: {\"mean\": 3.4285, \"median\": 3, \"mode\": 1}\n",
    "\n",
    "```"
   ],
   "metadata": {
    "collapsed": false
   },
   "id": "dcd3edd2baed3cd"
  },
  {
   "cell_type": "code",
   "outputs": [],
   "source": [
    "def median(inp):\n",
    "    if inp is None or len(inp) == 0:\n",
    "        return None\n",
    "    sorted_inp = sorted(inp)\n",
    "    l = len(inp)\n",
    "    if l % 2 == 1:\n",
    "        return sorted_inp[l // 2]\n",
    "    return (sorted_inp[l // 2 - 1] + sorted_inp[l // 2]) / 2\n",
    "\n",
    "\n",
    "def mode(inp):\n",
    "    if inp is None or len(inp) == 0:\n",
    "        return None\n",
    "    cnt = {}\n",
    "    for el in inp:\n",
    "        cnt[el] = cnt.get(el, 0) + 1\n",
    "    return max(cnt, key=cnt.get)\n",
    "\n",
    "\n",
    "def func(inp):\n",
    "    if inp == None or len(inp) == 0:\n",
    "        return {\"mean\": None, \"median\": None, \"mode\": None}\n",
    "    length = len(inp)\n",
    "    return {\"mean\": sum(inp) / length, \"median\": median(inp), \"mode\": mode(inp)}"
   ],
   "metadata": {
    "collapsed": false,
    "ExecuteTime": {
     "end_time": "2024-01-19T10:45:53.074035100Z",
     "start_time": "2024-01-19T10:45:53.060035200Z"
    }
   },
   "id": "684684962e2df821",
   "execution_count": 1
  },
  {
   "cell_type": "code",
   "outputs": [
    {
     "data": {
      "text/plain": "{'mean': 3.42857, 'median': 3, 'mode': 1}"
     },
     "execution_count": 2,
     "metadata": {},
     "output_type": "execute_result"
    }
   ],
   "source": [
    "%precision 5\n",
    "func([0, 1, 1, 10, 5, 4, 3])"
   ],
   "metadata": {
    "collapsed": false,
    "ExecuteTime": {
     "end_time": "2024-01-19T10:45:53.125036600Z",
     "start_time": "2024-01-19T10:45:53.074035100Z"
    }
   },
   "id": "ffdbf21b4b894459",
   "execution_count": 2
  },
  {
   "cell_type": "code",
   "outputs": [
    {
     "data": {
      "text/plain": "{'mean': 1.25000, 'median': 1.50000, 'mode': 2}"
     },
     "execution_count": 3,
     "metadata": {},
     "output_type": "execute_result"
    }
   ],
   "source": [
    "func([0, 1, 1, 0, 2, 2, 2, 2])"
   ],
   "metadata": {
    "collapsed": false,
    "ExecuteTime": {
     "end_time": "2024-01-19T10:45:53.126036100Z",
     "start_time": "2024-01-19T10:45:53.103038100Z"
    }
   },
   "id": "ae953cdedac21ef3",
   "execution_count": 3
  },
  {
   "cell_type": "markdown",
   "source": [
    "\n",
    "## Medium (+0.4)\n",
    "\n",
    "https://www.kaggle.com/datasets/databanditofficial/dota-hero-stats\n",
    "\n",
    "Написать функцию, которая будет парсить csv-файл dota_hero_stats.csv\n",
    "\n",
    "Сигнатура функции:\n",
    "\n",
    "```\n",
    "def parse_csv(file_content: str) -> List[Dict]\n",
    "```\n",
    "\n",
    "Найти персонажа с максимальным количеством ног (сторонние библиотеки использовать нельзя)"
   ],
   "metadata": {
    "collapsed": false
   },
   "id": "32b579793a9da9c9"
  },
  {
   "cell_type": "code",
   "outputs": [],
   "source": [
    "def parse_list(s):\n",
    "    \"\"\"\n",
    "    converts csv-like list to python list\n",
    "    \"\"\"\n",
    "    if s:\n",
    "        assert isinstance(s, str)\n",
    "        return [el.strip(\"[ ] \\\" \\' ' \") for el in s.split(',')]\n",
    "    return []"
   ],
   "metadata": {
    "collapsed": false,
    "ExecuteTime": {
     "end_time": "2024-01-19T10:45:53.158036100Z",
     "start_time": "2024-01-19T10:45:53.122049400Z"
    }
   },
   "id": "943a6c6ce66c0a15",
   "execution_count": 4
  },
  {
   "cell_type": "code",
   "outputs": [
    {
     "data": {
      "text/plain": "['Harold', 'Bruce', 'Bruce', 'Bruce', 'Harold']"
     },
     "execution_count": 5,
     "metadata": {},
     "output_type": "execute_result"
    }
   ],
   "source": [
    "parse_list(\"[\\\"Harold\\\", \\\"Bruce\\\", 'Bruce', 'Bruce', 'Harold\\\"]\")"
   ],
   "metadata": {
    "collapsed": false,
    "ExecuteTime": {
     "end_time": "2024-01-19T10:45:53.159035Z",
     "start_time": "2024-01-19T10:45:53.136036800Z"
    }
   },
   "id": "9e79de4e3cb1c33e",
   "execution_count": 5
  },
  {
   "cell_type": "code",
   "outputs": [],
   "source": [
    "def parse_csv(file_content: str):\n",
    "    result = []\n",
    "    with open(file_content, \"r\") as f:\n",
    "        keys = [el for el in f.readline().strip().split(\",\")]\n",
    "        for line in f.readlines():\n",
    "            result.append({key: val for key, val in zip(keys, line.strip().split(',', maxsplit=len(keys) - 1))})\n",
    "            result[-1]['roles'] = parse_list(result[-1]['roles'])\n",
    "    return result"
   ],
   "metadata": {
    "collapsed": false,
    "ExecuteTime": {
     "end_time": "2024-01-19T10:45:53.198035200Z",
     "start_time": "2024-01-19T10:45:53.155037600Z"
    }
   },
   "id": "72eca58509fb86e2",
   "execution_count": 6
  },
  {
   "cell_type": "code",
   "outputs": [
    {
     "name": "stdout",
     "output_type": "stream",
     "text": [
      "['', 'attack_type', 'id', 'legs', 'localized_name', 'name', 'primary_attr', 'roles']\n",
      "\n",
      "{'': '0', 'attack_type': 'Melee', 'id': '1', 'legs': '2', 'localized_name': 'Anti-Mage', 'name': 'npc_dota_hero_antimage', 'primary_attr': 'agi', 'roles': ['Carry', 'Escape', 'Nuker']}\n",
      "\n",
      "<class 'list'>\n"
     ]
    }
   ],
   "source": [
    "path = \"../data/dota_hero_stats.csv\"\n",
    "output = parse_csv(path)\n",
    "s = output[0]\n",
    "print(list(s.keys()), s, type(s['roles']), sep='\\n\\n')"
   ],
   "metadata": {
    "collapsed": false,
    "ExecuteTime": {
     "end_time": "2024-01-19T10:45:53.199035500Z",
     "start_time": "2024-01-19T10:45:53.170038700Z"
    }
   },
   "id": "5e6b1774b2cd1f59",
   "execution_count": 7
  },
  {
   "cell_type": "code",
   "outputs": [
    {
     "data": {
      "text/plain": "'Broodmother'"
     },
     "execution_count": 8,
     "metadata": {},
     "output_type": "execute_result"
    }
   ],
   "source": [
    "max_legs_character = max(output, key=lambda x: x['legs'])\n",
    "max_legs_character['localized_name']"
   ],
   "metadata": {
    "collapsed": false,
    "ExecuteTime": {
     "end_time": "2024-01-19T10:45:53.240035900Z",
     "start_time": "2024-01-19T10:45:53.185038100Z"
    }
   },
   "id": "33c173edf84a314b",
   "execution_count": 8
  },
  {
   "cell_type": "markdown",
   "source": [
    "## Hard (+ в карму)\n",
    "\n",
    "Придумать меру близости между двумя персонажами, описать текстом, реализовать кодом. Мера должна использовать все содержательные колонки: attack_type, legs, primary_attr, roles\n",
    "\n",
    "Найти двух персонажей, которые наиболее близки друг к другу.\n",
    "\n",
    "Также нельзя использовать сторонние библиотеки."
   ],
   "metadata": {
    "collapsed": false
   },
   "id": "93eb44563d8bb0a4"
  },
  {
   "cell_type": "markdown",
   "source": [
    " ### Мера близости:\n",
    " за плюсики не работаем"
   ],
   "metadata": {
    "collapsed": false
   },
   "id": "b01e64dcf0373300"
  }
 ],
 "metadata": {
  "kernelspec": {
   "display_name": "Python 3",
   "language": "python",
   "name": "python3"
  },
  "language_info": {
   "codemirror_mode": {
    "name": "ipython",
    "version": 2
   },
   "file_extension": ".py",
   "mimetype": "text/x-python",
   "name": "python",
   "nbconvert_exporter": "python",
   "pygments_lexer": "ipython2",
   "version": "2.7.6"
  }
 },
 "nbformat": 4,
 "nbformat_minor": 5
}
