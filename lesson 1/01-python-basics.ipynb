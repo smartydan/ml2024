{
 "cells": [
  {
   "cell_type": "markdown",
   "metadata": {},
   "source": [
    "# Установка зависимостей\n",
    "\n",
    "<code>conda env create -f environment.yml</code>\n",
    "\n",
    "<code>conda activate classical-ml</code>\n"
   ]
  },
  {
   "cell_type": "markdown",
   "metadata": {},
   "source": [
    "# Синтаксис Python"
   ]
  },
  {
   "cell_type": "markdown",
   "metadata": {},
   "source": [
    "## Переменные\n",
    "\n",
    "Переменная - именованная область памяти, хранящяя какое-то значение"
   ]
  },
  {
   "cell_type": "code",
   "execution_count": 1,
   "metadata": {
    "ExecuteTime": {
     "end_time": "2024-01-17T13:31:41.034260900Z",
     "start_time": "2024-01-17T13:31:40.319587900Z"
    }
   },
   "outputs": [],
   "source": [
    "a = 1"
   ]
  },
  {
   "cell_type": "markdown",
   "metadata": {},
   "source": [
    "Если в последней строке ячейки записать название переменной, то ее значение выведется"
   ]
  },
  {
   "cell_type": "code",
   "execution_count": 2,
   "metadata": {
    "ExecuteTime": {
     "end_time": "2024-01-17T13:31:41.132224900Z",
     "start_time": "2024-01-17T13:31:41.020941100Z"
    }
   },
   "outputs": [
    {
     "data": {
      "text/plain": "1"
     },
     "execution_count": 2,
     "metadata": {},
     "output_type": "execute_result"
    }
   ],
   "source": [
    "a"
   ]
  },
  {
   "cell_type": "markdown",
   "metadata": {},
   "source": [
    "Также, можно выводить значение через print"
   ]
  },
  {
   "cell_type": "code",
   "execution_count": 3,
   "metadata": {
    "ExecuteTime": {
     "end_time": "2024-01-17T13:31:41.274247600Z",
     "start_time": "2024-01-17T13:31:41.117230900Z"
    }
   },
   "outputs": [
    {
     "name": "stdout",
     "output_type": "stream",
     "text": [
      "1\n"
     ]
    }
   ],
   "source": [
    "print(a)"
   ]
  },
  {
   "cell_type": "markdown",
   "metadata": {},
   "source": [
    "Значения могут быть разных типов. В Python необязательно указывать тип, но для наглядности укажем в примере ниже."
   ]
  },
  {
   "cell_type": "code",
   "execution_count": 4,
   "metadata": {
    "ExecuteTime": {
     "end_time": "2024-01-17T13:31:41.351216600Z",
     "start_time": "2024-01-17T13:31:41.171230900Z"
    }
   },
   "outputs": [],
   "source": [
    "float_variable: float = 1.3\n",
    "string_variable: str = \"abcd\"\n",
    "bool_variable: bool = True"
   ]
  },
  {
   "cell_type": "markdown",
   "metadata": {},
   "source": [
    "Числа можно складывать"
   ]
  },
  {
   "cell_type": "code",
   "execution_count": 5,
   "metadata": {
    "ExecuteTime": {
     "end_time": "2024-01-17T13:31:41.475219Z",
     "start_time": "2024-01-17T13:31:41.329219700Z"
    }
   },
   "outputs": [
    {
     "data": {
      "text/plain": "2.3"
     },
     "execution_count": 5,
     "metadata": {},
     "output_type": "execute_result"
    }
   ],
   "source": [
    "a + float_variable"
   ]
  },
  {
   "cell_type": "markdown",
   "metadata": {},
   "source": [
    "Число можно перевести в строку и обратно"
   ]
  },
  {
   "cell_type": "code",
   "execution_count": 6,
   "metadata": {
    "ExecuteTime": {
     "end_time": "2024-01-17T13:31:41.544217300Z",
     "start_time": "2024-01-17T13:31:41.479218300Z"
    }
   },
   "outputs": [
    {
     "name": "stdout",
     "output_type": "stream",
     "text": [
      "1.3 <class 'str'>\n",
      "1.3 <class 'float'>\n"
     ]
    }
   ],
   "source": [
    "float2string = str(float_variable)\n",
    "print(float2string, type(float2string))\n",
    "\n",
    "string2float = float(float2string)\n",
    "print(string2float, type(string2float))"
   ]
  },
  {
   "cell_type": "markdown",
   "metadata": {},
   "source": [
    "## Условный оператор if\n",
    "\n",
    "Какое значение нужно задать у `float_variable`, чтобы вывело:\n",
    "- higher than 9;\n",
    "- lower than 5?"
   ]
  },
  {
   "cell_type": "code",
   "execution_count": 7,
   "metadata": {
    "ExecuteTime": {
     "end_time": "2024-01-17T13:31:41.643217200Z",
     "start_time": "2024-01-17T13:31:41.524220100Z"
    }
   },
   "outputs": [
    {
     "name": "stdout",
     "output_type": "stream",
     "text": [
      "lower than 10\n"
     ]
    }
   ],
   "source": [
    "if float_variable < 10:\n",
    "    print(\"lower than 10\")\n",
    "elif float_variable < 5:\n",
    "    print(\"lower than 5\")\n",
    "else:\n",
    "    print(\"higher than 9\")"
   ]
  },
  {
   "cell_type": "markdown",
   "metadata": {},
   "source": [
    "## Цикл for\n",
    "\n",
    "При помощи цикла for мы можем компактно записать повторяющиеся строки кода"
   ]
  },
  {
   "cell_type": "code",
   "execution_count": 8,
   "metadata": {
    "ExecuteTime": {
     "end_time": "2024-01-17T13:31:41.731261Z",
     "start_time": "2024-01-17T13:31:41.646218600Z"
    }
   },
   "outputs": [
    {
     "name": "stdout",
     "output_type": "stream",
     "text": [
      "0 1 2 3 4 5 6 7 8 9 "
     ]
    }
   ],
   "source": [
    "for i in range(10):\n",
    "    print(i, end=\" \")"
   ]
  },
  {
   "cell_type": "code",
   "execution_count": 9,
   "metadata": {
    "ExecuteTime": {
     "end_time": "2024-01-17T13:31:41.818228400Z",
     "start_time": "2024-01-17T13:31:41.714218Z"
    }
   },
   "outputs": [
    {
     "name": "stdout",
     "output_type": "stream",
     "text": [
      "5 7 9 11 13 "
     ]
    }
   ],
   "source": [
    "for i in range(5, 15, 2):\n",
    "    print(i, end=\" \")"
   ]
  },
  {
   "cell_type": "markdown",
   "metadata": {},
   "source": [
    "## Базовые коллекции"
   ]
  },
  {
   "cell_type": "markdown",
   "metadata": {},
   "source": [
    "### Список\n",
    "\n",
    "Используем, когда нужно хранить много однообразных объектов"
   ]
  },
  {
   "cell_type": "code",
   "execution_count": 10,
   "metadata": {
    "ExecuteTime": {
     "end_time": "2024-01-17T13:31:41.926263Z",
     "start_time": "2024-01-17T13:31:41.820219800Z"
    }
   },
   "outputs": [
    {
     "name": "stdout",
     "output_type": "stream",
     "text": [
      "[1, 0, 2, 3, 10, 4, 18, 5] <class 'list'>\n",
      "[1, 0, 2, 3, 10, 4, 18, 5, 15]\n",
      "[0, 1, 2, 3, 4, 5, 10, 15, 18]\n"
     ]
    }
   ],
   "source": [
    "list_example = [1, 0, 2, 3, 10, 4, 18, 5]\n",
    "print(list_example, type(list_example))\n",
    "\n",
    "list_example.append(15)\n",
    "print(list_example)\n",
    "\n",
    "sorted_list = sorted(list_example)\n",
    "print(sorted_list)"
   ]
  },
  {
   "cell_type": "code",
   "execution_count": 11,
   "metadata": {
    "ExecuteTime": {
     "end_time": "2024-01-17T13:31:42.051218100Z",
     "start_time": "2024-01-17T13:31:41.881217800Z"
    }
   },
   "outputs": [
    {
     "name": "stdout",
     "output_type": "stream",
     "text": [
      "1\n",
      "[1, 2]\n",
      "[18, 15, 10, 5, 4, 3, 2, 1, 0]\n"
     ]
    }
   ],
   "source": [
    "print(sorted_list[1])  # Вернет число\n",
    "print(sorted_list[1:3])  # Вернет список\n",
    "print(sorted_list[::-1])  # Развернем список"
   ]
  },
  {
   "cell_type": "code",
   "execution_count": 12,
   "metadata": {
    "ExecuteTime": {
     "end_time": "2024-01-17T13:31:42.121218200Z",
     "start_time": "2024-01-17T13:31:42.032219600Z"
    }
   },
   "outputs": [
    {
     "data": {
      "text/plain": "9"
     },
     "execution_count": 12,
     "metadata": {},
     "output_type": "execute_result"
    }
   ],
   "source": [
    "len(sorted_list)"
   ]
  },
  {
   "cell_type": "markdown",
   "metadata": {},
   "source": [
    "Если нам нужно что-то добавить к списку, то используем функцию `append`"
   ]
  },
  {
   "cell_type": "code",
   "execution_count": 13,
   "metadata": {
    "ExecuteTime": {
     "end_time": "2024-01-17T13:31:42.207220100Z",
     "start_time": "2024-01-17T13:31:42.108218600Z"
    }
   },
   "outputs": [],
   "source": [
    "sorted_list.append(126)"
   ]
  },
  {
   "cell_type": "markdown",
   "metadata": {},
   "source": [
    "Список мутабелен, то есть может меняться с течением времени. Можно получать странные результаты.\n",
    "\n",
    "Список `sorted_list`, судя по названию, должен быть отсортирован. Но мы можем его изменить."
   ]
  },
  {
   "cell_type": "code",
   "execution_count": 14,
   "metadata": {
    "ExecuteTime": {
     "end_time": "2024-01-17T13:31:42.273220300Z",
     "start_time": "2024-01-17T13:31:42.187218100Z"
    }
   },
   "outputs": [
    {
     "name": "stdout",
     "output_type": "stream",
     "text": [
      "[125, 1, 2, 3, 4, 5, 10, 15, 18, 126]\n"
     ]
    }
   ],
   "source": [
    "sorted_list[0] = 125\n",
    "print(sorted_list)"
   ]
  },
  {
   "cell_type": "markdown",
   "metadata": {},
   "source": [
    "Можно легко итерироваться по списку"
   ]
  },
  {
   "cell_type": "code",
   "execution_count": 15,
   "metadata": {
    "ExecuteTime": {
     "end_time": "2024-01-17T13:31:42.392461600Z",
     "start_time": "2024-01-17T13:31:42.276220800Z"
    }
   },
   "outputs": [
    {
     "name": "stdout",
     "output_type": "stream",
     "text": [
      "126 2 3 4 5 6 11 16 19 127 "
     ]
    }
   ],
   "source": [
    "for i in sorted_list:\n",
    "    print(i + 1, end=\" \")"
   ]
  },
  {
   "cell_type": "markdown",
   "metadata": {},
   "source": [
    "Если нужно не только значение, но и индекс элемента, то можно использовать `enumerate`"
   ]
  },
  {
   "cell_type": "code",
   "execution_count": 16,
   "metadata": {
    "ExecuteTime": {
     "end_time": "2024-01-17T13:31:42.471419900Z",
     "start_time": "2024-01-17T13:31:42.361219800Z"
    }
   },
   "outputs": [
    {
     "name": "stdout",
     "output_type": "stream",
     "text": [
      "0 125\n",
      "1 1\n",
      "2 2\n",
      "3 3\n",
      "4 4\n",
      "5 5\n",
      "6 10\n",
      "7 15\n",
      "8 18\n",
      "9 126\n"
     ]
    }
   ],
   "source": [
    "for i, val in enumerate(sorted_list):\n",
    "    print(i, val)"
   ]
  },
  {
   "cell_type": "markdown",
   "metadata": {},
   "source": [
    "## List comprehension"
   ]
  },
  {
   "cell_type": "markdown",
   "metadata": {},
   "source": [
    "Если нужно создать список по какому-то правилу, то есть list comprehension"
   ]
  },
  {
   "cell_type": "code",
   "execution_count": 17,
   "metadata": {
    "ExecuteTime": {
     "end_time": "2024-01-17T13:31:42.597461200Z",
     "start_time": "2024-01-17T13:31:42.474422700Z"
    }
   },
   "outputs": [
    {
     "name": "stdout",
     "output_type": "stream",
     "text": [
      "[0, 1, 4, 9, 16, 25, 36, 49, 64, 81]\n"
     ]
    }
   ],
   "source": [
    "new_list = [value ** 2 for value in range(10)]\n",
    "print(new_list)"
   ]
  },
  {
   "cell_type": "markdown",
   "metadata": {},
   "source": [
    "Если есть возможность, лучше использовать list comprehension вместо обычного цикла"
   ]
  },
  {
   "cell_type": "code",
   "execution_count": 18,
   "metadata": {
    "ExecuteTime": {
     "end_time": "2024-01-17T13:31:45.568706700Z",
     "start_time": "2024-01-17T13:31:42.565423500Z"
    }
   },
   "outputs": [
    {
     "name": "stdout",
     "output_type": "stream",
     "text": [
      "365 µs ± 39.9 µs per loop (mean ± std. dev. of 7 runs, 1,000 loops each)\n"
     ]
    }
   ],
   "source": [
    "%%timeit\n",
    "\n",
    "[i for i in range(10000)]"
   ]
  },
  {
   "cell_type": "code",
   "execution_count": 19,
   "metadata": {
    "ExecuteTime": {
     "end_time": "2024-01-17T13:31:51.818729400Z",
     "start_time": "2024-01-17T13:31:45.560654200Z"
    }
   },
   "outputs": [
    {
     "name": "stdout",
     "output_type": "stream",
     "text": [
      "770 µs ± 47 µs per loop (mean ± std. dev. of 7 runs, 1,000 loops each)\n"
     ]
    }
   ],
   "source": [
    "%%timeit\n",
    "\n",
    "new_list = []\n",
    "for i in range(10000):\n",
    "    new_list.append(i)"
   ]
  },
  {
   "cell_type": "markdown",
   "metadata": {},
   "source": [
    "## Задача\n",
    "\n",
    "Вывести все четные числа среди квадратов чисел от 1 до 100."
   ]
  },
  {
   "cell_type": "code",
   "execution_count": 20,
   "metadata": {
    "ExecuteTime": {
     "end_time": "2024-01-17T13:31:51.904728200Z",
     "start_time": "2024-01-17T13:31:51.814731200Z"
    }
   },
   "outputs": [
    {
     "name": "stdout",
     "output_type": "stream",
     "text": [
      "4\n",
      "16\n",
      "36\n",
      "64\n",
      "100\n",
      "144\n",
      "196\n",
      "256\n",
      "324\n",
      "400\n",
      "484\n",
      "576\n",
      "676\n",
      "784\n",
      "900\n",
      "1024\n",
      "1156\n",
      "1296\n",
      "1444\n",
      "1600\n",
      "1764\n",
      "1936\n",
      "2116\n",
      "2304\n",
      "2500\n",
      "2704\n",
      "2916\n",
      "3136\n",
      "3364\n",
      "3600\n",
      "3844\n",
      "4096\n",
      "4356\n",
      "4624\n",
      "4900\n",
      "5184\n",
      "5476\n",
      "5776\n",
      "6084\n",
      "6400\n",
      "6724\n",
      "7056\n",
      "7396\n",
      "7744\n",
      "8100\n",
      "8464\n",
      "8836\n",
      "9216\n",
      "9604\n",
      "10000\n"
     ]
    }
   ],
   "source": [
    "for x in range(1, 101):\n",
    "    if x % 2 == 0:\n",
    "        print(x * x)"
   ]
  },
  {
   "cell_type": "markdown",
   "metadata": {},
   "source": [
    "### Кортеж\n",
    "\n",
    "Нужно использовать, когда важен порядок элементов"
   ]
  },
  {
   "cell_type": "code",
   "execution_count": 21,
   "metadata": {
    "ExecuteTime": {
     "end_time": "2024-01-17T13:31:51.930729300Z",
     "start_time": "2024-01-17T13:31:51.834728500Z"
    }
   },
   "outputs": [
    {
     "name": "stdout",
     "output_type": "stream",
     "text": [
      "(-10, 123, 0, 84) <class 'tuple'>\n",
      "-10\n"
     ]
    }
   ],
   "source": [
    "tuple_example = (-10, 123, 0, 84)\n",
    "print(tuple_example, type(tuple_example))\n",
    "print(tuple_example[0])"
   ]
  },
  {
   "cell_type": "markdown",
   "metadata": {},
   "source": [
    "Кортеж иммутабелен. Мы можем только создать новый кортеж."
   ]
  },
  {
   "cell_type": "code",
   "execution_count": 22,
   "metadata": {
    "ExecuteTime": {
     "end_time": "2024-01-17T13:31:51.934767400Z",
     "start_time": "2024-01-17T13:31:51.846730200Z"
    }
   },
   "outputs": [],
   "source": [
    "# tuple_example[0] = 123"
   ]
  },
  {
   "cell_type": "markdown",
   "metadata": {},
   "source": [
    "Обычно используем tuple как строку какой-то таблицы"
   ]
  },
  {
   "cell_type": "code",
   "execution_count": 23,
   "metadata": {
    "ExecuteTime": {
     "end_time": "2024-01-17T13:31:52.073728600Z",
     "start_time": "2024-01-17T13:31:51.864728200Z"
    }
   },
   "outputs": [
    {
     "name": "stdout",
     "output_type": "stream",
     "text": [
      "Alex 25 175\n"
     ]
    }
   ],
   "source": [
    "person_table = [\n",
    "    (\"Alex\", 25, 175),\n",
    "    (\"Maria\", 45, 165),\n",
    "]\n",
    "\n",
    "name, age, height = person_table[0]\n",
    "print(name, age, height)"
   ]
  },
  {
   "cell_type": "markdown",
   "metadata": {},
   "source": [
    "## Словарь\n",
    "\n",
    "Используем, когда нужно отображать одни объекты в другие.\n",
    "\n",
    "Словарь не упорядочен, нужно использовать когда порядок значений не важен."
   ]
  },
  {
   "cell_type": "code",
   "execution_count": 24,
   "metadata": {
    "ExecuteTime": {
     "end_time": "2024-01-17T13:31:52.077727600Z",
     "start_time": "2024-01-17T13:31:51.879729200Z"
    }
   },
   "outputs": [
    {
     "name": "stdout",
     "output_type": "stream",
     "text": [
      "{'name': 'Alex', 'id': 1} <class 'dict'>\n",
      "1\n",
      "{'name': 'Alex', 'id': 1, 'age': 25}\n"
     ]
    }
   ],
   "source": [
    "dict_example = {\"name\": \"Alex\", \"id\": 1}\n",
    "\n",
    "print(dict_example, type(dict_example))\n",
    "print(dict_example[\"id\"])\n",
    "\n",
    "dict_example[\"age\"] = 25\n",
    "print(dict_example)"
   ]
  },
  {
   "cell_type": "code",
   "execution_count": 25,
   "metadata": {
    "ExecuteTime": {
     "end_time": "2024-01-17T13:31:52.104727500Z",
     "start_time": "2024-01-17T13:31:51.894728600Z"
    }
   },
   "outputs": [],
   "source": [
    "name2age = {\"Alex\": 25, \"Maria\": 45}"
   ]
  },
  {
   "cell_type": "code",
   "execution_count": 26,
   "metadata": {
    "ExecuteTime": {
     "end_time": "2024-01-17T13:31:52.130732700Z",
     "start_time": "2024-01-17T13:31:51.909729300Z"
    }
   },
   "outputs": [
    {
     "data": {
      "text/plain": "dict_keys(['name', 'id', 'age'])"
     },
     "execution_count": 26,
     "metadata": {},
     "output_type": "execute_result"
    }
   ],
   "source": [
    "dict_example.keys()"
   ]
  },
  {
   "cell_type": "code",
   "execution_count": 27,
   "metadata": {
    "ExecuteTime": {
     "end_time": "2024-01-17T13:31:52.149727400Z",
     "start_time": "2024-01-17T13:31:51.928732700Z"
    }
   },
   "outputs": [
    {
     "data": {
      "text/plain": "dict_items([('name', 'Alex'), ('id', 1), ('age', 25)])"
     },
     "execution_count": 27,
     "metadata": {},
     "output_type": "execute_result"
    }
   ],
   "source": [
    "dict_example.items()"
   ]
  },
  {
   "cell_type": "markdown",
   "metadata": {},
   "source": [
    "Словарь нельзя отсортировать, так как элементы неупорядочены"
   ]
  },
  {
   "cell_type": "code",
   "execution_count": 28,
   "metadata": {
    "ExecuteTime": {
     "end_time": "2024-01-17T13:31:52.153728300Z",
     "start_time": "2024-01-17T13:31:51.943728400Z"
    }
   },
   "outputs": [
    {
     "data": {
      "text/plain": "['age', 'id', 'name']"
     },
     "execution_count": 28,
     "metadata": {},
     "output_type": "execute_result"
    }
   ],
   "source": [
    "sorted(dict_example)"
   ]
  },
  {
   "cell_type": "markdown",
   "metadata": {},
   "source": [
    "Есть dict comprehension"
   ]
  },
  {
   "cell_type": "code",
   "execution_count": 29,
   "metadata": {
    "ExecuteTime": {
     "end_time": "2024-01-17T13:31:52.171728400Z",
     "start_time": "2024-01-17T13:31:51.961730700Z"
    }
   },
   "outputs": [
    {
     "name": "stdout",
     "output_type": "stream",
     "text": [
      "{'id': 1, 'value': 125}\n"
     ]
    }
   ],
   "source": [
    "keys = [\"id\", \"value\"]\n",
    "values = [1, 125]\n",
    "new_dict = {keys[i]: values[i] for i in range(len(keys))}\n",
    "print(new_dict)"
   ]
  },
  {
   "cell_type": "markdown",
   "metadata": {},
   "source": [
    "## Задача\n",
    "\n",
    "Дан словарь, который сопоставляет номер месяца с его названием. Сделать обратный словарь, который будет сопоставлять названию месяца его номер.\n",
    "\n",
    "Нельзя вручную задавать новый словарь."
   ]
  },
  {
   "cell_type": "code",
   "execution_count": 30,
   "metadata": {
    "ExecuteTime": {
     "end_time": "2024-01-17T13:31:52.364731800Z",
     "start_time": "2024-01-17T13:31:51.976729100Z"
    }
   },
   "outputs": [],
   "source": [
    "month_dict = {\n",
    "    1: 'Январь',\n",
    "    2: 'Февраль',\n",
    "    3: 'Март',\n",
    "    4: 'Апрель',\n",
    "    5: 'Май',\n",
    "    6: 'Июнь',\n",
    "    7: 'Июль',\n",
    "    8: 'Август',\n",
    "    9: 'Сентябрь',\n",
    "    10: 'Октябрь',\n",
    "    11: 'Ноябрь',\n",
    "    12: 'Декабрь'\n",
    "}\n",
    "\n",
    "reversed_month = {v: k for k, v in month_dict.items()}"
   ]
  },
  {
   "cell_type": "markdown",
   "metadata": {},
   "source": [
    "# Функции\n",
    "\n",
    "Функция принимает на вход какие-то значения и что-то выдает. Функции нужны, чтобы убирать дублирования в коде.\n",
    "\n",
    "Создадим свою функцию:"
   ]
  },
  {
   "cell_type": "code",
   "execution_count": 31,
   "metadata": {
    "ExecuteTime": {
     "end_time": "2024-01-17T13:31:52.367729600Z",
     "start_time": "2024-01-17T13:31:51.990727900Z"
    }
   },
   "outputs": [],
   "source": [
    "def add_one(x): # Сигнатура функции\n",
    "    # Тело функции (в нашем случае пустое)\n",
    "    return x + 1 # Возвращаемое значение (если не указать, то вернется None)"
   ]
  },
  {
   "cell_type": "markdown",
   "metadata": {},
   "source": [
    "Функция `add_one` принимает на вход параметр `x` и прибавляет к нему единицу\n",
    "\n",
    "Вызовем эту функцию:"
   ]
  },
  {
   "cell_type": "code",
   "execution_count": 32,
   "metadata": {
    "ExecuteTime": {
     "end_time": "2024-01-17T13:31:52.400780900Z",
     "start_time": "2024-01-17T13:31:52.004771600Z"
    }
   },
   "outputs": [
    {
     "data": {
      "text/plain": "6"
     },
     "execution_count": 32,
     "metadata": {},
     "output_type": "execute_result"
    }
   ],
   "source": [
    "add_one(5)"
   ]
  },
  {
   "cell_type": "markdown",
   "metadata": {},
   "source": [
    "## Задача\n",
    "\n",
    "Написать функцию, которая вернет список четных чисел от a до b"
   ]
  },
  {
   "cell_type": "code",
   "execution_count": 33,
   "metadata": {
    "ExecuteTime": {
     "end_time": "2024-01-17T13:31:52.404779800Z",
     "start_time": "2024-01-17T13:31:52.025728700Z"
    }
   },
   "outputs": [
    {
     "data": {
      "text/plain": "[2, 4, 6, 8, 10]"
     },
     "execution_count": 33,
     "metadata": {},
     "output_type": "execute_result"
    }
   ],
   "source": [
    "def even_numbers(a, b):\n",
    "    return [x for x in range(a + a % 2, b + 1, 2)]\n",
    "\n",
    "even_numbers(1, 10)"
   ]
  },
  {
   "cell_type": "markdown",
   "metadata": {},
   "source": [
    "Напишем еще одну функцию. Что можно улучшить?"
   ]
  },
  {
   "cell_type": "code",
   "execution_count": 34,
   "metadata": {
    "ExecuteTime": {
     "end_time": "2024-01-17T13:31:52.430780500Z",
     "start_time": "2024-01-17T13:31:52.037768700Z"
    }
   },
   "outputs": [],
   "source": [
    "def square_list(input_list):\n",
    "    new_list = []\n",
    "    for x in input_list:\n",
    "        new_list.append(x * x)\n",
    "    return new_list\n",
    "\n",
    "def square_list_2(input_list):\n",
    "    return [x * x for x in input_list]"
   ]
  },
  {
   "cell_type": "code",
   "execution_count": 35,
   "metadata": {
    "ExecuteTime": {
     "end_time": "2024-01-17T13:31:52.433821Z",
     "start_time": "2024-01-17T13:31:52.053733800Z"
    }
   },
   "outputs": [
    {
     "name": "stdout",
     "output_type": "stream",
     "text": [
      "[0, 1, 4, 9, 16, 25, 36, 49, 64, 81]\n"
     ]
    }
   ],
   "source": [
    "test_list = [i for i in range(10)]\n",
    "result_list = square_list(test_list)\n",
    "print(result_list)"
   ]
  },
  {
   "cell_type": "code",
   "outputs": [],
   "source": [
    "large_list = [i for i in range(1000000)]"
   ],
   "metadata": {
    "collapsed": false,
    "ExecuteTime": {
     "end_time": "2024-01-17T13:31:52.512784100Z",
     "start_time": "2024-01-17T13:31:52.069729800Z"
    }
   },
   "execution_count": 36
  },
  {
   "cell_type": "code",
   "outputs": [
    {
     "name": "stdout",
     "output_type": "stream",
     "text": [
      "119 ms ± 3.32 ms per loop (mean ± std. dev. of 7 runs, 10 loops each)\n"
     ]
    }
   ],
   "source": [
    "%%timeit\n",
    "square_list(large_list)"
   ],
   "metadata": {
    "collapsed": false,
    "ExecuteTime": {
     "end_time": "2024-01-17T13:32:01.862302900Z",
     "start_time": "2024-01-17T13:31:52.208770300Z"
    }
   },
   "execution_count": 37
  },
  {
   "cell_type": "code",
   "outputs": [
    {
     "name": "stdout",
     "output_type": "stream",
     "text": [
      "86.7 ms ± 6.87 ms per loop (mean ± std. dev. of 7 runs, 10 loops each)\n"
     ]
    }
   ],
   "source": [
    "%%timeit\n",
    "square_list_2(large_list)"
   ],
   "metadata": {
    "collapsed": false,
    "ExecuteTime": {
     "end_time": "2024-01-17T13:32:08.793108600Z",
     "start_time": "2024-01-17T13:32:01.860279200Z"
    }
   },
   "execution_count": 38
  },
  {
   "cell_type": "markdown",
   "metadata": {},
   "source": [
    "Еще используем для \"распаковки\" значений функции"
   ]
  },
  {
   "cell_type": "code",
   "execution_count": 39,
   "metadata": {
    "ExecuteTime": {
     "end_time": "2024-01-17T13:32:08.817610800Z",
     "start_time": "2024-01-17T13:32:08.797125Z"
    }
   },
   "outputs": [],
   "source": [
    "def some_function():\n",
    "    return 1, 2, 3\n",
    "\n",
    "a, b, c = some_function()"
   ]
  },
  {
   "cell_type": "code",
   "execution_count": 40,
   "metadata": {
    "ExecuteTime": {
     "end_time": "2024-01-17T13:32:08.915610500Z",
     "start_time": "2024-01-17T13:32:08.811611200Z"
    }
   },
   "outputs": [
    {
     "data": {
      "text/plain": "(1, 2)"
     },
     "execution_count": 40,
     "metadata": {},
     "output_type": "execute_result"
    }
   ],
   "source": [
    "def get_two_first_args(*args):\n",
    "    a, b, c = args\n",
    "    return a, b\n",
    "\n",
    "get_two_first_args(1, 2, 3)"
   ]
  },
  {
   "cell_type": "markdown",
   "metadata": {},
   "source": [
    "Если мы не хотим реализовывать функцию прямо сейчас, но хотим ее объявить, то можно использовать ключевое слово `pass`"
   ]
  },
  {
   "cell_type": "code",
   "execution_count": 41,
   "metadata": {
    "ExecuteTime": {
     "end_time": "2024-01-17T13:32:08.921611200Z",
     "start_time": "2024-01-17T13:32:08.844613600Z"
    }
   },
   "outputs": [],
   "source": [
    "# Эта функция ничего не делает\n",
    "def empty_function():\n",
    "    pass"
   ]
  },
  {
   "cell_type": "markdown",
   "metadata": {},
   "source": [
    "Если не задать `pass`, то питон выдаст ошибку"
   ]
  },
  {
   "cell_type": "code",
   "execution_count": 42,
   "metadata": {
    "ExecuteTime": {
     "end_time": "2024-01-17T13:32:09.059614600Z",
     "start_time": "2024-01-17T13:32:08.860614800Z"
    }
   },
   "outputs": [],
   "source": [
    "# def empty_function():\n",
    "    # не пишем pass и получаем ошибку"
   ]
  },
  {
   "cell_type": "markdown",
   "metadata": {
    "tags": []
   },
   "source": [
    "## Задача\n",
    "\n",
    "Напишем функцию, которая принимает на вход любое количество аргумент и возвращает их среднее значение\n",
    "\n",
    "Пример:\n",
    "\n",
    "```python\n",
    "average(1, 2, 3)\n",
    "# 2\n",
    "\n",
    "average(1, 2, 3, 4, 5)\n",
    "# 3\n",
    "```"
   ]
  },
  {
   "cell_type": "code",
   "execution_count": 43,
   "metadata": {
    "ExecuteTime": {
     "end_time": "2024-01-17T13:32:09.100611900Z",
     "start_time": "2024-01-17T13:32:08.876611400Z"
    }
   },
   "outputs": [
    {
     "data": {
      "text/plain": "(2.0, 7.0, None, 499.5)"
     },
     "execution_count": 43,
     "metadata": {},
     "output_type": "execute_result"
    }
   ],
   "source": [
    "def average(*args):\n",
    "    if args is None or len(args) == 0:\n",
    "        return None\n",
    "    return sum(args) / len(args)\n",
    "\n",
    "average(1, 2, 3), average(1, 2, 3, 4, 5, 6, 7, 8, 9, 10, 11, 12, 13), average(), average(*range(1000))"
   ]
  },
  {
   "cell_type": "markdown",
   "metadata": {},
   "source": [
    "## Map, filter, reduce"
   ]
  },
  {
   "cell_type": "markdown",
   "metadata": {},
   "source": [
    "### Map\n",
    "Если нужно преобразовать каждый элемент коллекции, то используем map"
   ]
  },
  {
   "cell_type": "code",
   "execution_count": 44,
   "metadata": {
    "ExecuteTime": {
     "end_time": "2024-01-17T13:32:09.100611900Z",
     "start_time": "2024-01-17T13:32:08.904611100Z"
    }
   },
   "outputs": [
    {
     "data": {
      "text/plain": "[0, 1, 4, 9, 16, 25, 36, 49, 64, 81]"
     },
     "execution_count": 44,
     "metadata": {},
     "output_type": "execute_result"
    }
   ],
   "source": [
    "def square_element(x):\n",
    "    return x * x\n",
    "\n",
    "test_list = [i for i in range(10)]\n",
    "list(map(square_element, test_list))"
   ]
  },
  {
   "cell_type": "code",
   "execution_count": 45,
   "metadata": {
    "ExecuteTime": {
     "end_time": "2024-01-17T13:32:09.145614200Z",
     "start_time": "2024-01-17T13:32:08.912610600Z"
    }
   },
   "outputs": [],
   "source": [
    "test_list = [i for i in range(100000)]\n"
   ]
  },
  {
   "cell_type": "markdown",
   "metadata": {},
   "source": [
    "`map` ленивый и ничего не сделает, если не обращаться к каждому элементу"
   ]
  },
  {
   "cell_type": "code",
   "execution_count": 46,
   "metadata": {
    "ExecuteTime": {
     "end_time": "2024-01-17T13:32:21.332699600Z",
     "start_time": "2024-01-17T13:32:08.936611200Z"
    }
   },
   "outputs": [
    {
     "name": "stdout",
     "output_type": "stream",
     "text": [
      "151 ns ± 4.39 ns per loop (mean ± std. dev. of 7 runs, 10,000,000 loops each)\n"
     ]
    }
   ],
   "source": [
    "%%timeit\n",
    "\n",
    "map(square_element, test_list)"
   ]
  },
  {
   "cell_type": "markdown",
   "metadata": {},
   "source": [
    "а еще он медленнее чем list comprehension"
   ]
  },
  {
   "cell_type": "code",
   "execution_count": 47,
   "metadata": {
    "ExecuteTime": {
     "end_time": "2024-01-17T13:32:26.004903700Z",
     "start_time": "2024-01-17T13:32:21.325723500Z"
    }
   },
   "outputs": [
    {
     "name": "stdout",
     "output_type": "stream",
     "text": [
      "5.8 ms ± 143 µs per loop (mean ± std. dev. of 7 runs, 100 loops each)\n"
     ]
    }
   ],
   "source": [
    "%%timeit\n",
    "\n",
    "[i * i for i in test_list]"
   ]
  },
  {
   "cell_type": "code",
   "execution_count": 48,
   "metadata": {
    "ExecuteTime": {
     "end_time": "2024-01-17T13:32:34.157614200Z",
     "start_time": "2024-01-17T13:32:26.036467600Z"
    }
   },
   "outputs": [
    {
     "name": "stdout",
     "output_type": "stream",
     "text": [
      "10.1 ms ± 548 µs per loop (mean ± std. dev. of 7 runs, 100 loops each)\n"
     ]
    }
   ],
   "source": [
    "%%timeit\n",
    "\n",
    "list(map(square_element, test_list))"
   ]
  },
  {
   "cell_type": "markdown",
   "metadata": {},
   "source": [
    "Несколько фишек для укорачивания кода"
   ]
  },
  {
   "cell_type": "code",
   "execution_count": 49,
   "metadata": {
    "ExecuteTime": {
     "end_time": "2024-01-17T13:32:34.168816700Z",
     "start_time": "2024-01-17T13:32:34.153541Z"
    }
   },
   "outputs": [
    {
     "name": "stdout",
     "output_type": "stream",
     "text": [
      "0 1 4 9 16 25 36 49 64 81 "
     ]
    }
   ],
   "source": [
    "test_list = list(range(10)) # Так можно создавать лист\n",
    "for x in map(lambda x: x * x, test_list): # Так объявляются короткие функции\n",
    "    print(x, end=\" \") # Так можно использовать объект map"
   ]
  },
  {
   "cell_type": "markdown",
   "metadata": {},
   "source": [
    "### Filter"
   ]
  },
  {
   "cell_type": "markdown",
   "metadata": {},
   "source": [
    "Если нужно отобрать какие-то значения, то можно использовать filter"
   ]
  },
  {
   "cell_type": "code",
   "execution_count": 50,
   "metadata": {
    "ExecuteTime": {
     "end_time": "2024-01-17T13:32:34.275813100Z",
     "start_time": "2024-01-17T13:32:34.166815900Z"
    }
   },
   "outputs": [
    {
     "data": {
      "text/plain": "[10, 123]"
     },
     "execution_count": 50,
     "metadata": {},
     "output_type": "execute_result"
    }
   ],
   "source": [
    "test_list = [-5, 10, 123, -123]\n",
    "\n",
    "list(filter(lambda x: x > 0, test_list))"
   ]
  },
  {
   "cell_type": "markdown",
   "metadata": {},
   "source": [
    "Если использовать filter и map вместе, то можно очень быстро делать очень сложные вещи"
   ]
  },
  {
   "cell_type": "code",
   "execution_count": 51,
   "metadata": {
    "ExecuteTime": {
     "end_time": "2024-01-17T13:32:34.278814200Z",
     "start_time": "2024-01-17T13:32:34.215772700Z"
    }
   },
   "outputs": [
    {
     "name": "stdout",
     "output_type": "stream",
     "text": [
      "[0, 1, -2, 3, -4, 5, -6, 7, -8, 9]\n"
     ]
    }
   ],
   "source": [
    "# Создадим тестовый список\n",
    "test_list = [i for i in range(10000)]\n",
    "# Четные элементы списка возьмем со знаком минус\n",
    "test_list[::2] = map(lambda x: -x, test_list[::2])\n",
    "print(test_list[:10])"
   ]
  },
  {
   "cell_type": "code",
   "execution_count": 52,
   "metadata": {
    "ExecuteTime": {
     "end_time": "2024-01-17T13:32:40.586789300Z",
     "start_time": "2024-01-17T13:32:34.229773200Z"
    }
   },
   "outputs": [
    {
     "name": "stdout",
     "output_type": "stream",
     "text": [
      "776 µs ± 26.9 µs per loop (mean ± std. dev. of 7 runs, 1,000 loops each)\n"
     ]
    }
   ],
   "source": [
    "%%timeit\n",
    "\n",
    "new_list = []\n",
    "for x in test_list:\n",
    "    if x > 0:\n",
    "        new_list.append(x * x)"
   ]
  },
  {
   "cell_type": "code",
   "execution_count": 53,
   "metadata": {
    "ExecuteTime": {
     "end_time": "2024-01-17T13:32:51.343790400Z",
     "start_time": "2024-01-17T13:32:40.584803400Z"
    }
   },
   "outputs": [
    {
     "name": "stdout",
     "output_type": "stream",
     "text": [
      "1.31 ms ± 74.2 µs per loop (mean ± std. dev. of 7 runs, 1,000 loops each)\n"
     ]
    }
   ],
   "source": [
    "%%timeit\n",
    "\n",
    "filtered = filter(lambda x: x > 0, test_list)\n",
    "list(map(lambda x: x * x, filtered))"
   ]
  },
  {
   "cell_type": "markdown",
   "metadata": {},
   "source": [
    "Немного медленнее, но у нас нет необходимости хранить в памяти сразу весь список"
   ]
  },
  {
   "cell_type": "markdown",
   "metadata": {},
   "source": [
    "### Reduce"
   ]
  },
  {
   "cell_type": "code",
   "execution_count": 54,
   "metadata": {
    "ExecuteTime": {
     "end_time": "2024-01-17T13:32:51.404980Z",
     "start_time": "2024-01-17T13:32:51.341907200Z"
    }
   },
   "outputs": [],
   "source": [
    "from functools import reduce"
   ]
  },
  {
   "cell_type": "markdown",
   "metadata": {},
   "source": [
    "Как работает reduce\n",
    "\n",
    "\n",
    "![](../images/reduce.png)\n",
    "\n",
    "Reduce стоит использовать, когда обрабатываете большое количество данных на кластере. В питоне это почти бесполезно."
   ]
  },
  {
   "cell_type": "code",
   "execution_count": 55,
   "metadata": {
    "ExecuteTime": {
     "end_time": "2024-01-17T13:32:51.409019900Z",
     "start_time": "2024-01-17T13:32:51.355979300Z"
    }
   },
   "outputs": [
    {
     "data": {
      "text/plain": "113"
     },
     "execution_count": 55,
     "metadata": {},
     "output_type": "execute_result"
    }
   ],
   "source": [
    "test_list = [47, 11, 42, 13]\n",
    "\n",
    "reduce(lambda x, y: x + y, test_list)"
   ]
  },
  {
   "cell_type": "code",
   "execution_count": 56,
   "metadata": {
    "ExecuteTime": {
     "end_time": "2024-01-17T13:32:51.429019700Z",
     "start_time": "2024-01-17T13:32:51.374979400Z"
    }
   },
   "outputs": [
    {
     "data": {
      "text/plain": "113"
     },
     "execution_count": 56,
     "metadata": {},
     "output_type": "execute_result"
    }
   ],
   "source": [
    "import operator\n",
    "\n",
    "reduce(operator.add, test_list)"
   ]
  },
  {
   "cell_type": "markdown",
   "metadata": {},
   "source": [
    "# Решаем квадратное уравнение\n",
    "\n",
    "Нужно написать код функции, которая на вход принимает коэфициенты a, b и c квадратного уравнения и считает ответ.\n",
    "\n",
    "Если корня два, то нужно вернуть кортеж вида $(x1, x2)$, где $x1 < x2$\n",
    "\n",
    "Если корень один, то просто возвращаем число\n",
    "\n",
    "Если корней нет, то возвращаем `None`"
   ]
  },
  {
   "cell_type": "code",
   "execution_count": 57,
   "metadata": {
    "ExecuteTime": {
     "end_time": "2024-01-17T13:32:51.533098200Z",
     "start_time": "2024-01-17T13:32:51.390979300Z"
    }
   },
   "outputs": [],
   "source": [
    "from math import sqrt\n",
    "\n",
    "def solve_quadratic(a, b, c):\n",
    "    if a == 0:\n",
    "        if b == 0:\n",
    "            if c == 0:\n",
    "                return [0, 0] #every x is solution flag\n",
    "            return None\n",
    "        return -c / b\n",
    "    d = b * b - 4 * a * c\n",
    "    if d < 0:\n",
    "        return None\n",
    "    if d == 0:\n",
    "        return - b / (2 * a)\n",
    "    x1 = (-b + sqrt(d)) / (2 * a)\n",
    "    x2 = (-b - sqrt(d)) / (2 * a)\n",
    "    return min(x1, x2), max(x1, x2)"
   ]
  },
  {
   "cell_type": "markdown",
   "metadata": {},
   "source": [
    "Ячейки ниже просто запускаем, чтобы проверить, что мы правильно написали функцию. Если не ругается, значит все ок."
   ]
  },
  {
   "cell_type": "code",
   "execution_count": 58,
   "metadata": {
    "ExecuteTime": {
     "end_time": "2024-01-17T13:32:51.566096700Z",
     "start_time": "2024-01-17T13:32:51.407979Z"
    }
   },
   "outputs": [],
   "source": [
    "def calculate_quadratic(a, b, c, x):\n",
    "    return a * x ** 2 + b * x + c\n",
    "\n",
    "def test_quadratic(a, b, c):\n",
    "    result = solve_quadratic(a, b, c)\n",
    "    if b * b - 4 * a * c < 0:\n",
    "        assert result is None\n",
    "        return\n",
    "    from typing import Iterable\n",
    "    if isinstance(result, Iterable):\n",
    "        x1, x2 = result\n",
    "        assert abs(calculate_quadratic(a, b, c, x1)) < 0.00001\n",
    "        assert abs(calculate_quadratic(a, b, c, x2)) < 0.00001\n",
    "    else:\n",
    "        x = result\n",
    "        assert abs(calculate_quadratic(a, b, c, x)) < 0.00001"
   ]
  },
  {
   "cell_type": "code",
   "execution_count": 59,
   "metadata": {
    "ExecuteTime": {
     "end_time": "2024-01-17T13:32:51.631097500Z",
     "start_time": "2024-01-17T13:32:51.423979900Z"
    }
   },
   "outputs": [],
   "source": [
    "test_quadratic(1, -2, -3) # два корня\n",
    "test_quadratic(1, 12, 36) # один корень\n",
    "test_quadratic(1, 0, 0)\n",
    "test_quadratic(0, 1, 0)\n",
    "test_quadratic(2, 4, -7) # два корня\n",
    "test_quadratic(1, 6, 9) # один корень\n",
    "test_quadratic(2, 4, 7) # нет корней"
   ]
  },
  {
   "cell_type": "markdown",
   "metadata": {},
   "source": [
    "## Работа с файлами\n",
    "\n",
    "Разберемся с форматом json. Про остальные форматы позже."
   ]
  },
  {
   "cell_type": "code",
   "execution_count": 60,
   "metadata": {
    "ExecuteTime": {
     "end_time": "2024-01-17T13:32:51.655097700Z",
     "start_time": "2024-01-17T13:32:51.438981600Z"
    }
   },
   "outputs": [
    {
     "name": "stdout",
     "output_type": "stream",
     "text": [
      "hello world\n"
     ]
    }
   ],
   "source": [
    "# Сохраним строку\n",
    "with open('test.txt', 'w') as f:\n",
    "    f.write('hello world')\n",
    "    \n",
    "# Прочитаем файл\n",
    "with open('test.txt', 'r') as f:\n",
    "    print(f.read())"
   ]
  },
  {
   "cell_type": "markdown",
   "metadata": {},
   "source": [
    "Удалим файл"
   ]
  },
  {
   "cell_type": "code",
   "execution_count": 61,
   "metadata": {
    "ExecuteTime": {
     "end_time": "2024-01-17T13:32:51.855097900Z",
     "start_time": "2024-01-17T13:32:51.460098200Z"
    }
   },
   "outputs": [],
   "source": [
    "import os\n",
    "\n",
    "os.remove('test.txt')"
   ]
  },
  {
   "cell_type": "markdown",
   "metadata": {},
   "source": [
    "### Сгенерируем данные"
   ]
  },
  {
   "cell_type": "code",
   "execution_count": 62,
   "metadata": {
    "ExecuteTime": {
     "end_time": "2024-01-17T13:32:51.905097600Z",
     "start_time": "2024-01-17T13:32:51.470101200Z"
    }
   },
   "outputs": [],
   "source": [
    "import json\n",
    "import random"
   ]
  },
  {
   "cell_type": "code",
   "execution_count": 63,
   "metadata": {
    "ExecuteTime": {
     "end_time": "2024-01-17T13:32:51.931096400Z",
     "start_time": "2024-01-17T13:32:51.485098500Z"
    }
   },
   "outputs": [
    {
     "data": {
      "text/plain": "[{'item_id': 0, 'price': 710.3},\n {'item_id': 1, 'price': 248.6},\n {'item_id': 2, 'price': 18.5}]"
     },
     "execution_count": 63,
     "metadata": {},
     "output_type": "execute_result"
    }
   ],
   "source": [
    "def generate_item(item_id, price):\n",
    "    return {'item_id': item_id, 'price': price}\n",
    "\n",
    "items = [generate_item(item_id, round(random.random() * 1000, 1)) for item_id in range(100)]\n",
    "items[:3]"
   ]
  },
  {
   "cell_type": "markdown",
   "metadata": {},
   "source": [
    "### Сохраним и прочитаем как json"
   ]
  },
  {
   "cell_type": "code",
   "execution_count": 64,
   "metadata": {
    "ExecuteTime": {
     "end_time": "2024-01-17T13:32:51.936099400Z",
     "start_time": "2024-01-17T13:32:51.501100500Z"
    }
   },
   "outputs": [
    {
     "name": "stdout",
     "output_type": "stream",
     "text": [
      "[{\"item_id\": 0, \"price\": 710.3}, {\"item_id\": 1, \"price\": 248.6}, {\"item_id\": 2, \"price\": 18.5}, {\"it\n",
      "[{'item_id': 0, 'price': 710.3}, {'item_id': 1, 'price': 248.6}, {'item_id': 2, 'price': 18.5}]\n"
     ]
    }
   ],
   "source": [
    "# Сконвертируем python-объект в формат json\n",
    "json_content = json.dumps(items)\n",
    "\n",
    "# А вот так сконвертить обратно\n",
    "json_items = json.loads(json_content)\n",
    "\n",
    "# Первые 100 символов\n",
    "print(json_content[:100])\n",
    "\n",
    "# Первые 3 элемента\n",
    "print(json_items[:3])"
   ]
  },
  {
   "cell_type": "code",
   "execution_count": 65,
   "metadata": {
    "ExecuteTime": {
     "end_time": "2024-01-17T13:32:51.971097500Z",
     "start_time": "2024-01-17T13:32:51.520098600Z"
    }
   },
   "outputs": [
    {
     "name": "stdout",
     "output_type": "stream",
     "text": [
      "[{'item_id': 0, 'price': 710.3}, {'item_id': 1, 'price': 248.6}, {'item_id': 2, 'price': 18.5}]\n"
     ]
    }
   ],
   "source": [
    "# Сохраним в файл\n",
    "with open('test.json', 'w') as f:\n",
    "    f.write(json_content)\n",
    "\n",
    "# Прочитаем\n",
    "with open('test.json', 'r') as f:\n",
    "    content = json.loads(f.read())\n",
    "print(content[:3])"
   ]
  },
  {
   "cell_type": "code",
   "execution_count": 66,
   "metadata": {
    "ExecuteTime": {
     "end_time": "2024-01-17T13:32:51.976096400Z",
     "start_time": "2024-01-17T13:32:51.551099800Z"
    }
   },
   "outputs": [],
   "source": [
    "os.remove('test.json')"
   ]
  },
  {
   "cell_type": "markdown",
   "metadata": {},
   "source": [
    "### Сохраним много файлов"
   ]
  },
  {
   "cell_type": "code",
   "execution_count": 67,
   "metadata": {
    "ExecuteTime": {
     "end_time": "2024-01-17T13:32:52.022101500Z",
     "start_time": "2024-01-17T13:32:51.568097500Z"
    }
   },
   "outputs": [],
   "source": [
    "# Создадим папку, если ее нет\n",
    "dir_name = 'data'\n",
    "if not os.path.exists(dir_name):\n",
    "    os.makedirs(dir_name)\n",
    "\n",
    "for i, item in enumerate(items):\n",
    "    path = os.path.join(dir_name, f'{i}.json')\n",
    "    json.dump(item, open(path, 'w'))\n"
   ]
  },
  {
   "cell_type": "markdown",
   "metadata": {},
   "source": [
    "### Прочитаем файлики"
   ]
  },
  {
   "cell_type": "code",
   "execution_count": 68,
   "metadata": {
    "ExecuteTime": {
     "end_time": "2024-01-17T13:32:52.384096700Z",
     "start_time": "2024-01-17T13:32:51.646098300Z"
    }
   },
   "outputs": [
    {
     "data": {
      "text/plain": "(100,\n [{'item_id': 0, 'price': 710.3},\n  {'item_id': 1, 'price': 248.6},\n  {'item_id': 10, 'price': 713.7}])"
     },
     "execution_count": 68,
     "metadata": {},
     "output_type": "execute_result"
    }
   ],
   "source": [
    "new_items = []\n",
    "\n",
    "for filename in os.listdir(dir_name):\n",
    "    path = os.path.join(dir_name, filename)\n",
    "    if os.path.isfile(path):\n",
    "        item = json.load(open(path, 'r'))\n",
    "        new_items.append(item)\n",
    "\n",
    "len(new_items), new_items[:3]"
   ]
  },
  {
   "cell_type": "markdown",
   "metadata": {},
   "source": [
    "### Удалим файлики"
   ]
  },
  {
   "cell_type": "code",
   "execution_count": 69,
   "metadata": {
    "ExecuteTime": {
     "end_time": "2024-01-17T13:32:52.533096700Z",
     "start_time": "2024-01-17T13:32:52.364098400Z"
    }
   },
   "outputs": [],
   "source": [
    "import shutil\n",
    "shutil.rmtree(dir_name)"
   ]
  },
  {
   "cell_type": "markdown",
   "metadata": {},
   "source": [
    "# Git\n",
    "\n",
    "`git init` - инициализировать репозиторий\n",
    "\n",
    "`git add .` - добавить все файлы к отслеживанию\n",
    "\n",
    "`git commit -m \"commit message\"` - сделать коммит с названием commit message\n",
    "\n",
    "`git push origin master` - сделать пуш в удаленный репозиторий origin в ветку master\n",
    "\n",
    "`git pull` - подтянуть изменения\n",
    "\n",
    "`git branch new-feature` - сделать ветку new-feature\n",
    "\n",
    "`git checkout new-feature` - перейти на ветку new-feature\n",
    "\n",
    "`git log` - посмотреть историю коммитов\n",
    "\n",
    "`git log --all --decorate --oneline --graph` - посмотреть красивую историю коммитов\n",
    "\n",
    "`git checkout 978be83` - перейти к коммиту 978be83\n",
    "\n",
    "При создании репозитория на github, будут написаны команды как запушить код в первый раз"
   ]
  },
  {
   "cell_type": "markdown",
   "metadata": {},
   "source": [
    "## Задача\n",
    "\n",
    "Последовательно сделать следующее:\n",
    "\n",
    "1. Создать новую папку test_git\n",
    "\n",
    "2. Инициализировать репозиторий\n",
    "\n",
    "3. Сделать текстовый файл 1.txt, заполнить его по своему усмотрению\n",
    "\n",
    "4. Сделать коммит\n",
    "\n",
    "5. Сделать новую ветку second-file, перейти в нее\n",
    "\n",
    "6. Закоммитить новый файл 2.txt с произвольным содержимым\n",
    "\n",
    "7. Перейти к master-ветке, проверить, что файл 2.txt остался в другой ветке\n",
    "\n",
    "8. Замержить ветку second-file в master"
   ]
  },
  {
   "cell_type": "markdown",
   "metadata": {},
   "source": [
    "# Anaconda\n",
    "\n",
    "`conda create -n my-environment python=3.11` - создать окружение my-environment с питоном 3.11\n",
    "\n",
    "`conda activate my-environment` - активировать окружение\n",
    "\n",
    "`conda deactivate` - деактивировать окружение\n",
    "\n",
    "`conda install numpy` - установка библиотеки\n",
    "\n",
    "`conda env export --name my-environment > env.yml` - экспорт всех библиотек в yml файл\n",
    "\n",
    "`conda env create --file env.yml` - создать окружение из файла env.yml"
   ]
  },
  {
   "cell_type": "markdown",
   "metadata": {},
   "source": [
    "# Полезные ссылки\n",
    "\n",
    "- [Git](https://git-scm.com/downloads)\n",
    "\n",
    "- [Anaconda](https://www.anaconda.com/products/individual#Downloads)\n",
    "\n",
    "- [Miniconda](https://docs.conda.io/projects/miniconda/en/latest/) - лучше вот это скачивать\n",
    "\n",
    "- [VS Code](https://code.visualstudio.com/download)\n",
    "\n",
    "- [Шпаргалка по анаконде](https://docs.conda.io/projects/conda/en/4.6.0/_downloads/52a95608c49671267e40c689e0bc00ca/conda-cheatsheet.pdf)\n",
    "\n",
    "- [Шпаргалка по гиту](https://education.github.com/git-cheat-sheet-education.pdf)\n",
    "\n",
    "- [Установка jupyterlab (вариант с conda install, не забываем активировать окружение)](https://jupyterlab.readthedocs.io/en/stable/getting_started/installation.html)"
   ]
  },
  {
   "cell_type": "markdown",
   "metadata": {},
   "source": [
    "# Домашнее задание (за него баллов нет, увы)\n",
    "\n",
    "- Вступить в чатик\n",
    "- Прочитать ПУД\n",
    "- Установить Anaconda и Git\n",
    "- Создать репозиторий на GitHub, отправить ссылку на почту\n"
   ]
  }
 ],
 "metadata": {
  "interpreter": {
   "hash": "3c60d125f86ecb331b65a8423cf0cca4676faa8812a500d14a58b02fbd427a36"
  },
  "kernelspec": {
   "display_name": "Python 3 (ipykernel)",
   "language": "python",
   "name": "python3"
  },
  "language_info": {
   "codemirror_mode": {
    "name": "ipython",
    "version": 3
   },
   "file_extension": ".py",
   "mimetype": "text/x-python",
   "name": "python",
   "nbconvert_exporter": "python",
   "pygments_lexer": "ipython3",
   "version": "3.9.12"
  }
 },
 "nbformat": 4,
 "nbformat_minor": 4
}
