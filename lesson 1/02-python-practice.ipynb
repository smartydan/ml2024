{
 "nbformat": 4,
 "nbformat_minor": 0,
 "metadata": {
  "colab": {
   "provenance": [
    {
     "file_id": "1e25hWxFg3XVkAnevi4RJIMzC4Rt-AfL1",
     "timestamp": 1705648684600
    }
   ]
  },
  "kernelspec": {
   "name": "python3",
   "language": "python",
   "display_name": "Python 3 (ipykernel)"
  },
  "language_info": {
   "name": "python"
  }
 },
 "cells": [
  {
   "cell_type": "markdown",
   "source": [
    "# Git\n",
    "\n",
    "`git init` - инициализировать репозиторий\n",
    "\n",
    "`git add .` - добавить все файлы к отслеживанию\n",
    "\n",
    "`git commit -m \"commit message\"` - сделать коммит с названием commit message\n",
    "\n",
    "`git push origin master` - сделать пуш в удаленный репозиторий origin в ветку master\n",
    "\n",
    "`git pull` - подтянуть изменения\n",
    "\n",
    "`git branch new-feature` - сделать ветку new-feature\n",
    "\n",
    "`git checkout new-feature` - перейти на ветку new-feature\n",
    "\n",
    "`git log` - посмотреть историю коммитов\n",
    "\n",
    "`git log --all --decorate --oneline --graph` - посмотреть красивую историю коммитов\n",
    "\n",
    "`git checkout 978be83` - перейти к коммиту 978be83\n",
    "\n",
    "При создании репозитория на github, будут написаны команды как запушить код в первый раз"
   ],
   "metadata": {
    "id": "GfgwsZbGcTCQ"
   }
  },
  {
   "cell_type": "markdown",
   "source": [
    "## Задача - учимся коммитить\n",
    "\n",
    "Последовательно сделать следующее:\n",
    "\n",
    "1. Создать новую папку test_git\n",
    "\n",
    "2. Инициализировать репозиторий\n",
    "\n",
    "3. Сделать текстовый файл 1.txt, заполнить его по своему усмотрению\n",
    "\n",
    "4. Сделать коммит\n",
    "\n",
    "5. Сделать новую ветку second-file, перейти в нее\n",
    "\n",
    "6. Закоммитить новый файл 2.txt с произвольным содержимым\n",
    "\n",
    "7. Перейти к master-ветке, проверить, что файл 2.txt остался в другой ветке\n",
    "\n",
    "8. Замержить ветку second-file в master"
   ],
   "metadata": {
    "id": "cvMlmEBJceX5"
   }
  },
  {
   "cell_type": "markdown",
   "source": [
    "## Задача - создаем конфликты\n",
    "\n",
    "1. В ветке master создаем файл 3.txt и что-то туда пишем\n",
    "2. В ветке second-file создаем файл 3.txt и пишем туда что-то другое\n",
    "3. Мержим second-file в master и решаем конфликт"
   ],
   "metadata": {
    "id": "WnO8pWoiclMK"
   }
  },
  {
   "cell_type": "markdown",
   "source": [
    "## Материалы по питону (для самых заинтересованных)\n",
    "\n",
    "https://drive.google.com/drive/folders/1EdPbnImcIt0Hrjy56FveACdM-uc2anCP?usp=sharing"
   ],
   "metadata": {
    "id": "aropHxQVdP2p"
   }
  },
  {
   "cell_type": "markdown",
   "source": [
    "## Задача 1.\n",
    "\n",
    "Нужно написать функцию, которая определяет, является ли переданная строка палиндромом.\n",
    "\n",
    "Примеры палиндромов:\n",
    "- Казак\n",
    "- А роза упала на лапу Азора\n",
    "- Do geese see God?\n",
    "- Madam, I’m Adam\n",
    "\n",
    "Ограничение по памяти - исходную строку нельзя копировать.\n",
    "\n",
    "Необходимо исключить все non alpha-numerical символы, и считать большие и маленькие буквы равными.\n",
    "\n"
   ],
   "metadata": {
    "id": "zOwAopRPhz5Q"
   }
  },
  {
   "cell_type": "code",
   "source": [
    "def solution_1(s):\n",
    "    if len(s) == 0:\n",
    "      return True\n",
    "    l, r = 0, len(s) - 1\n",
    "    while r > l + 1:\n",
    "      if not (s[l].isalpha() or s[l].isnumeric()):\n",
    "        l += 1\n",
    "        continue\n",
    "      if not (s[r].isalpha() or s[r].isnumeric()):\n",
    "        r -= 1\n",
    "        continue\n",
    "      if s[l].lower() != s[r].lower():\n",
    "        return False\n",
    "      l += 1\n",
    "      r -= 1\n",
    "    return True"
   ],
   "metadata": {
    "id": "W9iIsD87jVeo",
    "ExecuteTime": {
     "end_time": "2024-01-19T11:11:21.525474Z",
     "start_time": "2024-01-19T11:11:21.504476Z"
    }
   },
   "execution_count": 1,
   "outputs": []
  },
  {
   "cell_type": "code",
   "source": [
    "solution_1('кффк')"
   ],
   "metadata": {
    "id": "AW0lN9MbkxhA",
    "executionInfo": {
     "status": "ok",
     "timestamp": 1705649307736,
     "user_tz": -180,
     "elapsed": 318,
     "user": {
      "displayName": "Даниил Марценюк",
      "userId": "00652895453697282878"
     }
    },
    "outputId": "afb47679-ae51-4276-bf98-a97ec71d2d1e",
    "colab": {
     "base_uri": "https://localhost:8080/"
    },
    "ExecuteTime": {
     "end_time": "2024-01-19T11:11:21.563482500Z",
     "start_time": "2024-01-19T11:11:21.527477100Z"
    }
   },
   "execution_count": 2,
   "outputs": [
    {
     "data": {
      "text/plain": "True"
     },
     "execution_count": 2,
     "metadata": {},
     "output_type": "execute_result"
    }
   ]
  },
  {
   "cell_type": "code",
   "source": [
    "import re\n",
    "\n",
    "examples = [\n",
    "    'Казак',\n",
    "    'А роза упала на лапу Азора',\n",
    "    'Do geese see God?',\n",
    "    'Madam, I’m Adam'\n",
    "]\n",
    "\n",
    "def test_solution_1():\n",
    "    def non_optimal_solution(s):\n",
    "        regex = re.compile('[^a-zA-Zа-яА-Я]')\n",
    "        clean = regex.sub('', s).lower()\n",
    "        return clean == clean[::-1]\n",
    "\n",
    "    for example in examples:\n",
    "        assert non_optimal_solution(example) == solution_1(example)\n",
    "\n",
    "test_solution_1()"
   ],
   "metadata": {
    "id": "Uo8dSXWsiuWz",
    "ExecuteTime": {
     "end_time": "2024-01-19T11:11:21.575476700Z",
     "start_time": "2024-01-19T11:11:21.560520900Z"
    }
   },
   "execution_count": 3,
   "outputs": []
  },
  {
   "cell_type": "markdown",
   "source": [
    "## Задача 2.\n",
    "\n",
    "Дан текст T и строка S. Требуется найти подстроку S' в T такую, что она совпадает с S с точностью до перестановки букв.\n",
    "В качестве ответа стоит вернуть индекс первого вхождения, или -1, если такая подстрока S' не нашлась.\n",
    "\n",
    "Задача со звездочкой: решить за O(|T|)"
   ],
   "metadata": {
    "id": "gdpFNPfPitfd"
   }
  },
  {
   "cell_type": "code",
   "source": [
    "def solution_2(t, s):\n",
    "  lens = len(s)\n",
    "  lent = len(t)\n",
    "  if lent < lens:\n",
    "    return -1\n",
    "  up = 0\n",
    "  d = {}\n",
    "  for el in s:\n",
    "    d[el] = d.get(el, 0) + 1\n",
    "    if d[el] == 1:\n",
    "      up += 1\n",
    "  l = 0\n",
    "  while l < lens:\n",
    "    d[t[l]] = d.get(t[l], 0) - 1\n",
    "    if d[t[l]] == -1:\n",
    "      up += 1\n",
    "    elif d[t[l]] == 0:\n",
    "      up -= 1\n",
    "    l += 1\n",
    "  if up == 0:\n",
    "    return 0\n",
    "  for i in range(lens, lent):\n",
    "    d[t[i - lens]] = d.get(t[i - lens], 0) + 1\n",
    "    if d[t[i - lens]] == 1:\n",
    "      up += 1\n",
    "    elif d[t[i - lens]] == 0:\n",
    "      up -= 1\n",
    "    if up == 0:\n",
    "      return i - lens\n",
    "    d[t[i]] = d.get(t[i], 0) - 1\n",
    "    if d[t[i]] == -1:\n",
    "      up += 1\n",
    "    elif d[t[i]] == 0:\n",
    "      up -= 1\n",
    "    if up == 0:\n",
    "      return i - lens + 1\n",
    "  return -1"
   ],
   "metadata": {
    "id": "X1hLqxvVitLM",
    "executionInfo": {
     "status": "ok",
     "timestamp": 1705662467854,
     "user_tz": -180,
     "elapsed": 7,
     "user": {
      "displayName": "Даниил Марценюк",
      "userId": "00652895453697282878"
     }
    },
    "ExecuteTime": {
     "end_time": "2024-01-19T11:11:21.632474600Z",
     "start_time": "2024-01-19T11:11:21.579480900Z"
    }
   },
   "execution_count": 4,
   "outputs": []
  },
  {
   "cell_type": "code",
   "source": [
    "solution_2('vavvcbab', 'cba')"
   ],
   "metadata": {
    "colab": {
     "base_uri": "https://localhost:8080/"
    },
    "id": "EIAi2PmdqMIR",
    "executionInfo": {
     "status": "ok",
     "timestamp": 1705662467854,
     "user_tz": -180,
     "elapsed": 6,
     "user": {
      "displayName": "Даниил Марценюк",
      "userId": "00652895453697282878"
     }
    },
    "outputId": "b5428814-e61e-41f9-a51e-ff2b36f6aa2c",
    "ExecuteTime": {
     "end_time": "2024-01-19T11:11:21.634475500Z",
     "start_time": "2024-01-19T11:11:21.589476800Z"
    }
   },
   "execution_count": 5,
   "outputs": [
    {
     "data": {
      "text/plain": "4"
     },
     "execution_count": 5,
     "metadata": {},
     "output_type": "execute_result"
    }
   ]
  },
  {
   "cell_type": "code",
   "source": [
    "solution_2(\"abdcda\", \"bcdd\")"
   ],
   "metadata": {
    "colab": {
     "base_uri": "https://localhost:8080/"
    },
    "id": "FSHLT6_CaNtq",
    "executionInfo": {
     "status": "ok",
     "timestamp": 1705662555492,
     "user_tz": -180,
     "elapsed": 256,
     "user": {
      "displayName": "Даниил Марценюк",
      "userId": "00652895453697282878"
     }
    },
    "outputId": "58dec663-1754-46ca-a62c-a2593114d2a5",
    "ExecuteTime": {
     "end_time": "2024-01-19T11:11:21.686758Z",
     "start_time": "2024-01-19T11:11:21.601478100Z"
    }
   },
   "execution_count": 6,
   "outputs": [
    {
     "data": {
      "text/plain": "1"
     },
     "execution_count": 6,
     "metadata": {},
     "output_type": "execute_result"
    }
   ]
  },
  {
   "cell_type": "markdown",
   "source": [
    "# Домашнее задание\n",
    "\n",
    "Установить Anaconda и Git. Создать репозиторий на GitHub.\n",
    "\n",
    "## Easy (+0.1)\n",
    "\n",
    "Написать функцию, которая на вход принимает список, а возвращает словарь со среднием, медианой и модой, например вот такой: `{\"mean\": ..., \"median\": ..., \"mode\": ...}`.f\n",
    "\n",
    "Пример:\n",
    "\n",
    "```python\n",
    "\n",
    "func([0, 1, 1, 10, 5, 4, 3])\n",
    "\n",
    "# Должно вернуть: {\"mean\": 3.4285, \"median\": 3, \"mode\": 1}\n",
    "\n",
    "```\n",
    "\n",
    "## Medium (+0.4)\n",
    "\n",
    "https://www.kaggle.com/datasets/databanditofficial/dota-hero-stats\n",
    "\n",
    "Написать функцию, которая будет парсить csv-файл dota_hero_stats.csv\n",
    "\n",
    "Сигнатура функции:\n",
    "\n",
    "```\n",
    "def parse_csv(file_content: str) -> List[Dict]\n",
    "```\n",
    "\n",
    "Найти персонажа с максимальным количеством ног (сторонние библиотеки использовать нельзя)\n",
    "\n",
    "\n",
    "## Hard (+ в карму)\n",
    "\n",
    "Придумать меру близости между двумя персонажами, описать текстом, реализовать кодом. Мера должна использовать все содержательные колонки: attack_type, legs, primary_attr, roles\n",
    "\n",
    "Найти двух персонажей, которые наиболее близки друг к другу.\n",
    "\n",
    "Также нельзя использовать сторонние библиотеки.\n",
    "\n",
    "\n",
    "## Байка\n",
    "\n",
    "В реально жизни, конечно, уже написаны парсеры для основных форматов данных, но кто вам гарантирует, что ваши данные будут в нужном формате? Нужно уметь парсить разные странные форматы данных.\n",
    "\n",
    "Когда-то я работал в компании, которая не умела в DWH и хранила все данные в продовых базах. Ну, \"базах\". Это были терабайты xml-файлов, поверх которых была настроена репликация и прод умел быстро по ним искать. Конечно же, эти xml-файлы были неструктурированы, пришлось освоить специальный язык для индексации по xml-файлам - xpath - чтобы привести данные в хоть сколько-то табличный вид. Парсер имел отвратительный код, а данные на выходе были еще хуже. А через пару месяцев я уволился оттуда и дальше проект не полетел (надеюсь, это независимые события). Какой вывод? Держите данные в DWH в понятном и удобном формате и не храните данные в проде в xml."
   ],
   "metadata": {
    "id": "EugYe2AVTJnB"
   }
  }
 ]
}
