{
 "cells": [
  {
   "cell_type": "markdown",
   "metadata": {},
   "source": [
    "# Numpy\n",
    "\n",
    "numpy позволяет оперировать матрицами и векторами\n",
    "\n",
    "## Установка\n",
    "\n",
    "В нужном окружении запустить\n",
    "\n",
    "```\n",
    "conda install numpy\n",
    "```"
   ]
  },
  {
   "cell_type": "markdown",
   "metadata": {},
   "source": [
    "Импортируем библиотеку"
   ]
  },
  {
   "cell_type": "code",
   "execution_count": 1,
   "metadata": {
    "ExecuteTime": {
     "end_time": "2024-01-30T21:09:42.467886900Z",
     "start_time": "2024-01-30T21:09:38.706672100Z"
    }
   },
   "outputs": [],
   "source": [
    "import numpy as np"
   ]
  },
  {
   "cell_type": "markdown",
   "metadata": {},
   "source": [
    "Создаем массив из обычного списка python"
   ]
  },
  {
   "cell_type": "code",
   "execution_count": 2,
   "metadata": {
    "ExecuteTime": {
     "end_time": "2024-01-30T21:09:44.139890200Z",
     "start_time": "2024-01-30T21:09:42.409469400Z"
    }
   },
   "outputs": [
    {
     "name": "stdout",
     "output_type": "stream",
     "text": [
      "[1 2 3] (3,) 3\n"
     ]
    }
   ],
   "source": [
    "test_list = [1, 2, 3]\n",
    "array = np.array(test_list)\n",
    "print(array, array.shape, len(array))"
   ]
  },
  {
   "cell_type": "markdown",
   "metadata": {},
   "source": [
    "Генерируем разные массивы"
   ]
  },
  {
   "cell_type": "code",
   "execution_count": 3,
   "metadata": {
    "ExecuteTime": {
     "end_time": "2024-01-30T21:09:44.618172600Z",
     "start_time": "2024-01-30T21:09:44.119888200Z"
    }
   },
   "outputs": [
    {
     "data": {
      "text/plain": "array([0, 1, 2, 3, 4])"
     },
     "execution_count": 3,
     "metadata": {},
     "output_type": "execute_result"
    }
   ],
   "source": [
    "np.arange(5)"
   ]
  },
  {
   "cell_type": "code",
   "execution_count": 4,
   "metadata": {
    "ExecuteTime": {
     "end_time": "2024-01-30T21:09:44.798173800Z",
     "start_time": "2024-01-30T21:09:44.577891900Z"
    }
   },
   "outputs": [
    {
     "data": {
      "text/plain": "array([ 0. ,  0.5,  1. ,  1.5,  2. ,  2.5,  3. ,  3.5,  4. ,  4.5,  5. ,\n        5.5,  6. ,  6.5,  7. ,  7.5,  8. ,  8.5,  9. ,  9.5, 10. ])"
     },
     "execution_count": 4,
     "metadata": {},
     "output_type": "execute_result"
    }
   ],
   "source": [
    "np.linspace(0, 10, 21)"
   ]
  },
  {
   "cell_type": "markdown",
   "metadata": {},
   "source": [
    "Создаем матрицу из списка массива"
   ]
  },
  {
   "cell_type": "code",
   "execution_count": 5,
   "metadata": {
    "ExecuteTime": {
     "end_time": "2024-01-30T21:09:45.091174300Z",
     "start_time": "2024-01-30T21:09:44.765172700Z"
    }
   },
   "outputs": [
    {
     "name": "stdout",
     "output_type": "stream",
     "text": [
      "[[1 2 3]\n",
      " [4 5 6]]\n",
      "(2, 3)\n"
     ]
    }
   ],
   "source": [
    "matrix = [[1, 2, 3], [4, 5, 6]]\n",
    "np_matrix = np.array(matrix)\n",
    "print(np_matrix)\n",
    "print(np_matrix.shape)"
   ]
  },
  {
   "cell_type": "markdown",
   "metadata": {},
   "source": [
    "Пример работы reshape"
   ]
  },
  {
   "cell_type": "code",
   "execution_count": 6,
   "metadata": {
    "ExecuteTime": {
     "end_time": "2024-01-30T21:09:45.251003600Z",
     "start_time": "2024-01-30T21:09:45.067465400Z"
    }
   },
   "outputs": [
    {
     "data": {
      "text/plain": "array([[1, 2],\n       [3, 4],\n       [5, 6]])"
     },
     "execution_count": 6,
     "metadata": {},
     "output_type": "execute_result"
    }
   ],
   "source": [
    "np_matrix.reshape(3, 2)"
   ]
  },
  {
   "cell_type": "code",
   "execution_count": 7,
   "metadata": {
    "ExecuteTime": {
     "end_time": "2024-01-30T21:09:45.553411500Z",
     "start_time": "2024-01-30T21:09:45.243174900Z"
    }
   },
   "outputs": [
    {
     "data": {
      "text/plain": "array([[1],\n       [2],\n       [3],\n       [4],\n       [5],\n       [6]])"
     },
     "execution_count": 7,
     "metadata": {},
     "output_type": "execute_result"
    }
   ],
   "source": [
    "np_matrix.reshape(-1, 1)"
   ]
  },
  {
   "cell_type": "code",
   "execution_count": 8,
   "metadata": {
    "ExecuteTime": {
     "end_time": "2024-01-30T21:09:45.676602700Z",
     "start_time": "2024-01-30T21:09:45.520890Z"
    }
   },
   "outputs": [
    {
     "data": {
      "text/plain": "array([1, 2, 3, 4, 5, 6])"
     },
     "execution_count": 8,
     "metadata": {},
     "output_type": "execute_result"
    }
   ],
   "source": [
    "np_matrix.reshape(-1)"
   ]
  },
  {
   "cell_type": "markdown",
   "metadata": {},
   "source": [
    "## Задача\n",
    "\n",
    "Сгенерировать вектор из 100 элементов и превратить его в:\n",
    "\n",
    "- матрицу 10x10\n",
    "- вектор 1x100\n",
    "- вектор 100x1"
   ]
  },
  {
   "cell_type": "code",
   "execution_count": 9,
   "metadata": {
    "ExecuteTime": {
     "end_time": "2024-01-30T21:09:45.975343200Z",
     "start_time": "2024-01-30T21:09:45.652410Z"
    }
   },
   "outputs": [
    {
     "data": {
      "text/plain": "(array([2, 3, 5, 6, 8, 1, 8, 9, 1, 4, 6, 6, 4, 8, 1, 0, 8, 2, 4, 7, 4, 3,\n        3, 7, 6, 3, 3, 0, 5, 7, 4, 5, 2, 8, 7, 3, 8, 0, 9, 7, 5, 0, 2, 2,\n        6, 6, 7, 7, 5, 7, 8, 0, 8, 0, 8, 2, 8, 9, 3, 8, 9, 0, 5, 1, 5, 5,\n        2, 4, 9, 8, 3, 9, 7, 8, 7, 4, 1, 0, 1, 8, 3, 0, 8, 0, 4, 6, 7, 2,\n        8, 4, 3, 5, 7, 3, 8, 5, 1, 8, 3, 3]),\n (100,))"
     },
     "execution_count": 9,
     "metadata": {},
     "output_type": "execute_result"
    }
   ],
   "source": [
    "vec = np.random.randint(10, size=(100, ))\n",
    "vec, vec.shape"
   ]
  },
  {
   "cell_type": "code",
   "execution_count": 10,
   "metadata": {
    "ExecuteTime": {
     "end_time": "2024-01-30T21:09:46.116911200Z",
     "start_time": "2024-01-30T21:09:45.953604700Z"
    }
   },
   "outputs": [
    {
     "data": {
      "text/plain": "array([[2, 3, 5, 6, 8, 1, 8, 9, 1, 4],\n       [6, 6, 4, 8, 1, 0, 8, 2, 4, 7],\n       [4, 3, 3, 7, 6, 3, 3, 0, 5, 7],\n       [4, 5, 2, 8, 7, 3, 8, 0, 9, 7],\n       [5, 0, 2, 2, 6, 6, 7, 7, 5, 7],\n       [8, 0, 8, 0, 8, 2, 8, 9, 3, 8],\n       [9, 0, 5, 1, 5, 5, 2, 4, 9, 8],\n       [3, 9, 7, 8, 7, 4, 1, 0, 1, 8],\n       [3, 0, 8, 0, 4, 6, 7, 2, 8, 4],\n       [3, 5, 7, 3, 8, 5, 1, 8, 3, 3]])"
     },
     "execution_count": 10,
     "metadata": {},
     "output_type": "execute_result"
    }
   ],
   "source": [
    "matrix = vec.reshape((10, -1))\n",
    "matrix"
   ]
  },
  {
   "cell_type": "code",
   "execution_count": 11,
   "metadata": {
    "ExecuteTime": {
     "end_time": "2024-01-30T21:09:46.419910200Z",
     "start_time": "2024-01-30T21:09:46.093341400Z"
    }
   },
   "outputs": [
    {
     "data": {
      "text/plain": "((1, 100), (100, 1))"
     },
     "execution_count": 11,
     "metadata": {},
     "output_type": "execute_result"
    }
   ],
   "source": [
    "vec2 = vec.reshape(1, -1)\n",
    "vec3 = vec.reshape(-1, 1)\n",
    "vec2.shape, vec3.shape"
   ]
  },
  {
   "cell_type": "markdown",
   "metadata": {},
   "source": [
    "## Базовые операции\n",
    "\n",
    "При помощи numpy можно легко делать любые простейшие операции над векторами и матрицами"
   ]
  },
  {
   "cell_type": "code",
   "execution_count": 12,
   "metadata": {
    "ExecuteTime": {
     "end_time": "2024-01-30T21:09:46.577517100Z",
     "start_time": "2024-01-30T21:09:46.392910100Z"
    }
   },
   "outputs": [
    {
     "data": {
      "text/plain": "array([0, 1, 2, 3])"
     },
     "execution_count": 12,
     "metadata": {},
     "output_type": "execute_result"
    }
   ],
   "source": [
    "a = np.array([20, 30, 40, 50])\n",
    "b = np.arange(4)\n",
    "b"
   ]
  },
  {
   "cell_type": "code",
   "execution_count": 13,
   "metadata": {
    "ExecuteTime": {
     "end_time": "2024-01-30T21:09:46.823663800Z",
     "start_time": "2024-01-30T21:09:46.547910600Z"
    }
   },
   "outputs": [
    {
     "data": {
      "text/plain": "array([20, 31, 42, 53])"
     },
     "execution_count": 13,
     "metadata": {},
     "output_type": "execute_result"
    }
   ],
   "source": [
    "a + b"
   ]
  },
  {
   "cell_type": "code",
   "execution_count": 14,
   "metadata": {
    "ExecuteTime": {
     "end_time": "2024-01-30T21:09:46.996614100Z",
     "start_time": "2024-01-30T21:09:46.817516800Z"
    }
   },
   "outputs": [
    {
     "data": {
      "text/plain": "array([0, 1, 4, 9])"
     },
     "execution_count": 14,
     "metadata": {},
     "output_type": "execute_result"
    }
   ],
   "source": [
    "b ** 2"
   ]
  },
  {
   "cell_type": "code",
   "execution_count": 15,
   "metadata": {
    "ExecuteTime": {
     "end_time": "2024-01-30T21:09:47.187581100Z",
     "start_time": "2024-01-30T21:09:46.970823400Z"
    }
   },
   "outputs": [
    {
     "data": {
      "text/plain": "array([ True,  True, False, False])"
     },
     "execution_count": 15,
     "metadata": {},
     "output_type": "execute_result"
    }
   ],
   "source": [
    "b < 2"
   ]
  },
  {
   "cell_type": "markdown",
   "metadata": {},
   "source": [
    "Выбираем все элементы меньше двух"
   ]
  },
  {
   "cell_type": "code",
   "execution_count": 16,
   "metadata": {
    "ExecuteTime": {
     "end_time": "2024-01-30T21:09:47.328217400Z",
     "start_time": "2024-01-30T21:09:47.169613100Z"
    }
   },
   "outputs": [
    {
     "data": {
      "text/plain": "array([0, 1])"
     },
     "execution_count": 16,
     "metadata": {},
     "output_type": "execute_result"
    }
   ],
   "source": [
    "b[b < 2]"
   ]
  },
  {
   "cell_type": "code",
   "execution_count": 17,
   "metadata": {
    "ExecuteTime": {
     "end_time": "2024-01-30T21:09:47.673319100Z",
     "start_time": "2024-01-30T21:09:47.306208800Z"
    }
   },
   "outputs": [],
   "source": [
    "A = np.array([[1, 1], [0, 1]])\n",
    "B = np.array([[2, 0], [3, 4]])"
   ]
  },
  {
   "cell_type": "markdown",
   "metadata": {},
   "source": [
    "Поэлементное произведение"
   ]
  },
  {
   "cell_type": "code",
   "execution_count": 18,
   "metadata": {
    "ExecuteTime": {
     "end_time": "2024-01-30T21:09:47.893364300Z",
     "start_time": "2024-01-30T21:09:47.666220700Z"
    }
   },
   "outputs": [
    {
     "data": {
      "text/plain": "array([[2, 0],\n       [0, 4]])"
     },
     "execution_count": 18,
     "metadata": {},
     "output_type": "execute_result"
    }
   ],
   "source": [
    "A * B"
   ]
  },
  {
   "cell_type": "markdown",
   "metadata": {},
   "source": [
    "Произведение матриц"
   ]
  },
  {
   "cell_type": "code",
   "execution_count": 19,
   "metadata": {
    "ExecuteTime": {
     "end_time": "2024-01-30T21:09:48.134607500Z",
     "start_time": "2024-01-30T21:09:47.869320200Z"
    }
   },
   "outputs": [
    {
     "data": {
      "text/plain": "array([[5, 4],\n       [3, 4]])"
     },
     "execution_count": 19,
     "metadata": {},
     "output_type": "execute_result"
    }
   ],
   "source": [
    "A @ B"
   ]
  },
  {
   "cell_type": "code",
   "execution_count": 20,
   "metadata": {
    "ExecuteTime": {
     "end_time": "2024-01-30T21:09:48.229156700Z",
     "start_time": "2024-01-30T21:09:48.085363800Z"
    }
   },
   "outputs": [
    {
     "data": {
      "text/plain": "array([[5, 4],\n       [3, 4]])"
     },
     "execution_count": 20,
     "metadata": {},
     "output_type": "execute_result"
    }
   ],
   "source": [
    "A.dot(B) # то же самое"
   ]
  },
  {
   "cell_type": "markdown",
   "metadata": {},
   "source": [
    "Транспонирование"
   ]
  },
  {
   "cell_type": "code",
   "execution_count": 21,
   "metadata": {
    "ExecuteTime": {
     "end_time": "2024-01-30T21:09:48.454147200Z",
     "start_time": "2024-01-30T21:09:48.209612600Z"
    }
   },
   "outputs": [
    {
     "data": {
      "text/plain": "array([[2, 0],\n       [3, 4]])"
     },
     "execution_count": 21,
     "metadata": {},
     "output_type": "execute_result"
    }
   ],
   "source": [
    "B"
   ]
  },
  {
   "cell_type": "code",
   "execution_count": 22,
   "metadata": {
    "ExecuteTime": {
     "end_time": "2024-01-30T21:09:48.572705600Z",
     "start_time": "2024-01-30T21:09:48.449143600Z"
    }
   },
   "outputs": [
    {
     "data": {
      "text/plain": "array([[2, 3],\n       [0, 4]])"
     },
     "execution_count": 22,
     "metadata": {},
     "output_type": "execute_result"
    }
   ],
   "source": [
    "B.T"
   ]
  },
  {
   "cell_type": "markdown",
   "metadata": {},
   "source": [
    "## Задача - Решение СЛАУ\n",
    "\n",
    "$Ax = b$\n",
    "\n",
    "Функция обратной матрицы - `np.linalg.inv(A)`"
   ]
  },
  {
   "cell_type": "code",
   "execution_count": 23,
   "metadata": {
    "ExecuteTime": {
     "end_time": "2024-01-30T21:09:48.869904300Z",
     "start_time": "2024-01-30T21:09:48.567682900Z"
    }
   },
   "outputs": [],
   "source": [
    "A = np.array([\n",
    "    [3, -2],\n",
    "    [5, 1]]\n",
    ")\n",
    "b = np.array([-6, 3])\n",
    "# Решение - [0, 3]"
   ]
  },
  {
   "cell_type": "code",
   "execution_count": 24,
   "metadata": {
    "ExecuteTime": {
     "end_time": "2024-01-30T21:09:49.009514500Z",
     "start_time": "2024-01-30T21:09:48.847706400Z"
    }
   },
   "outputs": [
    {
     "name": "stdout",
     "output_type": "stream",
     "text": [
      "(2, 2) (2,)\n"
     ]
    }
   ],
   "source": [
    "A_inv = np.linalg.inv(A)\n",
    "print(A_inv.shape, b.shape)"
   ]
  },
  {
   "cell_type": "code",
   "execution_count": 25,
   "metadata": {
    "ExecuteTime": {
     "end_time": "2024-01-30T21:09:49.123871500Z",
     "start_time": "2024-01-30T21:09:48.979499900Z"
    }
   },
   "outputs": [],
   "source": [
    "x = A_inv @ b"
   ]
  },
  {
   "cell_type": "markdown",
   "metadata": {},
   "source": [
    "Проверить себя можно при помощи `np.linalg.solve(A, b)` - функция решения СЛАУ"
   ]
  },
  {
   "cell_type": "code",
   "execution_count": 26,
   "metadata": {
    "ExecuteTime": {
     "end_time": "2024-01-30T21:09:49.205745800Z",
     "start_time": "2024-01-30T21:09:49.106351500Z"
    }
   },
   "outputs": [],
   "source": [
    "assert (x == np.linalg.solve(A, b)).all()"
   ]
  },
  {
   "cell_type": "markdown",
   "metadata": {},
   "source": [
    "Создание случайного массива"
   ]
  },
  {
   "cell_type": "code",
   "execution_count": 27,
   "metadata": {
    "ExecuteTime": {
     "end_time": "2024-01-30T21:09:49.416793300Z",
     "start_time": "2024-01-30T21:09:49.189869800Z"
    }
   },
   "outputs": [
    {
     "data": {
      "text/plain": "array([[ 0.96440288, -0.10937651, -0.25091583, -0.57441725,  0.43995751],\n       [ 0.08270647, -0.71917196,  0.52855556, -0.80093775, -0.46962864]])"
     },
     "execution_count": 27,
     "metadata": {},
     "output_type": "execute_result"
    }
   ],
   "source": [
    "rand_arr = np.random.uniform(-1, 1, size=(2, 5))\n",
    "rand_arr"
   ]
  },
  {
   "cell_type": "code",
   "execution_count": 28,
   "metadata": {
    "ExecuteTime": {
     "end_time": "2024-01-30T21:09:49.561864100Z",
     "start_time": "2024-01-30T21:09:49.411855Z"
    }
   },
   "outputs": [
    {
     "data": {
      "text/plain": "array([0.96440288, 0.43995751, 0.08270647, 0.52855556])"
     },
     "execution_count": 28,
     "metadata": {},
     "output_type": "execute_result"
    }
   ],
   "source": [
    "rand_arr[rand_arr > 0]"
   ]
  },
  {
   "cell_type": "markdown",
   "metadata": {},
   "source": [
    "Считаем сумму по строкам/столбцам"
   ]
  },
  {
   "cell_type": "code",
   "execution_count": 29,
   "metadata": {
    "ExecuteTime": {
     "end_time": "2024-01-30T21:09:49.751149700Z",
     "start_time": "2024-01-30T21:09:49.512018400Z"
    }
   },
   "outputs": [
    {
     "data": {
      "text/plain": "array([ 1.04710935, -0.82854847,  0.27763973, -1.375355  , -0.02967113])"
     },
     "execution_count": 29,
     "metadata": {},
     "output_type": "execute_result"
    }
   ],
   "source": [
    "rand_arr.sum(axis=0)"
   ]
  },
  {
   "cell_type": "code",
   "execution_count": 30,
   "metadata": {
    "ExecuteTime": {
     "end_time": "2024-01-30T21:09:49.887898600Z",
     "start_time": "2024-01-30T21:09:49.731854500Z"
    }
   },
   "outputs": [
    {
     "data": {
      "text/plain": "array([ 0.46965079, -1.37847631])"
     },
     "execution_count": 30,
     "metadata": {},
     "output_type": "execute_result"
    }
   ],
   "source": [
    "rand_arr.sum(axis=1)"
   ]
  },
  {
   "cell_type": "markdown",
   "metadata": {},
   "source": [
    "Находим минимум максимум во всем массиве и по строкам/столбцам"
   ]
  },
  {
   "cell_type": "code",
   "execution_count": 31,
   "metadata": {
    "ExecuteTime": {
     "end_time": "2024-01-30T21:09:50.075796500Z",
     "start_time": "2024-01-30T21:09:49.871125600Z"
    }
   },
   "outputs": [
    {
     "data": {
      "text/plain": "(0.9644028766603399, -0.8009377464059975)"
     },
     "execution_count": 31,
     "metadata": {},
     "output_type": "execute_result"
    }
   ],
   "source": [
    "rand_arr.max(), rand_arr.min()"
   ]
  },
  {
   "cell_type": "code",
   "execution_count": 32,
   "metadata": {
    "ExecuteTime": {
     "end_time": "2024-01-30T21:09:50.162702100Z",
     "start_time": "2024-01-30T21:09:50.056892Z"
    }
   },
   "outputs": [
    {
     "data": {
      "text/plain": "array([ 0.96440288, -0.10937651,  0.52855556, -0.57441725,  0.43995751])"
     },
     "execution_count": 32,
     "metadata": {},
     "output_type": "execute_result"
    }
   ],
   "source": [
    "rand_arr.max(axis=0)"
   ]
  },
  {
   "cell_type": "markdown",
   "metadata": {},
   "source": [
    "Также можно применять любые математические операции к массиву"
   ]
  },
  {
   "cell_type": "code",
   "execution_count": 33,
   "metadata": {
    "ExecuteTime": {
     "end_time": "2024-01-30T21:09:50.354160300Z",
     "start_time": "2024-01-30T21:09:50.145806100Z"
    }
   },
   "outputs": [
    {
     "data": {
      "text/plain": "array([[0.98204016, 0.33072119, 0.50091499, 0.7579032 , 0.66329293],\n       [0.28758733, 0.84804007, 0.72701827, 0.89495125, 0.68529456]])"
     },
     "execution_count": 33,
     "metadata": {},
     "output_type": "execute_result"
    }
   ],
   "source": [
    "np.sqrt(abs(rand_arr))"
   ]
  },
  {
   "cell_type": "code",
   "execution_count": 34,
   "metadata": {
    "ExecuteTime": {
     "end_time": "2024-01-30T21:09:50.501032500Z",
     "start_time": "2024-01-30T21:09:50.323688500Z"
    }
   },
   "outputs": [
    {
     "data": {
      "text/plain": "array([[2.6232208 , 0.89639286, 0.77808786, 0.56303288, 1.55264124],\n       [1.08622293, 0.48715547, 1.69648007, 0.4489078 , 0.62523441]])"
     },
     "execution_count": 34,
     "metadata": {},
     "output_type": "execute_result"
    }
   ],
   "source": [
    "np.exp(rand_arr)"
   ]
  },
  {
   "cell_type": "code",
   "execution_count": 35,
   "metadata": {
    "ExecuteTime": {
     "end_time": "2024-01-30T21:09:50.693797500Z",
     "start_time": "2024-01-30T21:09:50.481120400Z"
    }
   },
   "outputs": [
    {
     "data": {
      "text/plain": "array([[-0.03624615, -2.21295916, -1.38263773, -0.55439922, -0.82107713],\n       [-2.49245739, -0.32965478, -0.63760736, -0.22197205, -0.75581303]])"
     },
     "execution_count": 35,
     "metadata": {},
     "output_type": "execute_result"
    }
   ],
   "source": [
    "np.log(abs(rand_arr))"
   ]
  },
  {
   "cell_type": "markdown",
   "metadata": {},
   "source": [
    "## Задача\n",
    "\n",
    "Сгенерировать случайную матрицу и посчитать сумму положительных элементов в каждой строке, в каждом столбце."
   ]
  },
  {
   "cell_type": "code",
   "execution_count": 36,
   "metadata": {
    "ExecuteTime": {
     "end_time": "2024-01-30T21:09:50.849785900Z",
     "start_time": "2024-01-30T21:09:50.690031800Z"
    }
   },
   "outputs": [
    {
     "data": {
      "text/plain": "array([[0.55741817, 0.06617665, 0.0389457 , 0.95277914, 0.05809017],\n       [0.69654295, 0.71910001, 0.07162753, 0.32161318, 0.18833721],\n       [0.24554817, 0.08338096, 0.33605739, 0.24204319, 0.11733954],\n       [0.51518065, 0.16705551, 0.27819161, 0.14966856, 0.35399732],\n       [0.62622803, 0.35288172, 0.78584046, 0.40388848, 0.62784511]])"
     },
     "execution_count": 36,
     "metadata": {},
     "output_type": "execute_result"
    }
   ],
   "source": [
    "matrix = np.random.uniform(0, 1, size=(5, 5))\n",
    "matrix"
   ]
  },
  {
   "cell_type": "code",
   "execution_count": 37,
   "metadata": {
    "ExecuteTime": {
     "end_time": "2024-01-30T21:09:51.036560900Z",
     "start_time": "2024-01-30T21:09:50.800793Z"
    }
   },
   "outputs": [
    {
     "name": "stdout",
     "output_type": "stream",
     "text": [
      "сумма по строкам: [2.64091796 1.38859486 1.51066269 2.06999255 1.34560935],\n",
      " по столбцам: [1.67340983 1.99722088 1.02436925 1.46409365 2.7966838 ]\n"
     ]
    }
   ],
   "source": [
    "non_neg = np.maximum(matrix, 0)\n",
    "print(f\"сумма по строкам: {np.sum(non_neg, axis=0)},\\n по столбцам: {np.sum(non_neg, axis=1)}\")"
   ]
  },
  {
   "cell_type": "markdown",
   "metadata": {},
   "source": [
    "## Индексация\n",
    "\n",
    "Индексация по массивам numpy похожа на индексацию по спискам python, но шире и гибче\n",
    "\n",
    "Общий синтаксис:\n",
    "\n",
    "`a[start:stop:step]`\n",
    "\n",
    "Аргументы можно пропускать, тогда будут взятые аргументы по-умолчанию. Например:\n",
    "\n",
    "`a[:] == a[0:len(a):1]`"
   ]
  },
  {
   "cell_type": "code",
   "execution_count": 38,
   "metadata": {
    "ExecuteTime": {
     "end_time": "2024-01-30T21:09:51.185081100Z",
     "start_time": "2024-01-30T21:09:51.009553300Z"
    }
   },
   "outputs": [],
   "source": [
    "a = np.arange(10)"
   ]
  },
  {
   "cell_type": "markdown",
   "metadata": {},
   "source": [
    "Выбираем один элемент"
   ]
  },
  {
   "cell_type": "code",
   "execution_count": 39,
   "metadata": {
    "ExecuteTime": {
     "end_time": "2024-01-30T21:09:51.409893200Z",
     "start_time": "2024-01-30T21:09:51.164562300Z"
    }
   },
   "outputs": [
    {
     "data": {
      "text/plain": "2"
     },
     "execution_count": 39,
     "metadata": {},
     "output_type": "execute_result"
    }
   ],
   "source": [
    "a[2]"
   ]
  },
  {
   "cell_type": "markdown",
   "metadata": {},
   "source": [
    "Берем подмассив"
   ]
  },
  {
   "cell_type": "code",
   "execution_count": 40,
   "metadata": {
    "ExecuteTime": {
     "end_time": "2024-01-30T21:09:51.560143Z",
     "start_time": "2024-01-30T21:09:51.389081300Z"
    }
   },
   "outputs": [
    {
     "data": {
      "text/plain": "array([2, 3, 4])"
     },
     "execution_count": 40,
     "metadata": {},
     "output_type": "execute_result"
    }
   ],
   "source": [
    "a[2:5]"
   ]
  },
  {
   "cell_type": "markdown",
   "metadata": {},
   "source": [
    "Подмассив с заданным шагом"
   ]
  },
  {
   "cell_type": "code",
   "execution_count": 41,
   "metadata": {
    "ExecuteTime": {
     "end_time": "2024-01-30T21:09:51.803560400Z",
     "start_time": "2024-01-30T21:09:51.554895500Z"
    }
   },
   "outputs": [
    {
     "data": {
      "text/plain": "array([0, 2, 4])"
     },
     "execution_count": 41,
     "metadata": {},
     "output_type": "execute_result"
    }
   ],
   "source": [
    "a[:6:2]"
   ]
  },
  {
   "cell_type": "code",
   "execution_count": 42,
   "metadata": {
    "ExecuteTime": {
     "end_time": "2024-01-30T21:09:51.960250400Z",
     "start_time": "2024-01-30T21:09:51.789157900Z"
    }
   },
   "outputs": [
    {
     "data": {
      "text/plain": "array([1000,    1, 1000,    3, 1000,    5,    6,    7,    8,    9])"
     },
     "execution_count": 42,
     "metadata": {},
     "output_type": "execute_result"
    }
   ],
   "source": [
    "a[:6:2] = 1000\n",
    "a"
   ]
  },
  {
   "cell_type": "code",
   "execution_count": 43,
   "metadata": {
    "ExecuteTime": {
     "end_time": "2024-01-30T21:09:52.187383Z",
     "start_time": "2024-01-30T21:09:51.933564100Z"
    }
   },
   "outputs": [
    {
     "data": {
      "text/plain": "array([   9,    8,    7,    6,    5, 1000,    3, 1000,    1, 1000])"
     },
     "execution_count": 43,
     "metadata": {},
     "output_type": "execute_result"
    }
   ],
   "source": [
    "a[::-1]"
   ]
  },
  {
   "cell_type": "markdown",
   "metadata": {},
   "source": [
    "Возьмем матрицу из случайных целых чисел"
   ]
  },
  {
   "cell_type": "code",
   "execution_count": 44,
   "metadata": {
    "ExecuteTime": {
     "end_time": "2024-01-30T21:09:52.313353Z",
     "start_time": "2024-01-30T21:09:52.169249900Z"
    }
   },
   "outputs": [
    {
     "data": {
      "text/plain": "array([[2, 4, 1, 3, 4],\n       [1, 3, 1, 3, 3],\n       [4, 1, 4, 2, 2]])"
     },
     "execution_count": 44,
     "metadata": {},
     "output_type": "execute_result"
    }
   ],
   "source": [
    "arr = np.random.randint(1, 5, size=(3, 5))\n",
    "arr"
   ]
  },
  {
   "cell_type": "code",
   "execution_count": 45,
   "metadata": {
    "ExecuteTime": {
     "end_time": "2024-01-30T21:09:52.494123400Z",
     "start_time": "2024-01-30T21:09:52.296387500Z"
    }
   },
   "outputs": [
    {
     "data": {
      "text/plain": "array([4, 1, 4, 2, 2])"
     },
     "execution_count": 45,
     "metadata": {},
     "output_type": "execute_result"
    }
   ],
   "source": [
    "arr[2]"
   ]
  },
  {
   "cell_type": "markdown",
   "metadata": {},
   "source": [
    "По матрицам можно индексироваться отдельно по каждой оси через запятую\n",
    "\n",
    "Сначала указываем индекс для строк, потом для колонок"
   ]
  },
  {
   "cell_type": "code",
   "execution_count": 46,
   "metadata": {
    "ExecuteTime": {
     "end_time": "2024-01-30T21:09:52.609232800Z",
     "start_time": "2024-01-30T21:09:52.472353200Z"
    }
   },
   "outputs": [
    {
     "data": {
      "text/plain": "[3, 4, 5]"
     },
     "execution_count": 46,
     "metadata": {},
     "output_type": "execute_result"
    }
   ],
   "source": [
    "a = [1, 2, 3]\n",
    "\n",
    "a = map(lambda x: x + 2, a)\n",
    "list(a)"
   ]
  },
  {
   "cell_type": "code",
   "execution_count": 47,
   "metadata": {
    "ExecuteTime": {
     "end_time": "2024-01-30T21:09:52.834399Z",
     "start_time": "2024-01-30T21:09:52.587124500Z"
    }
   },
   "outputs": [
    {
     "data": {
      "text/plain": "array([[1, 3],\n       [4, 1]])"
     },
     "execution_count": 47,
     "metadata": {},
     "output_type": "execute_result"
    }
   ],
   "source": [
    "arr[1:, :2]"
   ]
  },
  {
   "cell_type": "code",
   "execution_count": 48,
   "metadata": {
    "ExecuteTime": {
     "end_time": "2024-01-30T21:09:52.980644200Z",
     "start_time": "2024-01-30T21:09:52.830284100Z"
    }
   },
   "outputs": [
    {
     "data": {
      "text/plain": "array([[0, 4, 0, 3, 0],\n       [0, 3, 0, 3, 0],\n       [0, 1, 0, 2, 0]])"
     },
     "execution_count": 48,
     "metadata": {},
     "output_type": "execute_result"
    }
   ],
   "source": [
    "arr[::-1, ::2] = 0\n",
    "arr"
   ]
  },
  {
   "cell_type": "code",
   "execution_count": 49,
   "metadata": {
    "ExecuteTime": {
     "end_time": "2024-01-30T21:09:53.163162200Z",
     "start_time": "2024-01-30T21:09:52.948397700Z"
    }
   },
   "outputs": [
    {
     "data": {
      "text/plain": "array([0, 1, 0, 2, 0])"
     },
     "execution_count": 49,
     "metadata": {},
     "output_type": "execute_result"
    }
   ],
   "source": [
    "arr[-1]"
   ]
  },
  {
   "cell_type": "code",
   "execution_count": 50,
   "metadata": {
    "ExecuteTime": {
     "end_time": "2024-01-30T21:09:53.287007Z",
     "start_time": "2024-01-30T21:09:53.143617600Z"
    }
   },
   "outputs": [
    {
     "data": {
      "text/plain": "array([[0, 4, 0, 3, 0],\n       [0, 3, 0, 3, 0],\n       [0, 1, 0, 2, 0]])"
     },
     "execution_count": 50,
     "metadata": {},
     "output_type": "execute_result"
    }
   ],
   "source": [
    "arr[:, :]"
   ]
  },
  {
   "cell_type": "markdown",
   "metadata": {},
   "source": [
    "Генерируем матрицы"
   ]
  },
  {
   "cell_type": "code",
   "execution_count": 51,
   "metadata": {
    "ExecuteTime": {
     "end_time": "2024-01-30T21:09:53.492233900Z",
     "start_time": "2024-01-30T21:09:53.268162400Z"
    }
   },
   "outputs": [
    {
     "data": {
      "text/plain": "array([[1., 1., 1.],\n       [1., 1., 1.],\n       [1., 1., 1.]])"
     },
     "execution_count": 51,
     "metadata": {},
     "output_type": "execute_result"
    }
   ],
   "source": [
    "np.ones((3, 3))"
   ]
  },
  {
   "cell_type": "code",
   "execution_count": 52,
   "metadata": {
    "ExecuteTime": {
     "end_time": "2024-01-30T21:09:53.631413800Z",
     "start_time": "2024-01-30T21:09:53.489007200Z"
    }
   },
   "outputs": [
    {
     "data": {
      "text/plain": "array([[0., 0., 0.],\n       [0., 0., 0.],\n       [0., 0., 0.]])"
     },
     "execution_count": 52,
     "metadata": {},
     "output_type": "execute_result"
    }
   ],
   "source": [
    "np.zeros((3, 3))"
   ]
  },
  {
   "cell_type": "code",
   "execution_count": 53,
   "metadata": {
    "ExecuteTime": {
     "end_time": "2024-01-30T21:09:53.841944600Z",
     "start_time": "2024-01-30T21:09:53.600287500Z"
    }
   },
   "outputs": [
    {
     "data": {
      "text/plain": "array([[1., 0., 0.],\n       [0., 1., 0.],\n       [0., 0., 1.]])"
     },
     "execution_count": 53,
     "metadata": {},
     "output_type": "execute_result"
    }
   ],
   "source": [
    "np.eye(3)"
   ]
  },
  {
   "cell_type": "markdown",
   "metadata": {},
   "source": [
    "## Задача\n",
    "\n",
    "Вывести матрицу из нулей и единиц в шахматном порядке"
   ]
  },
  {
   "cell_type": "code",
   "execution_count": 54,
   "metadata": {
    "ExecuteTime": {
     "end_time": "2024-01-30T21:09:53.931590500Z",
     "start_time": "2024-01-30T21:09:53.768402400Z"
    }
   },
   "outputs": [],
   "source": [
    "def chess_order(n: int):\n",
    "    res = np.zeros(shape=(n, n))\n",
    "    res[1::2, ::2] = 1\n",
    "    res[::2, 1::2] = 1\n",
    "    return res"
   ]
  },
  {
   "cell_type": "code",
   "execution_count": 55,
   "metadata": {
    "ExecuteTime": {
     "end_time": "2024-01-30T21:09:54.114779600Z",
     "start_time": "2024-01-30T21:09:53.913915700Z"
    }
   },
   "outputs": [
    {
     "data": {
      "text/plain": "array([[0., 1., 0., 1., 0.],\n       [1., 0., 1., 0., 1.],\n       [0., 1., 0., 1., 0.],\n       [1., 0., 1., 0., 1.],\n       [0., 1., 0., 1., 0.]])"
     },
     "execution_count": 55,
     "metadata": {},
     "output_type": "execute_result"
    }
   ],
   "source": [
    "chess_order(5)"
   ]
  },
  {
   "cell_type": "markdown",
   "metadata": {},
   "source": [
    "## Расширяем массивы"
   ]
  },
  {
   "cell_type": "code",
   "execution_count": 56,
   "metadata": {
    "ExecuteTime": {
     "end_time": "2024-01-30T21:09:54.191797200Z",
     "start_time": "2024-01-30T21:09:54.110587100Z"
    }
   },
   "outputs": [],
   "source": [
    "a = np.arange(10)\n",
    "b = a + 1"
   ]
  },
  {
   "cell_type": "code",
   "execution_count": 57,
   "metadata": {
    "ExecuteTime": {
     "end_time": "2024-01-30T21:09:54.336135600Z",
     "start_time": "2024-01-30T21:09:54.176259700Z"
    }
   },
   "outputs": [
    {
     "data": {
      "text/plain": "((10,), (10,))"
     },
     "execution_count": 57,
     "metadata": {},
     "output_type": "execute_result"
    }
   ],
   "source": [
    "a.shape, b.shape"
   ]
  },
  {
   "cell_type": "markdown",
   "metadata": {},
   "source": [
    "Соединям по горизонтали"
   ]
  },
  {
   "cell_type": "code",
   "execution_count": 58,
   "metadata": {
    "ExecuteTime": {
     "end_time": "2024-01-30T21:09:54.463634300Z",
     "start_time": "2024-01-30T21:09:54.305778200Z"
    }
   },
   "outputs": [
    {
     "data": {
      "text/plain": "(20,)"
     },
     "execution_count": 58,
     "metadata": {},
     "output_type": "execute_result"
    }
   ],
   "source": [
    "np.hstack((a, b)).shape"
   ]
  },
  {
   "cell_type": "markdown",
   "metadata": {},
   "source": [
    "Соединяем по вертикали"
   ]
  },
  {
   "cell_type": "code",
   "execution_count": 59,
   "metadata": {
    "ExecuteTime": {
     "end_time": "2024-01-30T21:09:54.693452600Z",
     "start_time": "2024-01-30T21:09:54.429137100Z"
    }
   },
   "outputs": [
    {
     "data": {
      "text/plain": "(2, 10)"
     },
     "execution_count": 59,
     "metadata": {},
     "output_type": "execute_result"
    }
   ],
   "source": [
    "np.vstack((a, b)).shape"
   ]
  },
  {
   "cell_type": "code",
   "execution_count": 60,
   "metadata": {
    "ExecuteTime": {
     "end_time": "2024-01-30T21:09:54.839858300Z",
     "start_time": "2024-01-30T21:09:54.674640Z"
    }
   },
   "outputs": [
    {
     "data": {
      "text/plain": "array([0, 1, 2, 3, 4, 5, 6, 7, 8, 9, 1])"
     },
     "execution_count": 60,
     "metadata": {},
     "output_type": "execute_result"
    }
   ],
   "source": [
    "np.hstack((a, [1]))"
   ]
  },
  {
   "cell_type": "markdown",
   "metadata": {},
   "source": [
    "Расширение массива в numpy происходит путем создания нового массива.\n",
    "\n",
    "Поэтому если требуется сгенерировать массив, то лучше сделать это через список, а дальше сделать из него массив numpy"
   ]
  },
  {
   "cell_type": "code",
   "execution_count": 61,
   "metadata": {
    "ExecuteTime": {
     "end_time": "2024-01-30T21:09:58.666838600Z",
     "start_time": "2024-01-30T21:09:54.805851600Z"
    }
   },
   "outputs": [
    {
     "name": "stdout",
     "output_type": "stream",
     "text": [
      "4.75 ms ± 574 µs per loop (mean ± std. dev. of 7 runs, 100 loops each)\n"
     ]
    }
   ],
   "source": [
    "%%timeit\n",
    "\n",
    "a = np.arange(10)\n",
    "for i in range(1000):\n",
    "    a = np.hstack((a, 1))\n",
    "a.shape"
   ]
  },
  {
   "cell_type": "code",
   "execution_count": 62,
   "metadata": {
    "ExecuteTime": {
     "end_time": "2024-01-30T21:10:08.217626100Z",
     "start_time": "2024-01-30T21:09:58.641840500Z"
    }
   },
   "outputs": [
    {
     "name": "stdout",
     "output_type": "stream",
     "text": [
      "116 µs ± 38.6 µs per loop (mean ± std. dev. of 7 runs, 10,000 loops each)\n"
     ]
    }
   ],
   "source": [
    "%%timeit\n",
    "\n",
    "a = list(range(10))\n",
    "for i in range(1000):\n",
    "    a.append(i)\n",
    "np.array(a).shape"
   ]
  },
  {
   "cell_type": "markdown",
   "metadata": {},
   "source": [
    "## Сравниваем скорость list и np.array"
   ]
  },
  {
   "cell_type": "code",
   "execution_count": 63,
   "metadata": {
    "ExecuteTime": {
     "end_time": "2024-01-30T21:10:12.915567100Z",
     "start_time": "2024-01-30T21:10:08.383625600Z"
    }
   },
   "outputs": [
    {
     "name": "stdout",
     "output_type": "stream",
     "text": [
      "5.74 ms ± 353 µs per loop (mean ± std. dev. of 7 runs, 100 loops each)\n"
     ]
    }
   ],
   "source": [
    "%%timeit\n",
    "\n",
    "[i * i for i in range(100000)]"
   ]
  },
  {
   "cell_type": "code",
   "execution_count": 64,
   "metadata": {
    "ExecuteTime": {
     "end_time": "2024-01-30T21:10:27.424194500Z",
     "start_time": "2024-01-30T21:10:12.908575Z"
    }
   },
   "outputs": [
    {
     "name": "stdout",
     "output_type": "stream",
     "text": [
      "175 µs ± 13.5 µs per loop (mean ± std. dev. of 7 runs, 10,000 loops each)\n"
     ]
    }
   ],
   "source": [
    "%%timeit\n",
    "\n",
    "a = np.arange(100000)\n",
    "a * a"
   ]
  },
  {
   "cell_type": "markdown",
   "metadata": {},
   "source": [
    "# Pandas\n",
    "\n",
    " Позволяет работать с данными - читать, преобразовывать и сохранять\n",
    "\n",
    " ## Установка\n",
    "\n",
    " ```\n",
    " conda install pandas\n",
    " ```"
   ]
  },
  {
   "cell_type": "code",
   "execution_count": 65,
   "metadata": {
    "ExecuteTime": {
     "end_time": "2024-01-30T21:10:27.950192200Z",
     "start_time": "2024-01-30T21:10:27.416200400Z"
    }
   },
   "outputs": [],
   "source": [
    "import pandas as pd"
   ]
  },
  {
   "cell_type": "markdown",
   "metadata": {},
   "source": [
    "## Series\n",
    "\n",
    "Series - столбец в таблице.\n",
    "\n",
    "Он состоит из индекса (\"имена\" строк) и значений. По-умолчанию индекс - уникальные числа от 0 до длины списка."
   ]
  },
  {
   "cell_type": "markdown",
   "metadata": {},
   "source": [
    "Создавать series можно из списка или массива numpy. "
   ]
  },
  {
   "cell_type": "code",
   "execution_count": 66,
   "metadata": {
    "ExecuteTime": {
     "end_time": "2024-01-30T21:10:27.998343900Z",
     "start_time": "2024-01-30T21:10:27.954192600Z"
    }
   },
   "outputs": [
    {
     "data": {
      "text/plain": "0    1\n1    2\n2    3\ndtype: int64"
     },
     "execution_count": 66,
     "metadata": {},
     "output_type": "execute_result"
    }
   ],
   "source": [
    "series = pd.Series([1, 2, 3])\n",
    "series"
   ]
  },
  {
   "cell_type": "code",
   "execution_count": 67,
   "metadata": {
    "ExecuteTime": {
     "end_time": "2024-01-30T21:10:28.043771100Z",
     "start_time": "2024-01-30T21:10:27.961793600Z"
    }
   },
   "outputs": [
    {
     "data": {
      "text/plain": "RangeIndex(start=0, stop=3, step=1)"
     },
     "execution_count": 67,
     "metadata": {},
     "output_type": "execute_result"
    }
   ],
   "source": [
    "series.index"
   ]
  },
  {
   "cell_type": "code",
   "execution_count": 68,
   "metadata": {
    "ExecuteTime": {
     "end_time": "2024-01-30T21:10:28.337942100Z",
     "start_time": "2024-01-30T21:10:27.968520900Z"
    }
   },
   "outputs": [
    {
     "data": {
      "text/plain": "array([1, 2, 3], dtype=int64)"
     },
     "execution_count": 68,
     "metadata": {},
     "output_type": "execute_result"
    }
   ],
   "source": [
    "series.values"
   ]
  },
  {
   "cell_type": "markdown",
   "metadata": {},
   "source": [
    "Индекс может быть строкой"
   ]
  },
  {
   "cell_type": "code",
   "execution_count": 69,
   "metadata": {
    "ExecuteTime": {
     "end_time": "2024-01-30T21:10:28.383855900Z",
     "start_time": "2024-01-30T21:10:27.976441700Z"
    }
   },
   "outputs": [
    {
     "data": {
      "text/plain": "cat       4\ndog       4\nspider    8\ndtype: int64"
     },
     "execution_count": 69,
     "metadata": {},
     "output_type": "execute_result"
    }
   ],
   "source": [
    "legs_counter = pd.Series([4, 4, 8], index=[\"cat\", \"dog\", \"spider\"])\n",
    "legs_counter"
   ]
  },
  {
   "cell_type": "markdown",
   "metadata": {},
   "source": [
    "По series можно индексирования при помощи `loc` и `iloc`\n",
    "\n",
    "- `loc` - если хотим взять по индексу\n",
    "- `iloc` - если хотим взять по порядковому номеру"
   ]
  },
  {
   "cell_type": "code",
   "execution_count": 70,
   "metadata": {
    "ExecuteTime": {
     "end_time": "2024-01-30T21:10:28.432478700Z",
     "start_time": "2024-01-30T21:10:27.990783500Z"
    }
   },
   "outputs": [
    {
     "data": {
      "text/plain": "8"
     },
     "execution_count": 70,
     "metadata": {},
     "output_type": "execute_result"
    }
   ],
   "source": [
    "legs_counter.iloc[2]"
   ]
  },
  {
   "cell_type": "code",
   "execution_count": 71,
   "metadata": {
    "ExecuteTime": {
     "end_time": "2024-01-30T21:10:28.526567400Z",
     "start_time": "2024-01-30T21:10:28.000342300Z"
    }
   },
   "outputs": [
    {
     "data": {
      "text/plain": "4"
     },
     "execution_count": 71,
     "metadata": {},
     "output_type": "execute_result"
    }
   ],
   "source": [
    "legs_counter.loc[\"dog\"]"
   ]
  },
  {
   "cell_type": "code",
   "execution_count": 72,
   "metadata": {
    "ExecuteTime": {
     "end_time": "2024-01-30T21:10:28.542575800Z",
     "start_time": "2024-01-30T21:10:28.007717100Z"
    }
   },
   "outputs": [
    {
     "data": {
      "text/plain": "array([4, 8], dtype=int64)"
     },
     "execution_count": 72,
     "metadata": {},
     "output_type": "execute_result"
    }
   ],
   "source": [
    "legs_counter.unique()"
   ]
  },
  {
   "cell_type": "markdown",
   "metadata": {},
   "source": [
    "## DataFrame\n",
    "\n",
    "DataFrame - набор Series, то есть таблица.\n",
    "\n",
    "Индекс для датафрейма - названия строк\n",
    "\n",
    "Колонки - названия столбцов (series)"
   ]
  },
  {
   "cell_type": "code",
   "execution_count": 73,
   "metadata": {
    "ExecuteTime": {
     "end_time": "2024-01-30T21:10:28.581133800Z",
     "start_time": "2024-01-30T21:10:28.018590900Z"
    }
   },
   "outputs": [
    {
     "data": {
      "text/plain": "   age  height    name\n0   25     170    Alex\n1   35     180  Polina\n2   45     190   Misha",
      "text/html": "<div>\n<style scoped>\n    .dataframe tbody tr th:only-of-type {\n        vertical-align: middle;\n    }\n\n    .dataframe tbody tr th {\n        vertical-align: top;\n    }\n\n    .dataframe thead th {\n        text-align: right;\n    }\n</style>\n<table border=\"1\" class=\"dataframe\">\n  <thead>\n    <tr style=\"text-align: right;\">\n      <th></th>\n      <th>age</th>\n      <th>height</th>\n      <th>name</th>\n    </tr>\n  </thead>\n  <tbody>\n    <tr>\n      <th>0</th>\n      <td>25</td>\n      <td>170</td>\n      <td>Alex</td>\n    </tr>\n    <tr>\n      <th>1</th>\n      <td>35</td>\n      <td>180</td>\n      <td>Polina</td>\n    </tr>\n    <tr>\n      <th>2</th>\n      <td>45</td>\n      <td>190</td>\n      <td>Misha</td>\n    </tr>\n  </tbody>\n</table>\n</div>"
     },
     "execution_count": 73,
     "metadata": {},
     "output_type": "execute_result"
    }
   ],
   "source": [
    "ages = [25, 35, 45]\n",
    "heights = [170, 180, 190]\n",
    "names = [\"Alex\", \"Polina\", \"Misha\"]\n",
    "data = {'age': ages, 'height': heights, 'name': names}\n",
    "df = pd.DataFrame(data)\n",
    "df"
   ]
  },
  {
   "cell_type": "code",
   "execution_count": 74,
   "metadata": {
    "ExecuteTime": {
     "end_time": "2024-01-30T21:10:28.641858300Z",
     "start_time": "2024-01-30T21:10:28.035772300Z"
    }
   },
   "outputs": [
    {
     "data": {
      "text/plain": "0    25\n1    35\n2    45\nName: age, dtype: int64"
     },
     "execution_count": 74,
     "metadata": {},
     "output_type": "execute_result"
    }
   ],
   "source": [
    "df['age']  # Получился Series"
   ]
  },
  {
   "cell_type": "code",
   "execution_count": 75,
   "metadata": {
    "ExecuteTime": {
     "end_time": "2024-01-30T21:10:28.688850600Z",
     "start_time": "2024-01-30T21:10:28.043771100Z"
    }
   },
   "outputs": [
    {
     "data": {
      "text/plain": "   age  height\n0   25     170\n1   35     180\n2   45     190",
      "text/html": "<div>\n<style scoped>\n    .dataframe tbody tr th:only-of-type {\n        vertical-align: middle;\n    }\n\n    .dataframe tbody tr th {\n        vertical-align: top;\n    }\n\n    .dataframe thead th {\n        text-align: right;\n    }\n</style>\n<table border=\"1\" class=\"dataframe\">\n  <thead>\n    <tr style=\"text-align: right;\">\n      <th></th>\n      <th>age</th>\n      <th>height</th>\n    </tr>\n  </thead>\n  <tbody>\n    <tr>\n      <th>0</th>\n      <td>25</td>\n      <td>170</td>\n    </tr>\n    <tr>\n      <th>1</th>\n      <td>35</td>\n      <td>180</td>\n    </tr>\n    <tr>\n      <th>2</th>\n      <td>45</td>\n      <td>190</td>\n    </tr>\n  </tbody>\n</table>\n</div>"
     },
     "execution_count": 75,
     "metadata": {},
     "output_type": "execute_result"
    }
   ],
   "source": [
    "df[['age', 'height']] # Получился DataFrame"
   ]
  },
  {
   "cell_type": "code",
   "execution_count": 76,
   "metadata": {
    "ExecuteTime": {
     "end_time": "2024-01-30T21:10:28.720851400Z",
     "start_time": "2024-01-30T21:10:28.058186100Z"
    }
   },
   "outputs": [
    {
     "data": {
      "text/plain": "   age\n0   25\n1   35\n2   45",
      "text/html": "<div>\n<style scoped>\n    .dataframe tbody tr th:only-of-type {\n        vertical-align: middle;\n    }\n\n    .dataframe tbody tr th {\n        vertical-align: top;\n    }\n\n    .dataframe thead th {\n        text-align: right;\n    }\n</style>\n<table border=\"1\" class=\"dataframe\">\n  <thead>\n    <tr style=\"text-align: right;\">\n      <th></th>\n      <th>age</th>\n    </tr>\n  </thead>\n  <tbody>\n    <tr>\n      <th>0</th>\n      <td>25</td>\n    </tr>\n    <tr>\n      <th>1</th>\n      <td>35</td>\n    </tr>\n    <tr>\n      <th>2</th>\n      <td>45</td>\n    </tr>\n  </tbody>\n</table>\n</div>"
     },
     "execution_count": 76,
     "metadata": {},
     "output_type": "execute_result"
    }
   ],
   "source": [
    "df[['age']] # Получился DataFrame"
   ]
  },
  {
   "cell_type": "markdown",
   "metadata": {},
   "source": [
    "Можно добавить новую колонку"
   ]
  },
  {
   "cell_type": "code",
   "execution_count": 77,
   "metadata": {
    "ExecuteTime": {
     "end_time": "2024-01-30T21:10:28.745852900Z",
     "start_time": "2024-01-30T21:10:28.071216600Z"
    }
   },
   "outputs": [
    {
     "data": {
      "text/plain": "   age  height    name  height/age\n0   25     170    Alex    6.800000\n1   35     180  Polina    5.142857\n2   45     190   Misha    4.222222",
      "text/html": "<div>\n<style scoped>\n    .dataframe tbody tr th:only-of-type {\n        vertical-align: middle;\n    }\n\n    .dataframe tbody tr th {\n        vertical-align: top;\n    }\n\n    .dataframe thead th {\n        text-align: right;\n    }\n</style>\n<table border=\"1\" class=\"dataframe\">\n  <thead>\n    <tr style=\"text-align: right;\">\n      <th></th>\n      <th>age</th>\n      <th>height</th>\n      <th>name</th>\n      <th>height/age</th>\n    </tr>\n  </thead>\n  <tbody>\n    <tr>\n      <th>0</th>\n      <td>25</td>\n      <td>170</td>\n      <td>Alex</td>\n      <td>6.800000</td>\n    </tr>\n    <tr>\n      <th>1</th>\n      <td>35</td>\n      <td>180</td>\n      <td>Polina</td>\n      <td>5.142857</td>\n    </tr>\n    <tr>\n      <th>2</th>\n      <td>45</td>\n      <td>190</td>\n      <td>Misha</td>\n      <td>4.222222</td>\n    </tr>\n  </tbody>\n</table>\n</div>"
     },
     "execution_count": 77,
     "metadata": {},
     "output_type": "execute_result"
    }
   ],
   "source": [
    "df['height/age'] = df['height'] / df['age']\n",
    "df"
   ]
  },
  {
   "cell_type": "code",
   "execution_count": 78,
   "metadata": {
    "ExecuteTime": {
     "end_time": "2024-01-30T21:10:29.721848300Z",
     "start_time": "2024-01-30T21:10:28.089749300Z"
    }
   },
   "outputs": [
    {
     "data": {
      "text/plain": "35.0"
     },
     "execution_count": 78,
     "metadata": {},
     "output_type": "execute_result"
    }
   ],
   "source": [
    "df[\"age\"].sum()\n",
    "df[\"age\"].min()\n",
    "df[\"age\"].max()\n",
    "df[\"age\"].mean()"
   ]
  },
  {
   "cell_type": "markdown",
   "metadata": {},
   "source": [
    "Можно взять содержимое датафрейма как набор numpy-массивов"
   ]
  },
  {
   "cell_type": "code",
   "execution_count": 79,
   "metadata": {
    "ExecuteTime": {
     "end_time": "2024-01-30T21:10:29.772848300Z",
     "start_time": "2024-01-30T21:10:28.099139300Z"
    }
   },
   "outputs": [
    {
     "data": {
      "text/plain": "array([[25, 170, 'Alex', 6.8],\n       [35, 180, 'Polina', 5.142857142857143],\n       [45, 190, 'Misha', 4.222222222222222]], dtype=object)"
     },
     "execution_count": 79,
     "metadata": {},
     "output_type": "execute_result"
    }
   ],
   "source": [
    "df.values"
   ]
  },
  {
   "cell_type": "markdown",
   "metadata": {},
   "source": [
    "Можно фильтровать датафреймы"
   ]
  },
  {
   "cell_type": "code",
   "execution_count": 80,
   "metadata": {
    "ExecuteTime": {
     "end_time": "2024-01-30T21:10:29.804851100Z",
     "start_time": "2024-01-30T21:10:28.109946600Z"
    }
   },
   "outputs": [
    {
     "data": {
      "text/plain": "   age  height  name  height/age\n0   25     170  Alex         6.8",
      "text/html": "<div>\n<style scoped>\n    .dataframe tbody tr th:only-of-type {\n        vertical-align: middle;\n    }\n\n    .dataframe tbody tr th {\n        vertical-align: top;\n    }\n\n    .dataframe thead th {\n        text-align: right;\n    }\n</style>\n<table border=\"1\" class=\"dataframe\">\n  <thead>\n    <tr style=\"text-align: right;\">\n      <th></th>\n      <th>age</th>\n      <th>height</th>\n      <th>name</th>\n      <th>height/age</th>\n    </tr>\n  </thead>\n  <tbody>\n    <tr>\n      <th>0</th>\n      <td>25</td>\n      <td>170</td>\n      <td>Alex</td>\n      <td>6.8</td>\n    </tr>\n  </tbody>\n</table>\n</div>"
     },
     "execution_count": 80,
     "metadata": {},
     "output_type": "execute_result"
    }
   ],
   "source": [
    "df[df['age'] == 25]"
   ]
  },
  {
   "cell_type": "code",
   "execution_count": 81,
   "metadata": {
    "ExecuteTime": {
     "end_time": "2024-01-30T21:10:29.832848900Z",
     "start_time": "2024-01-30T21:10:28.130427400Z"
    }
   },
   "outputs": [
    {
     "data": {
      "text/plain": "   age  height   name  height/age\n2   45     190  Misha    4.222222",
      "text/html": "<div>\n<style scoped>\n    .dataframe tbody tr th:only-of-type {\n        vertical-align: middle;\n    }\n\n    .dataframe tbody tr th {\n        vertical-align: top;\n    }\n\n    .dataframe thead th {\n        text-align: right;\n    }\n</style>\n<table border=\"1\" class=\"dataframe\">\n  <thead>\n    <tr style=\"text-align: right;\">\n      <th></th>\n      <th>age</th>\n      <th>height</th>\n      <th>name</th>\n      <th>height/age</th>\n    </tr>\n  </thead>\n  <tbody>\n    <tr>\n      <th>2</th>\n      <td>45</td>\n      <td>190</td>\n      <td>Misha</td>\n      <td>4.222222</td>\n    </tr>\n  </tbody>\n</table>\n</div>"
     },
     "execution_count": 81,
     "metadata": {},
     "output_type": "execute_result"
    }
   ],
   "source": [
    "df[(df['age'] > 35) & (df['height'] > 170)]"
   ]
  },
  {
   "cell_type": "markdown",
   "metadata": {},
   "source": [
    "Если нужно поменять какое-то значение, можно использовать [.loc](https://pandas.pydata.org/pandas-docs/stable/user_guide/indexing.html#returning-a-view-versus-a-copy)"
   ]
  },
  {
   "cell_type": "code",
   "execution_count": 82,
   "metadata": {
    "ExecuteTime": {
     "end_time": "2024-01-30T21:10:29.857851800Z",
     "start_time": "2024-01-30T21:10:28.144707500Z"
    }
   },
   "outputs": [],
   "source": [
    "df.loc[df['age'] == 25, 'age'] = 20"
   ]
  },
  {
   "cell_type": "code",
   "execution_count": 83,
   "metadata": {
    "ExecuteTime": {
     "end_time": "2024-01-30T21:10:29.865846600Z",
     "start_time": "2024-01-30T21:10:28.158104500Z"
    }
   },
   "outputs": [
    {
     "data": {
      "text/plain": "   age  height    name  height/age\n0   20     170    Alex    6.800000\n1   35     180  Polina    5.142857",
      "text/html": "<div>\n<style scoped>\n    .dataframe tbody tr th:only-of-type {\n        vertical-align: middle;\n    }\n\n    .dataframe tbody tr th {\n        vertical-align: top;\n    }\n\n    .dataframe thead th {\n        text-align: right;\n    }\n</style>\n<table border=\"1\" class=\"dataframe\">\n  <thead>\n    <tr style=\"text-align: right;\">\n      <th></th>\n      <th>age</th>\n      <th>height</th>\n      <th>name</th>\n      <th>height/age</th>\n    </tr>\n  </thead>\n  <tbody>\n    <tr>\n      <th>0</th>\n      <td>20</td>\n      <td>170</td>\n      <td>Alex</td>\n      <td>6.800000</td>\n    </tr>\n    <tr>\n      <th>1</th>\n      <td>35</td>\n      <td>180</td>\n      <td>Polina</td>\n      <td>5.142857</td>\n    </tr>\n  </tbody>\n</table>\n</div>"
     },
     "execution_count": 83,
     "metadata": {},
     "output_type": "execute_result"
    }
   ],
   "source": [
    "df[df['height/age'] > 5]"
   ]
  },
  {
   "cell_type": "markdown",
   "metadata": {},
   "source": [
    "Создадим категорию \"высокий\", если человек выше 175, а иначе \"низкий\""
   ]
  },
  {
   "cell_type": "code",
   "execution_count": 84,
   "metadata": {
    "ExecuteTime": {
     "end_time": "2024-01-30T21:10:29.896850100Z",
     "start_time": "2024-01-30T21:10:28.172756500Z"
    }
   },
   "outputs": [
    {
     "data": {
      "text/plain": "   age  height    name  height/age height_category\n0   20     170    Alex    6.800000          низкий\n1   35     180  Polina    5.142857         высокий\n2   45     190   Misha    4.222222         высокий",
      "text/html": "<div>\n<style scoped>\n    .dataframe tbody tr th:only-of-type {\n        vertical-align: middle;\n    }\n\n    .dataframe tbody tr th {\n        vertical-align: top;\n    }\n\n    .dataframe thead th {\n        text-align: right;\n    }\n</style>\n<table border=\"1\" class=\"dataframe\">\n  <thead>\n    <tr style=\"text-align: right;\">\n      <th></th>\n      <th>age</th>\n      <th>height</th>\n      <th>name</th>\n      <th>height/age</th>\n      <th>height_category</th>\n    </tr>\n  </thead>\n  <tbody>\n    <tr>\n      <th>0</th>\n      <td>20</td>\n      <td>170</td>\n      <td>Alex</td>\n      <td>6.800000</td>\n      <td>низкий</td>\n    </tr>\n    <tr>\n      <th>1</th>\n      <td>35</td>\n      <td>180</td>\n      <td>Polina</td>\n      <td>5.142857</td>\n      <td>высокий</td>\n    </tr>\n    <tr>\n      <th>2</th>\n      <td>45</td>\n      <td>190</td>\n      <td>Misha</td>\n      <td>4.222222</td>\n      <td>высокий</td>\n    </tr>\n  </tbody>\n</table>\n</div>"
     },
     "execution_count": 84,
     "metadata": {},
     "output_type": "execute_result"
    }
   ],
   "source": [
    "df[\"height_category\"] = df[\"height\"].apply(lambda x: \"высокий\" if x > 175 else \"низкий\")\n",
    "df"
   ]
  },
  {
   "cell_type": "code",
   "execution_count": 85,
   "metadata": {
    "ExecuteTime": {
     "end_time": "2024-01-30T21:10:29.923848700Z",
     "start_time": "2024-01-30T21:10:28.193609700Z"
    }
   },
   "outputs": [
    {
     "data": {
      "text/plain": "   age  height   name  height/age height_category\n2   45     190  Misha    4.222222         высокий",
      "text/html": "<div>\n<style scoped>\n    .dataframe tbody tr th:only-of-type {\n        vertical-align: middle;\n    }\n\n    .dataframe tbody tr th {\n        vertical-align: top;\n    }\n\n    .dataframe thead th {\n        text-align: right;\n    }\n</style>\n<table border=\"1\" class=\"dataframe\">\n  <thead>\n    <tr style=\"text-align: right;\">\n      <th></th>\n      <th>age</th>\n      <th>height</th>\n      <th>name</th>\n      <th>height/age</th>\n      <th>height_category</th>\n    </tr>\n  </thead>\n  <tbody>\n    <tr>\n      <th>2</th>\n      <td>45</td>\n      <td>190</td>\n      <td>Misha</td>\n      <td>4.222222</td>\n      <td>высокий</td>\n    </tr>\n  </tbody>\n</table>\n</div>"
     },
     "execution_count": 85,
     "metadata": {},
     "output_type": "execute_result"
    }
   ],
   "source": [
    "df[(df['height_category'] == \"высокий\") & (df['age'] > 40)]"
   ]
  },
  {
   "cell_type": "markdown",
   "metadata": {},
   "source": [
    "## Задача\n",
    "\n",
    "Посчитать средний рост для высоких людей"
   ]
  },
  {
   "cell_type": "code",
   "execution_count": 86,
   "metadata": {
    "ExecuteTime": {
     "end_time": "2024-01-30T21:10:29.929848Z",
     "start_time": "2024-01-30T21:10:28.209180400Z"
    }
   },
   "outputs": [
    {
     "data": {
      "text/plain": "(180.0, 190.0)"
     },
     "execution_count": 86,
     "metadata": {},
     "output_type": "execute_result"
    }
   ],
   "source": [
    "mean_height = df.height.mean()\n",
    "mean_height, df[df['height'] > mean_height].height.mean()"
   ]
  },
  {
   "cell_type": "markdown",
   "metadata": {},
   "source": [
    "## Пропуски в данных\n",
    "\n",
    "Часто в реальных данных есть пропуски. Их надо либо убирать, либо заполнять"
   ]
  },
  {
   "cell_type": "code",
   "execution_count": 87,
   "metadata": {
    "ExecuteTime": {
     "end_time": "2024-01-30T21:10:29.960848900Z",
     "start_time": "2024-01-30T21:10:28.220890800Z"
    }
   },
   "outputs": [
    {
     "data": {
      "text/plain": "      a    b  c\n0  None  1.0  2\n1  None  2.0  3\n2  None  NaN  4",
      "text/html": "<div>\n<style scoped>\n    .dataframe tbody tr th:only-of-type {\n        vertical-align: middle;\n    }\n\n    .dataframe tbody tr th {\n        vertical-align: top;\n    }\n\n    .dataframe thead th {\n        text-align: right;\n    }\n</style>\n<table border=\"1\" class=\"dataframe\">\n  <thead>\n    <tr style=\"text-align: right;\">\n      <th></th>\n      <th>a</th>\n      <th>b</th>\n      <th>c</th>\n    </tr>\n  </thead>\n  <tbody>\n    <tr>\n      <th>0</th>\n      <td>None</td>\n      <td>1.0</td>\n      <td>2</td>\n    </tr>\n    <tr>\n      <th>1</th>\n      <td>None</td>\n      <td>2.0</td>\n      <td>3</td>\n    </tr>\n    <tr>\n      <th>2</th>\n      <td>None</td>\n      <td>NaN</td>\n      <td>4</td>\n    </tr>\n  </tbody>\n</table>\n</div>"
     },
     "execution_count": 87,
     "metadata": {},
     "output_type": "execute_result"
    }
   ],
   "source": [
    "values = [[None, 1, 2], [None, 2, 3], [None, None, 4]]\n",
    "df = pd.DataFrame(values, columns=[\"a\", \"b\", \"c\"])\n",
    "df"
   ]
  },
  {
   "cell_type": "markdown",
   "metadata": {},
   "source": [
    "За удаление отвечает функция `dropna()`\n",
    "\n",
    "У dropna есть два важных аргумента:\n",
    "\n",
    "- axis (по-умолчанию 0) - по строкам или по колонкам будем искать наны\n",
    "- how (по-умолчанию 'any') - бывает any и all, ниже пример использования"
   ]
  },
  {
   "cell_type": "markdown",
   "metadata": {},
   "source": [
    "Удаляем столбец `a`, потому что в нем все (all) значения None\n",
    "\n",
    "Сохраним датафрейм, он понадобится ниже"
   ]
  },
  {
   "cell_type": "code",
   "execution_count": 88,
   "metadata": {
    "ExecuteTime": {
     "end_time": "2024-01-30T21:10:29.971865500Z",
     "start_time": "2024-01-30T21:10:28.248343800Z"
    }
   },
   "outputs": [
    {
     "data": {
      "text/plain": "     b  c\n0  1.0  2\n1  2.0  3\n2  NaN  4",
      "text/html": "<div>\n<style scoped>\n    .dataframe tbody tr th:only-of-type {\n        vertical-align: middle;\n    }\n\n    .dataframe tbody tr th {\n        vertical-align: top;\n    }\n\n    .dataframe thead th {\n        text-align: right;\n    }\n</style>\n<table border=\"1\" class=\"dataframe\">\n  <thead>\n    <tr style=\"text-align: right;\">\n      <th></th>\n      <th>b</th>\n      <th>c</th>\n    </tr>\n  </thead>\n  <tbody>\n    <tr>\n      <th>0</th>\n      <td>1.0</td>\n      <td>2</td>\n    </tr>\n    <tr>\n      <th>1</th>\n      <td>2.0</td>\n      <td>3</td>\n    </tr>\n    <tr>\n      <th>2</th>\n      <td>NaN</td>\n      <td>4</td>\n    </tr>\n  </tbody>\n</table>\n</div>"
     },
     "execution_count": 88,
     "metadata": {},
     "output_type": "execute_result"
    }
   ],
   "source": [
    "dropped_a = df.dropna(axis=1, how='all')\n",
    "dropped_a"
   ]
  },
  {
   "cell_type": "markdown",
   "metadata": {},
   "source": [
    "Удаляем столбцы `a` и `b`, потому что в них есть None (any)"
   ]
  },
  {
   "cell_type": "code",
   "execution_count": 89,
   "metadata": {
    "ExecuteTime": {
     "end_time": "2024-01-30T21:10:30.011616600Z",
     "start_time": "2024-01-30T21:10:28.260106700Z"
    }
   },
   "outputs": [
    {
     "data": {
      "text/plain": "   c\n0  2\n1  3\n2  4",
      "text/html": "<div>\n<style scoped>\n    .dataframe tbody tr th:only-of-type {\n        vertical-align: middle;\n    }\n\n    .dataframe tbody tr th {\n        vertical-align: top;\n    }\n\n    .dataframe thead th {\n        text-align: right;\n    }\n</style>\n<table border=\"1\" class=\"dataframe\">\n  <thead>\n    <tr style=\"text-align: right;\">\n      <th></th>\n      <th>c</th>\n    </tr>\n  </thead>\n  <tbody>\n    <tr>\n      <th>0</th>\n      <td>2</td>\n    </tr>\n    <tr>\n      <th>1</th>\n      <td>3</td>\n    </tr>\n    <tr>\n      <th>2</th>\n      <td>4</td>\n    </tr>\n  </tbody>\n</table>\n</div>"
     },
     "execution_count": 89,
     "metadata": {},
     "output_type": "execute_result"
    }
   ],
   "source": [
    "df.dropna(axis=1, how='any')"
   ]
  },
  {
   "cell_type": "markdown",
   "metadata": {},
   "source": [
    "Возьмем датафрейм выше. Удалим из него последнюю строку, так как в ней есть None"
   ]
  },
  {
   "cell_type": "code",
   "execution_count": 90,
   "metadata": {
    "ExecuteTime": {
     "end_time": "2024-01-30T21:10:30.049618Z",
     "start_time": "2024-01-30T21:10:28.273227Z"
    }
   },
   "outputs": [
    {
     "data": {
      "text/plain": "     b  c\n0  1.0  2\n1  2.0  3",
      "text/html": "<div>\n<style scoped>\n    .dataframe tbody tr th:only-of-type {\n        vertical-align: middle;\n    }\n\n    .dataframe tbody tr th {\n        vertical-align: top;\n    }\n\n    .dataframe thead th {\n        text-align: right;\n    }\n</style>\n<table border=\"1\" class=\"dataframe\">\n  <thead>\n    <tr style=\"text-align: right;\">\n      <th></th>\n      <th>b</th>\n      <th>c</th>\n    </tr>\n  </thead>\n  <tbody>\n    <tr>\n      <th>0</th>\n      <td>1.0</td>\n      <td>2</td>\n    </tr>\n    <tr>\n      <th>1</th>\n      <td>2.0</td>\n      <td>3</td>\n    </tr>\n  </tbody>\n</table>\n</div>"
     },
     "execution_count": 90,
     "metadata": {},
     "output_type": "execute_result"
    }
   ],
   "source": [
    "dropped_a.dropna(axis=0, how='any')"
   ]
  },
  {
   "cell_type": "markdown",
   "metadata": {},
   "source": [
    "Заполним пустые значения 0"
   ]
  },
  {
   "cell_type": "code",
   "execution_count": 91,
   "metadata": {
    "ExecuteTime": {
     "end_time": "2024-01-30T21:10:30.062617300Z",
     "start_time": "2024-01-30T21:10:28.288470500Z"
    }
   },
   "outputs": [
    {
     "name": "stderr",
     "output_type": "stream",
     "text": [
      "C:\\Users\\danil\\AppData\\Local\\Temp\\ipykernel_9924\\952277969.py:1: FutureWarning: Downcasting object dtype arrays on .fillna, .ffill, .bfill is deprecated and will change in a future version. Call result.infer_objects(copy=False) instead. To opt-in to the future behavior, set `pd.set_option('future.no_silent_downcasting', True)`\n",
      "  df.fillna(0)\n"
     ]
    },
    {
     "data": {
      "text/plain": "   a    b  c\n0  0  1.0  2\n1  0  2.0  3\n2  0  0.0  4",
      "text/html": "<div>\n<style scoped>\n    .dataframe tbody tr th:only-of-type {\n        vertical-align: middle;\n    }\n\n    .dataframe tbody tr th {\n        vertical-align: top;\n    }\n\n    .dataframe thead th {\n        text-align: right;\n    }\n</style>\n<table border=\"1\" class=\"dataframe\">\n  <thead>\n    <tr style=\"text-align: right;\">\n      <th></th>\n      <th>a</th>\n      <th>b</th>\n      <th>c</th>\n    </tr>\n  </thead>\n  <tbody>\n    <tr>\n      <th>0</th>\n      <td>0</td>\n      <td>1.0</td>\n      <td>2</td>\n    </tr>\n    <tr>\n      <th>1</th>\n      <td>0</td>\n      <td>2.0</td>\n      <td>3</td>\n    </tr>\n    <tr>\n      <th>2</th>\n      <td>0</td>\n      <td>0.0</td>\n      <td>4</td>\n    </tr>\n  </tbody>\n</table>\n</div>"
     },
     "execution_count": 91,
     "metadata": {},
     "output_type": "execute_result"
    }
   ],
   "source": [
    "df.fillna(0)"
   ]
  },
  {
   "cell_type": "markdown",
   "metadata": {},
   "source": [
    "Заполним последним известным значением"
   ]
  },
  {
   "cell_type": "code",
   "execution_count": 92,
   "metadata": {
    "ExecuteTime": {
     "end_time": "2024-01-30T21:10:30.089618300Z",
     "start_time": "2024-01-30T21:10:28.306541300Z"
    }
   },
   "outputs": [
    {
     "name": "stderr",
     "output_type": "stream",
     "text": [
      "C:\\Users\\danil\\AppData\\Local\\Temp\\ipykernel_9924\\4105657595.py:1: FutureWarning: DataFrame.fillna with 'method' is deprecated and will raise in a future version. Use obj.ffill() or obj.bfill() instead.\n",
      "  df.fillna(method=\"ffill\")\n"
     ]
    },
    {
     "data": {
      "text/plain": "      a    b  c\n0  None  1.0  2\n1  None  2.0  3\n2  None  2.0  4",
      "text/html": "<div>\n<style scoped>\n    .dataframe tbody tr th:only-of-type {\n        vertical-align: middle;\n    }\n\n    .dataframe tbody tr th {\n        vertical-align: top;\n    }\n\n    .dataframe thead th {\n        text-align: right;\n    }\n</style>\n<table border=\"1\" class=\"dataframe\">\n  <thead>\n    <tr style=\"text-align: right;\">\n      <th></th>\n      <th>a</th>\n      <th>b</th>\n      <th>c</th>\n    </tr>\n  </thead>\n  <tbody>\n    <tr>\n      <th>0</th>\n      <td>None</td>\n      <td>1.0</td>\n      <td>2</td>\n    </tr>\n    <tr>\n      <th>1</th>\n      <td>None</td>\n      <td>2.0</td>\n      <td>3</td>\n    </tr>\n    <tr>\n      <th>2</th>\n      <td>None</td>\n      <td>2.0</td>\n      <td>4</td>\n    </tr>\n  </tbody>\n</table>\n</div>"
     },
     "execution_count": 92,
     "metadata": {},
     "output_type": "execute_result"
    }
   ],
   "source": [
    "df.fillna(method=\"ffill\")"
   ]
  },
  {
   "cell_type": "markdown",
   "metadata": {},
   "source": [
    "Заполним средним между соседними известными значениями"
   ]
  },
  {
   "cell_type": "code",
   "execution_count": 93,
   "metadata": {
    "ExecuteTime": {
     "end_time": "2024-01-30T21:10:30.124617500Z",
     "start_time": "2024-01-30T21:10:28.320095600Z"
    }
   },
   "outputs": [
    {
     "name": "stderr",
     "output_type": "stream",
     "text": [
      "C:\\Users\\danil\\AppData\\Local\\Temp\\ipykernel_9924\\3087911016.py:1: FutureWarning: DataFrame.interpolate with object dtype is deprecated and will raise in a future version. Call obj.infer_objects(copy=False) before interpolating instead.\n",
      "  df.interpolate()\n"
     ]
    },
    {
     "data": {
      "text/plain": "      a    b  c\n0  None  1.0  2\n1  None  2.0  3\n2  None  2.0  4",
      "text/html": "<div>\n<style scoped>\n    .dataframe tbody tr th:only-of-type {\n        vertical-align: middle;\n    }\n\n    .dataframe tbody tr th {\n        vertical-align: top;\n    }\n\n    .dataframe thead th {\n        text-align: right;\n    }\n</style>\n<table border=\"1\" class=\"dataframe\">\n  <thead>\n    <tr style=\"text-align: right;\">\n      <th></th>\n      <th>a</th>\n      <th>b</th>\n      <th>c</th>\n    </tr>\n  </thead>\n  <tbody>\n    <tr>\n      <th>0</th>\n      <td>None</td>\n      <td>1.0</td>\n      <td>2</td>\n    </tr>\n    <tr>\n      <th>1</th>\n      <td>None</td>\n      <td>2.0</td>\n      <td>3</td>\n    </tr>\n    <tr>\n      <th>2</th>\n      <td>None</td>\n      <td>2.0</td>\n      <td>4</td>\n    </tr>\n  </tbody>\n</table>\n</div>"
     },
     "execution_count": 93,
     "metadata": {},
     "output_type": "execute_result"
    }
   ],
   "source": [
    "df.interpolate()"
   ]
  },
  {
   "cell_type": "markdown",
   "metadata": {},
   "source": [
    "## Работаем с данными\n",
    "\n",
    "Мы можем прочитать таблицу из разных форматов: Excel, CSV, TSV, HDF и т.д.\n",
    "\n",
    "Начнем с самого простого формата - CSV. Можно открыть в блокноте файл `data/weather.csv` и посмотреть как он выглядит.\n",
    "\n",
    "Чтобы загрузить файл в DataFrame, воспользуемся методом `pd.read_csv()`"
   ]
  },
  {
   "cell_type": "code",
   "execution_count": 94,
   "metadata": {
    "ExecuteTime": {
     "end_time": "2024-01-30T21:10:30.192615200Z",
     "start_time": "2024-01-30T21:10:28.334941200Z"
    }
   },
   "outputs": [
    {
     "data": {
      "text/plain": "          Day   t\n0  2008-01-01   0\n1  2008-01-02  -5\n2  2008-01-03 -11\n3  2008-01-04 -11\n4  2008-01-05 -12",
      "text/html": "<div>\n<style scoped>\n    .dataframe tbody tr th:only-of-type {\n        vertical-align: middle;\n    }\n\n    .dataframe tbody tr th {\n        vertical-align: top;\n    }\n\n    .dataframe thead th {\n        text-align: right;\n    }\n</style>\n<table border=\"1\" class=\"dataframe\">\n  <thead>\n    <tr style=\"text-align: right;\">\n      <th></th>\n      <th>Day</th>\n      <th>t</th>\n    </tr>\n  </thead>\n  <tbody>\n    <tr>\n      <th>0</th>\n      <td>2008-01-01</td>\n      <td>0</td>\n    </tr>\n    <tr>\n      <th>1</th>\n      <td>2008-01-02</td>\n      <td>-5</td>\n    </tr>\n    <tr>\n      <th>2</th>\n      <td>2008-01-03</td>\n      <td>-11</td>\n    </tr>\n    <tr>\n      <th>3</th>\n      <td>2008-01-04</td>\n      <td>-11</td>\n    </tr>\n    <tr>\n      <th>4</th>\n      <td>2008-01-05</td>\n      <td>-12</td>\n    </tr>\n  </tbody>\n</table>\n</div>"
     },
     "execution_count": 94,
     "metadata": {},
     "output_type": "execute_result"
    }
   ],
   "source": [
    "df = pd.read_csv('../data/weather.csv')\n",
    "df.head()"
   ]
  },
  {
   "cell_type": "code",
   "execution_count": 95,
   "metadata": {
    "ExecuteTime": {
     "end_time": "2024-01-30T21:10:30.202618400Z",
     "start_time": "2024-01-30T21:10:28.355349200Z"
    }
   },
   "outputs": [
    {
     "data": {
      "text/plain": "                 t\ncount  3285.000000\nmean      8.137595\nstd      10.403138\nmin     -23.000000\n25%       1.000000\n50%       8.000000\n75%      17.000000\nmax      34.000000",
      "text/html": "<div>\n<style scoped>\n    .dataframe tbody tr th:only-of-type {\n        vertical-align: middle;\n    }\n\n    .dataframe tbody tr th {\n        vertical-align: top;\n    }\n\n    .dataframe thead th {\n        text-align: right;\n    }\n</style>\n<table border=\"1\" class=\"dataframe\">\n  <thead>\n    <tr style=\"text-align: right;\">\n      <th></th>\n      <th>t</th>\n    </tr>\n  </thead>\n  <tbody>\n    <tr>\n      <th>count</th>\n      <td>3285.000000</td>\n    </tr>\n    <tr>\n      <th>mean</th>\n      <td>8.137595</td>\n    </tr>\n    <tr>\n      <th>std</th>\n      <td>10.403138</td>\n    </tr>\n    <tr>\n      <th>min</th>\n      <td>-23.000000</td>\n    </tr>\n    <tr>\n      <th>25%</th>\n      <td>1.000000</td>\n    </tr>\n    <tr>\n      <th>50%</th>\n      <td>8.000000</td>\n    </tr>\n    <tr>\n      <th>75%</th>\n      <td>17.000000</td>\n    </tr>\n    <tr>\n      <th>max</th>\n      <td>34.000000</td>\n    </tr>\n  </tbody>\n</table>\n</div>"
     },
     "execution_count": 95,
     "metadata": {},
     "output_type": "execute_result"
    }
   ],
   "source": [
    "df.describe()"
   ]
  },
  {
   "cell_type": "code",
   "execution_count": 96,
   "metadata": {
    "ExecuteTime": {
     "end_time": "2024-01-30T21:10:30.278615300Z",
     "start_time": "2024-01-30T21:10:28.367859500Z"
    }
   },
   "outputs": [
    {
     "data": {
      "text/plain": "         Day   t  year  month  day\n0 2008-01-01   0  2008      1    1\n1 2008-01-02  -5  2008      1    2\n2 2008-01-03 -11  2008      1    3\n3 2008-01-04 -11  2008      1    4\n4 2008-01-05 -12  2008      1    5",
      "text/html": "<div>\n<style scoped>\n    .dataframe tbody tr th:only-of-type {\n        vertical-align: middle;\n    }\n\n    .dataframe tbody tr th {\n        vertical-align: top;\n    }\n\n    .dataframe thead th {\n        text-align: right;\n    }\n</style>\n<table border=\"1\" class=\"dataframe\">\n  <thead>\n    <tr style=\"text-align: right;\">\n      <th></th>\n      <th>Day</th>\n      <th>t</th>\n      <th>year</th>\n      <th>month</th>\n      <th>day</th>\n    </tr>\n  </thead>\n  <tbody>\n    <tr>\n      <th>0</th>\n      <td>2008-01-01</td>\n      <td>0</td>\n      <td>2008</td>\n      <td>1</td>\n      <td>1</td>\n    </tr>\n    <tr>\n      <th>1</th>\n      <td>2008-01-02</td>\n      <td>-5</td>\n      <td>2008</td>\n      <td>1</td>\n      <td>2</td>\n    </tr>\n    <tr>\n      <th>2</th>\n      <td>2008-01-03</td>\n      <td>-11</td>\n      <td>2008</td>\n      <td>1</td>\n      <td>3</td>\n    </tr>\n    <tr>\n      <th>3</th>\n      <td>2008-01-04</td>\n      <td>-11</td>\n      <td>2008</td>\n      <td>1</td>\n      <td>4</td>\n    </tr>\n    <tr>\n      <th>4</th>\n      <td>2008-01-05</td>\n      <td>-12</td>\n      <td>2008</td>\n      <td>1</td>\n      <td>5</td>\n    </tr>\n  </tbody>\n</table>\n</div>"
     },
     "execution_count": 96,
     "metadata": {},
     "output_type": "execute_result"
    }
   ],
   "source": [
    "df[\"Day\"] = pd.to_datetime(df[\"Day\"])\n",
    "df[\"year\"] = df.Day.dt.year\n",
    "df[\"month\"] = df.Day.dt.month\n",
    "df[\"day\"] = df.Day.dt.day\n",
    "df.head()"
   ]
  },
  {
   "cell_type": "markdown",
   "metadata": {},
   "source": [
    "## Задача\n",
    "\n",
    "Вывести среднюю температуру за январь 2010 года"
   ]
  },
  {
   "cell_type": "code",
   "execution_count": 97,
   "metadata": {
    "ExecuteTime": {
     "end_time": "2024-01-30T21:10:30.309616300Z",
     "start_time": "2024-01-30T21:10:28.391928600Z"
    }
   },
   "outputs": [
    {
     "data": {
      "text/plain": "-11.419354838709678"
     },
     "execution_count": 97,
     "metadata": {},
     "output_type": "execute_result"
    }
   ],
   "source": [
    "df.loc[(df['year'] == 2010) & (df['month'] == 1), 't'].mean()"
   ]
  },
  {
   "cell_type": "markdown",
   "metadata": {},
   "source": [
    "## Группировка и агрегация данных\n",
    "\n",
    "Иногда нужно объединять строки, в которых есть какие-то одинаковые значения.\n",
    "\n",
    "Например, мы хотим посчитать среднюю температуру для каждого месяца. Это значит, что нам нужны строки, в которых совпадают year и month"
   ]
  },
  {
   "cell_type": "code",
   "execution_count": 98,
   "metadata": {
    "ExecuteTime": {
     "end_time": "2024-01-30T21:10:30.338618400Z",
     "start_time": "2024-01-30T21:10:28.399659200Z"
    }
   },
   "outputs": [
    {
     "name": "stdout",
     "output_type": "stream",
     "text": [
      "(2008, 1)\n",
      "         Day  t  year  month  day\n",
      "0 2008-01-01  0  2008      1    1\n",
      "1 2008-01-02 -5  2008      1    2\n"
     ]
    }
   ],
   "source": [
    "for name, group in df.groupby([\"year\", \"month\"]):\n",
    "    print(name)\n",
    "    print(group.head(2))\n",
    "    break"
   ]
  },
  {
   "cell_type": "code",
   "execution_count": 99,
   "metadata": {
    "ExecuteTime": {
     "end_time": "2024-01-30T21:10:30.349617100Z",
     "start_time": "2024-01-30T21:10:28.412660300Z"
    }
   },
   "outputs": [
    {
     "data": {
      "text/plain": "                           Day          t        day\nyear month                                          \n2008 1     2008-01-16 00:00:00  -1.612903  16.000000\n     2     2008-02-15 00:00:00   0.034483  15.000000\n     3     2008-03-16 00:00:00   1.516129  16.000000\n     4     2008-04-15 12:00:00   9.566667  15.500000\n     5     2008-05-16 08:00:00  14.133333  16.333333\n...                        ...        ...        ...\n2016 8     2016-08-16 00:00:00  19.161290  16.000000\n     9     2016-09-15 12:00:00  14.366667  15.500000\n     10    2016-10-16 00:00:00   5.870968  16.000000\n     11    2016-11-15 12:00:00  -1.433333  15.500000\n     12    2016-12-16 00:00:00  -0.806452  16.000000\n\n[108 rows x 3 columns]",
      "text/html": "<div>\n<style scoped>\n    .dataframe tbody tr th:only-of-type {\n        vertical-align: middle;\n    }\n\n    .dataframe tbody tr th {\n        vertical-align: top;\n    }\n\n    .dataframe thead th {\n        text-align: right;\n    }\n</style>\n<table border=\"1\" class=\"dataframe\">\n  <thead>\n    <tr style=\"text-align: right;\">\n      <th></th>\n      <th></th>\n      <th>Day</th>\n      <th>t</th>\n      <th>day</th>\n    </tr>\n    <tr>\n      <th>year</th>\n      <th>month</th>\n      <th></th>\n      <th></th>\n      <th></th>\n    </tr>\n  </thead>\n  <tbody>\n    <tr>\n      <th rowspan=\"5\" valign=\"top\">2008</th>\n      <th>1</th>\n      <td>2008-01-16 00:00:00</td>\n      <td>-1.612903</td>\n      <td>16.000000</td>\n    </tr>\n    <tr>\n      <th>2</th>\n      <td>2008-02-15 00:00:00</td>\n      <td>0.034483</td>\n      <td>15.000000</td>\n    </tr>\n    <tr>\n      <th>3</th>\n      <td>2008-03-16 00:00:00</td>\n      <td>1.516129</td>\n      <td>16.000000</td>\n    </tr>\n    <tr>\n      <th>4</th>\n      <td>2008-04-15 12:00:00</td>\n      <td>9.566667</td>\n      <td>15.500000</td>\n    </tr>\n    <tr>\n      <th>5</th>\n      <td>2008-05-16 08:00:00</td>\n      <td>14.133333</td>\n      <td>16.333333</td>\n    </tr>\n    <tr>\n      <th>...</th>\n      <th>...</th>\n      <td>...</td>\n      <td>...</td>\n      <td>...</td>\n    </tr>\n    <tr>\n      <th rowspan=\"5\" valign=\"top\">2016</th>\n      <th>8</th>\n      <td>2016-08-16 00:00:00</td>\n      <td>19.161290</td>\n      <td>16.000000</td>\n    </tr>\n    <tr>\n      <th>9</th>\n      <td>2016-09-15 12:00:00</td>\n      <td>14.366667</td>\n      <td>15.500000</td>\n    </tr>\n    <tr>\n      <th>10</th>\n      <td>2016-10-16 00:00:00</td>\n      <td>5.870968</td>\n      <td>16.000000</td>\n    </tr>\n    <tr>\n      <th>11</th>\n      <td>2016-11-15 12:00:00</td>\n      <td>-1.433333</td>\n      <td>15.500000</td>\n    </tr>\n    <tr>\n      <th>12</th>\n      <td>2016-12-16 00:00:00</td>\n      <td>-0.806452</td>\n      <td>16.000000</td>\n    </tr>\n  </tbody>\n</table>\n<p>108 rows × 3 columns</p>\n</div>"
     },
     "execution_count": 99,
     "metadata": {},
     "output_type": "execute_result"
    }
   ],
   "source": [
    "df.groupby([\"year\", \"month\"]).mean()"
   ]
  },
  {
   "cell_type": "markdown",
   "metadata": {},
   "source": [
    "Вопрос - почему среднее по дням разное?"
   ]
  },
  {
   "cell_type": "markdown",
   "metadata": {},
   "source": [
    "Иногда мы хотим применить какую-то функцию, которой нет в стандартном pandas или хотим применить много разных функций к определенным строкам. Для этого существует метод agg (сокращение от Aggregate)"
   ]
  },
  {
   "cell_type": "code",
   "execution_count": 100,
   "metadata": {
    "ExecuteTime": {
     "end_time": "2024-01-30T21:10:30.457617800Z",
     "start_time": "2024-01-30T21:10:28.432478700Z"
    }
   },
   "outputs": [
    {
     "data": {
      "text/plain": "            mean  max       std\nmonth                          \n1      -5.745520    5  6.316853\n2      -3.505882    6  5.953805\n3       0.759857   13  4.252342\n4       7.744444   21  4.167214\n5      15.291367   30  5.149533\n6      18.325926   31  4.513227\n7      21.949640   33  4.418249\n8      19.666667   34  4.102114\n9      14.574074   24  3.318316\n10      7.326165   16  3.501962\n11      2.466667   11  4.134001\n12     -1.823741    8  5.425692",
      "text/html": "<div>\n<style scoped>\n    .dataframe tbody tr th:only-of-type {\n        vertical-align: middle;\n    }\n\n    .dataframe tbody tr th {\n        vertical-align: top;\n    }\n\n    .dataframe thead th {\n        text-align: right;\n    }\n</style>\n<table border=\"1\" class=\"dataframe\">\n  <thead>\n    <tr style=\"text-align: right;\">\n      <th></th>\n      <th>mean</th>\n      <th>max</th>\n      <th>std</th>\n    </tr>\n    <tr>\n      <th>month</th>\n      <th></th>\n      <th></th>\n      <th></th>\n    </tr>\n  </thead>\n  <tbody>\n    <tr>\n      <th>1</th>\n      <td>-5.745520</td>\n      <td>5</td>\n      <td>6.316853</td>\n    </tr>\n    <tr>\n      <th>2</th>\n      <td>-3.505882</td>\n      <td>6</td>\n      <td>5.953805</td>\n    </tr>\n    <tr>\n      <th>3</th>\n      <td>0.759857</td>\n      <td>13</td>\n      <td>4.252342</td>\n    </tr>\n    <tr>\n      <th>4</th>\n      <td>7.744444</td>\n      <td>21</td>\n      <td>4.167214</td>\n    </tr>\n    <tr>\n      <th>5</th>\n      <td>15.291367</td>\n      <td>30</td>\n      <td>5.149533</td>\n    </tr>\n    <tr>\n      <th>6</th>\n      <td>18.325926</td>\n      <td>31</td>\n      <td>4.513227</td>\n    </tr>\n    <tr>\n      <th>7</th>\n      <td>21.949640</td>\n      <td>33</td>\n      <td>4.418249</td>\n    </tr>\n    <tr>\n      <th>8</th>\n      <td>19.666667</td>\n      <td>34</td>\n      <td>4.102114</td>\n    </tr>\n    <tr>\n      <th>9</th>\n      <td>14.574074</td>\n      <td>24</td>\n      <td>3.318316</td>\n    </tr>\n    <tr>\n      <th>10</th>\n      <td>7.326165</td>\n      <td>16</td>\n      <td>3.501962</td>\n    </tr>\n    <tr>\n      <th>11</th>\n      <td>2.466667</td>\n      <td>11</td>\n      <td>4.134001</td>\n    </tr>\n    <tr>\n      <th>12</th>\n      <td>-1.823741</td>\n      <td>8</td>\n      <td>5.425692</td>\n    </tr>\n  </tbody>\n</table>\n</div>"
     },
     "execution_count": 100,
     "metadata": {},
     "output_type": "execute_result"
    }
   ],
   "source": [
    "df.groupby([\"month\"])['t'].agg(['mean', 'max', 'std']) # Применяем много функций ко всем столбцам"
   ]
  },
  {
   "cell_type": "code",
   "execution_count": 101,
   "metadata": {
    "ExecuteTime": {
     "end_time": "2024-01-30T21:10:30.474618500Z",
     "start_time": "2024-01-30T21:10:28.449477300Z"
    }
   },
   "outputs": [
    {
     "data": {
      "text/plain": "          t                           day\n      count       mean max min       mean\nmonth                                    \n1       279  -5.745520   5 -21  16.000000\n2       255  -3.505882   6 -23  14.670588\n3       279   0.759857  13 -11  16.000000\n4       270   7.744444  21  -1  15.500000\n5       278  15.291367  30   3  16.035971\n6       270  18.325926  31   9  15.500000\n7       278  21.949640  33  12  15.946043\n8       279  19.666667  34  10  16.000000\n9       270  14.574074  24   5  15.500000\n10      279   7.326165  16  -2  16.000000\n11      270   2.466667  11 -13  15.500000\n12      278  -1.823741   8 -19  16.000000",
      "text/html": "<div>\n<style scoped>\n    .dataframe tbody tr th:only-of-type {\n        vertical-align: middle;\n    }\n\n    .dataframe tbody tr th {\n        vertical-align: top;\n    }\n\n    .dataframe thead tr th {\n        text-align: left;\n    }\n\n    .dataframe thead tr:last-of-type th {\n        text-align: right;\n    }\n</style>\n<table border=\"1\" class=\"dataframe\">\n  <thead>\n    <tr>\n      <th></th>\n      <th colspan=\"4\" halign=\"left\">t</th>\n      <th>day</th>\n    </tr>\n    <tr>\n      <th></th>\n      <th>count</th>\n      <th>mean</th>\n      <th>max</th>\n      <th>min</th>\n      <th>mean</th>\n    </tr>\n    <tr>\n      <th>month</th>\n      <th></th>\n      <th></th>\n      <th></th>\n      <th></th>\n      <th></th>\n    </tr>\n  </thead>\n  <tbody>\n    <tr>\n      <th>1</th>\n      <td>279</td>\n      <td>-5.745520</td>\n      <td>5</td>\n      <td>-21</td>\n      <td>16.000000</td>\n    </tr>\n    <tr>\n      <th>2</th>\n      <td>255</td>\n      <td>-3.505882</td>\n      <td>6</td>\n      <td>-23</td>\n      <td>14.670588</td>\n    </tr>\n    <tr>\n      <th>3</th>\n      <td>279</td>\n      <td>0.759857</td>\n      <td>13</td>\n      <td>-11</td>\n      <td>16.000000</td>\n    </tr>\n    <tr>\n      <th>4</th>\n      <td>270</td>\n      <td>7.744444</td>\n      <td>21</td>\n      <td>-1</td>\n      <td>15.500000</td>\n    </tr>\n    <tr>\n      <th>5</th>\n      <td>278</td>\n      <td>15.291367</td>\n      <td>30</td>\n      <td>3</td>\n      <td>16.035971</td>\n    </tr>\n    <tr>\n      <th>6</th>\n      <td>270</td>\n      <td>18.325926</td>\n      <td>31</td>\n      <td>9</td>\n      <td>15.500000</td>\n    </tr>\n    <tr>\n      <th>7</th>\n      <td>278</td>\n      <td>21.949640</td>\n      <td>33</td>\n      <td>12</td>\n      <td>15.946043</td>\n    </tr>\n    <tr>\n      <th>8</th>\n      <td>279</td>\n      <td>19.666667</td>\n      <td>34</td>\n      <td>10</td>\n      <td>16.000000</td>\n    </tr>\n    <tr>\n      <th>9</th>\n      <td>270</td>\n      <td>14.574074</td>\n      <td>24</td>\n      <td>5</td>\n      <td>15.500000</td>\n    </tr>\n    <tr>\n      <th>10</th>\n      <td>279</td>\n      <td>7.326165</td>\n      <td>16</td>\n      <td>-2</td>\n      <td>16.000000</td>\n    </tr>\n    <tr>\n      <th>11</th>\n      <td>270</td>\n      <td>2.466667</td>\n      <td>11</td>\n      <td>-13</td>\n      <td>15.500000</td>\n    </tr>\n    <tr>\n      <th>12</th>\n      <td>278</td>\n      <td>-1.823741</td>\n      <td>8</td>\n      <td>-19</td>\n      <td>16.000000</td>\n    </tr>\n  </tbody>\n</table>\n</div>"
     },
     "execution_count": 101,
     "metadata": {},
     "output_type": "execute_result"
    }
   ],
   "source": [
    "# применяем много функций к определенным столбцам\n",
    "df.groupby([\"month\"]).agg({'t': ['count', 'mean', 'max', 'min'], 'day': ['mean']}) "
   ]
  },
  {
   "cell_type": "code",
   "execution_count": 102,
   "metadata": {
    "ExecuteTime": {
     "end_time": "2024-01-30T21:10:30.513132Z",
     "start_time": "2024-01-30T21:10:28.471236800Z"
    }
   },
   "outputs": [
    {
     "name": "stderr",
     "output_type": "stream",
     "text": [
      "C:\\Users\\danil\\AppData\\Local\\Temp\\ipykernel_9924\\2308937864.py:1: FutureWarning: The provided callable <function mean at 0x00000145207EC540> is currently using SeriesGroupBy.mean. In a future version of pandas, the provided callable will be used directly. To keep current behavior pass the string \"mean\" instead.\n",
      "  df.groupby([\"month\"]).agg(\n"
     ]
    },
    {
     "data": {
      "text/plain": "               t                 \n             one        two three\nmonth                            \n1      -5.745520   0.000000  -0.0\n2      -3.505882   0.000000  -0.0\n3       0.759857   0.000000   0.0\n4       7.744444   0.000000   0.0\n5      15.291367   0.000000   0.0\n6      18.325926   0.000000   0.0\n7      21.949640  22.633403   0.0\n8      19.666667  24.377675   0.0\n9      14.574074   0.000000   0.0\n10      7.326165   0.000000   0.0\n11      2.466667   0.000000   0.0\n12     -1.823741   0.000000  -0.0",
      "text/html": "<div>\n<style scoped>\n    .dataframe tbody tr th:only-of-type {\n        vertical-align: middle;\n    }\n\n    .dataframe tbody tr th {\n        vertical-align: top;\n    }\n\n    .dataframe thead tr th {\n        text-align: left;\n    }\n\n    .dataframe thead tr:last-of-type th {\n        text-align: right;\n    }\n</style>\n<table border=\"1\" class=\"dataframe\">\n  <thead>\n    <tr>\n      <th></th>\n      <th colspan=\"3\" halign=\"left\">t</th>\n    </tr>\n    <tr>\n      <th></th>\n      <th>one</th>\n      <th>two</th>\n      <th>three</th>\n    </tr>\n    <tr>\n      <th>month</th>\n      <th></th>\n      <th></th>\n      <th></th>\n    </tr>\n  </thead>\n  <tbody>\n    <tr>\n      <th>1</th>\n      <td>-5.745520</td>\n      <td>0.000000</td>\n      <td>-0.0</td>\n    </tr>\n    <tr>\n      <th>2</th>\n      <td>-3.505882</td>\n      <td>0.000000</td>\n      <td>-0.0</td>\n    </tr>\n    <tr>\n      <th>3</th>\n      <td>0.759857</td>\n      <td>0.000000</td>\n      <td>0.0</td>\n    </tr>\n    <tr>\n      <th>4</th>\n      <td>7.744444</td>\n      <td>0.000000</td>\n      <td>0.0</td>\n    </tr>\n    <tr>\n      <th>5</th>\n      <td>15.291367</td>\n      <td>0.000000</td>\n      <td>0.0</td>\n    </tr>\n    <tr>\n      <th>6</th>\n      <td>18.325926</td>\n      <td>0.000000</td>\n      <td>0.0</td>\n    </tr>\n    <tr>\n      <th>7</th>\n      <td>21.949640</td>\n      <td>22.633403</td>\n      <td>0.0</td>\n    </tr>\n    <tr>\n      <th>8</th>\n      <td>19.666667</td>\n      <td>24.377675</td>\n      <td>0.0</td>\n    </tr>\n    <tr>\n      <th>9</th>\n      <td>14.574074</td>\n      <td>0.000000</td>\n      <td>0.0</td>\n    </tr>\n    <tr>\n      <th>10</th>\n      <td>7.326165</td>\n      <td>0.000000</td>\n      <td>0.0</td>\n    </tr>\n    <tr>\n      <th>11</th>\n      <td>2.466667</td>\n      <td>0.000000</td>\n      <td>0.0</td>\n    </tr>\n    <tr>\n      <th>12</th>\n      <td>-1.823741</td>\n      <td>0.000000</td>\n      <td>-0.0</td>\n    </tr>\n  </tbody>\n</table>\n</div>"
     },
     "execution_count": 102,
     "metadata": {},
     "output_type": "execute_result"
    }
   ],
   "source": [
    "df.groupby([\"month\"]).agg(\n",
    "    {'t': [\n",
    "        ('one',  np.mean), \n",
    "        ('two', lambda value: 100 * ((value > 32).sum() / value.std())), \n",
    "        ('three', lambda value: 100* ((value > 45).sum() / value.mean()))\n",
    "    ]}\n",
    ")"
   ]
  },
  {
   "cell_type": "markdown",
   "metadata": {},
   "source": [
    "## Функция map"
   ]
  },
  {
   "cell_type": "code",
   "execution_count": 103,
   "metadata": {
    "ExecuteTime": {
     "end_time": "2024-01-30T21:10:30.555655200Z",
     "start_time": "2024-01-30T21:10:28.497576Z"
    }
   },
   "outputs": [],
   "source": [
    "month_number_to_name = {\n",
    "    1: \"Январь\",\n",
    "    2: \"Февраль\",\n",
    "    3: \"Март\",\n",
    "    4: \"Апрель\",\n",
    "    5: \"Май\",\n",
    "    6: \"Июнь\",\n",
    "    7: \"Июль\",\n",
    "    8: \"Август\",\n",
    "    9: \"Сентябрь\",\n",
    "    10: \"Октябрь\",\n",
    "    11: \"Ноябрь\",\n",
    "    12: \"Декабрь\"\n",
    "}"
   ]
  },
  {
   "cell_type": "code",
   "execution_count": 104,
   "metadata": {
    "ExecuteTime": {
     "end_time": "2024-01-30T21:10:30.586653500Z",
     "start_time": "2024-01-30T21:10:28.500564600Z"
    }
   },
   "outputs": [
    {
     "data": {
      "text/plain": "         Day   t  year  month  day month_name\n0 2008-01-01   0  2008      1    1     Январь\n1 2008-01-02  -5  2008      1    2     Январь\n2 2008-01-03 -11  2008      1    3     Январь\n3 2008-01-04 -11  2008      1    4     Январь\n4 2008-01-05 -12  2008      1    5     Январь",
      "text/html": "<div>\n<style scoped>\n    .dataframe tbody tr th:only-of-type {\n        vertical-align: middle;\n    }\n\n    .dataframe tbody tr th {\n        vertical-align: top;\n    }\n\n    .dataframe thead th {\n        text-align: right;\n    }\n</style>\n<table border=\"1\" class=\"dataframe\">\n  <thead>\n    <tr style=\"text-align: right;\">\n      <th></th>\n      <th>Day</th>\n      <th>t</th>\n      <th>year</th>\n      <th>month</th>\n      <th>day</th>\n      <th>month_name</th>\n    </tr>\n  </thead>\n  <tbody>\n    <tr>\n      <th>0</th>\n      <td>2008-01-01</td>\n      <td>0</td>\n      <td>2008</td>\n      <td>1</td>\n      <td>1</td>\n      <td>Январь</td>\n    </tr>\n    <tr>\n      <th>1</th>\n      <td>2008-01-02</td>\n      <td>-5</td>\n      <td>2008</td>\n      <td>1</td>\n      <td>2</td>\n      <td>Январь</td>\n    </tr>\n    <tr>\n      <th>2</th>\n      <td>2008-01-03</td>\n      <td>-11</td>\n      <td>2008</td>\n      <td>1</td>\n      <td>3</td>\n      <td>Январь</td>\n    </tr>\n    <tr>\n      <th>3</th>\n      <td>2008-01-04</td>\n      <td>-11</td>\n      <td>2008</td>\n      <td>1</td>\n      <td>4</td>\n      <td>Январь</td>\n    </tr>\n    <tr>\n      <th>4</th>\n      <td>2008-01-05</td>\n      <td>-12</td>\n      <td>2008</td>\n      <td>1</td>\n      <td>5</td>\n      <td>Январь</td>\n    </tr>\n  </tbody>\n</table>\n</div>"
     },
     "execution_count": 104,
     "metadata": {},
     "output_type": "execute_result"
    }
   ],
   "source": [
    "df[\"month_name\"] = df[\"month\"].map(month_number_to_name)\n",
    "df.head()"
   ]
  },
  {
   "cell_type": "markdown",
   "metadata": {},
   "source": [
    "Сохраним результаты"
   ]
  },
  {
   "cell_type": "markdown",
   "metadata": {},
   "source": [
    "## Функций apply"
   ]
  },
  {
   "cell_type": "code",
   "execution_count": 105,
   "metadata": {
    "ExecuteTime": {
     "end_time": "2024-01-30T21:10:30.646658Z",
     "start_time": "2024-01-30T21:10:28.521567500Z"
    }
   },
   "outputs": [
    {
     "data": {
      "text/plain": "         Day   t  year  month  day month_name   T_f\n0 2008-01-01   0  2008      1    1     Январь  32.0\n1 2008-01-02  -5  2008      1    2     Январь  23.0\n2 2008-01-03 -11  2008      1    3     Январь  12.2\n3 2008-01-04 -11  2008      1    4     Январь  12.2\n4 2008-01-05 -12  2008      1    5     Январь  10.4",
      "text/html": "<div>\n<style scoped>\n    .dataframe tbody tr th:only-of-type {\n        vertical-align: middle;\n    }\n\n    .dataframe tbody tr th {\n        vertical-align: top;\n    }\n\n    .dataframe thead th {\n        text-align: right;\n    }\n</style>\n<table border=\"1\" class=\"dataframe\">\n  <thead>\n    <tr style=\"text-align: right;\">\n      <th></th>\n      <th>Day</th>\n      <th>t</th>\n      <th>year</th>\n      <th>month</th>\n      <th>day</th>\n      <th>month_name</th>\n      <th>T_f</th>\n    </tr>\n  </thead>\n  <tbody>\n    <tr>\n      <th>0</th>\n      <td>2008-01-01</td>\n      <td>0</td>\n      <td>2008</td>\n      <td>1</td>\n      <td>1</td>\n      <td>Январь</td>\n      <td>32.0</td>\n    </tr>\n    <tr>\n      <th>1</th>\n      <td>2008-01-02</td>\n      <td>-5</td>\n      <td>2008</td>\n      <td>1</td>\n      <td>2</td>\n      <td>Январь</td>\n      <td>23.0</td>\n    </tr>\n    <tr>\n      <th>2</th>\n      <td>2008-01-03</td>\n      <td>-11</td>\n      <td>2008</td>\n      <td>1</td>\n      <td>3</td>\n      <td>Январь</td>\n      <td>12.2</td>\n    </tr>\n    <tr>\n      <th>3</th>\n      <td>2008-01-04</td>\n      <td>-11</td>\n      <td>2008</td>\n      <td>1</td>\n      <td>4</td>\n      <td>Январь</td>\n      <td>12.2</td>\n    </tr>\n    <tr>\n      <th>4</th>\n      <td>2008-01-05</td>\n      <td>-12</td>\n      <td>2008</td>\n      <td>1</td>\n      <td>5</td>\n      <td>Январь</td>\n      <td>10.4</td>\n    </tr>\n  </tbody>\n</table>\n</div>"
     },
     "execution_count": 105,
     "metadata": {},
     "output_type": "execute_result"
    }
   ],
   "source": [
    "df['T_f'] = df.t.apply(lambda x: 9/5 * x + 32)\n",
    "df.head()"
   ]
  },
  {
   "cell_type": "code",
   "execution_count": 106,
   "metadata": {
    "ExecuteTime": {
     "end_time": "2024-01-30T21:10:30.708650800Z",
     "start_time": "2024-01-30T21:10:28.536565600Z"
    }
   },
   "outputs": [],
   "source": [
    "df.to_csv('result.csv')"
   ]
  },
  {
   "cell_type": "markdown",
   "metadata": {},
   "source": [
    "## Задача\n",
    "\n",
    "**Во всех задачах ниже стараемся избегать циклов**\n",
    "\n",
    "\n",
    "Найти насколько отличалась температура в самый жаркий и самый холодный день"
   ]
  },
  {
   "cell_type": "code",
   "execution_count": 107,
   "metadata": {
    "ExecuteTime": {
     "end_time": "2024-01-30T21:10:30.718652600Z",
     "start_time": "2024-01-30T21:10:28.564713100Z"
    }
   },
   "outputs": [
    {
     "data": {
      "text/plain": "57"
     },
     "execution_count": 107,
     "metadata": {},
     "output_type": "execute_result"
    }
   ],
   "source": [
    "df.t.max() - df.t.min()"
   ]
  },
  {
   "cell_type": "markdown",
   "metadata": {},
   "source": [
    "## Задача\n",
    "\n",
    "Вывести среднее, максимальное, минимальное, стандартное отклонение и медиану температуры за каждый год"
   ]
  },
  {
   "cell_type": "code",
   "execution_count": 108,
   "metadata": {
    "ExecuteTime": {
     "end_time": "2024-01-30T21:10:30.778270300Z",
     "start_time": "2024-01-30T21:10:28.574133500Z"
    }
   },
   "outputs": [
    {
     "data": {
      "text/plain": "      max  min        std  median\nyear                             \n2008   27  -14   8.221605     9.0\n2009   26  -13   9.767455     6.0\n2010   34  -23  12.953206     8.0\n2011   31  -20  10.839861     8.0\n2012   31  -19  11.060134     7.0\n2013   31  -16  10.619822     8.0\n2014   31  -18  10.485637     8.0\n2015   27  -11   8.307070     8.0\n2016   30  -21  10.453923     7.0",
      "text/html": "<div>\n<style scoped>\n    .dataframe tbody tr th:only-of-type {\n        vertical-align: middle;\n    }\n\n    .dataframe tbody tr th {\n        vertical-align: top;\n    }\n\n    .dataframe thead th {\n        text-align: right;\n    }\n</style>\n<table border=\"1\" class=\"dataframe\">\n  <thead>\n    <tr style=\"text-align: right;\">\n      <th></th>\n      <th>max</th>\n      <th>min</th>\n      <th>std</th>\n      <th>median</th>\n    </tr>\n    <tr>\n      <th>year</th>\n      <th></th>\n      <th></th>\n      <th></th>\n      <th></th>\n    </tr>\n  </thead>\n  <tbody>\n    <tr>\n      <th>2008</th>\n      <td>27</td>\n      <td>-14</td>\n      <td>8.221605</td>\n      <td>9.0</td>\n    </tr>\n    <tr>\n      <th>2009</th>\n      <td>26</td>\n      <td>-13</td>\n      <td>9.767455</td>\n      <td>6.0</td>\n    </tr>\n    <tr>\n      <th>2010</th>\n      <td>34</td>\n      <td>-23</td>\n      <td>12.953206</td>\n      <td>8.0</td>\n    </tr>\n    <tr>\n      <th>2011</th>\n      <td>31</td>\n      <td>-20</td>\n      <td>10.839861</td>\n      <td>8.0</td>\n    </tr>\n    <tr>\n      <th>2012</th>\n      <td>31</td>\n      <td>-19</td>\n      <td>11.060134</td>\n      <td>7.0</td>\n    </tr>\n    <tr>\n      <th>2013</th>\n      <td>31</td>\n      <td>-16</td>\n      <td>10.619822</td>\n      <td>8.0</td>\n    </tr>\n    <tr>\n      <th>2014</th>\n      <td>31</td>\n      <td>-18</td>\n      <td>10.485637</td>\n      <td>8.0</td>\n    </tr>\n    <tr>\n      <th>2015</th>\n      <td>27</td>\n      <td>-11</td>\n      <td>8.307070</td>\n      <td>8.0</td>\n    </tr>\n    <tr>\n      <th>2016</th>\n      <td>30</td>\n      <td>-21</td>\n      <td>10.453923</td>\n      <td>7.0</td>\n    </tr>\n  </tbody>\n</table>\n</div>"
     },
     "execution_count": 108,
     "metadata": {},
     "output_type": "execute_result"
    }
   ],
   "source": [
    "df.groupby('year').t.agg(['max', 'min', 'std', 'median'])"
   ]
  },
  {
   "cell_type": "markdown",
   "metadata": {},
   "source": [
    "## Задача"
   ]
  },
  {
   "cell_type": "markdown",
   "metadata": {},
   "source": [
    "Необходимо узнать насколько медиана отличалась от среднего в каждом месяце. Использовать agg для решения"
   ]
  },
  {
   "cell_type": "code",
   "execution_count": 109,
   "metadata": {
    "ExecuteTime": {
     "end_time": "2024-01-30T21:10:30.802266800Z",
     "start_time": "2024-01-30T21:10:28.586934800Z"
    }
   },
   "outputs": [
    {
     "data": {
      "text/plain": "month\n1     0.745520\n2     1.505882\n3     0.240143\n4    -0.744444\n5    -0.291367\n6    -0.325926\n7     0.050360\n8    -0.666667\n9     0.425926\n10    0.673835\n11    0.533333\n12    1.323741\nName: t, dtype: float64"
     },
     "execution_count": 109,
     "metadata": {},
     "output_type": "execute_result"
    }
   ],
   "source": [
    "df.groupby('month').t.agg(lambda x: x.median() - x.mean())"
   ]
  },
  {
   "cell_type": "markdown",
   "metadata": {},
   "source": [
    "## Задача\n",
    "\n",
    "Вывести день, в который максимально изменилась температура\n",
    "\n",
    "Подсказка: `diff()`"
   ]
  },
  {
   "cell_type": "code",
   "execution_count": 110,
   "metadata": {
    "ExecuteTime": {
     "end_time": "2024-01-30T21:10:30.825266700Z",
     "start_time": "2024-01-30T21:10:28.605582900Z"
    }
   },
   "outputs": [
    {
     "data": {
      "text/plain": "2335"
     },
     "execution_count": 110,
     "metadata": {},
     "output_type": "execute_result"
    }
   ],
   "source": [
    "id_max = abs(df.t.diff()).idxmax(axis=0)\n",
    "id_max"
   ]
  },
  {
   "cell_type": "code",
   "execution_count": 111,
   "metadata": {
    "ExecuteTime": {
     "end_time": "2024-01-30T21:10:30.854271400Z",
     "start_time": "2024-01-30T21:10:28.612777500Z"
    }
   },
   "outputs": [
    {
     "data": {
      "text/plain": "      year  month  day   t\n2334  2014      5   26  22\n2335  2014      5   27   7",
      "text/html": "<div>\n<style scoped>\n    .dataframe tbody tr th:only-of-type {\n        vertical-align: middle;\n    }\n\n    .dataframe tbody tr th {\n        vertical-align: top;\n    }\n\n    .dataframe thead th {\n        text-align: right;\n    }\n</style>\n<table border=\"1\" class=\"dataframe\">\n  <thead>\n    <tr style=\"text-align: right;\">\n      <th></th>\n      <th>year</th>\n      <th>month</th>\n      <th>day</th>\n      <th>t</th>\n    </tr>\n  </thead>\n  <tbody>\n    <tr>\n      <th>2334</th>\n      <td>2014</td>\n      <td>5</td>\n      <td>26</td>\n      <td>22</td>\n    </tr>\n    <tr>\n      <th>2335</th>\n      <td>2014</td>\n      <td>5</td>\n      <td>27</td>\n      <td>7</td>\n    </tr>\n  </tbody>\n</table>\n</div>"
     },
     "execution_count": 111,
     "metadata": {},
     "output_type": "execute_result"
    }
   ],
   "source": [
    "df.loc[id_max-1:id_max, ['year', 'month', 'day', 't']]"
   ]
  },
  {
   "cell_type": "markdown",
   "metadata": {},
   "source": [
    "## Поработаем с экселем"
   ]
  },
  {
   "cell_type": "markdown",
   "metadata": {},
   "source": [
    "Сохраним датафрейм в эксель"
   ]
  },
  {
   "cell_type": "code",
   "execution_count": 112,
   "metadata": {
    "ExecuteTime": {
     "end_time": "2024-01-30T21:10:33.024311700Z",
     "start_time": "2024-01-30T21:10:28.629850600Z"
    }
   },
   "outputs": [],
   "source": [
    "df.to_excel('../data/excel.xlsx')"
   ]
  },
  {
   "cell_type": "markdown",
   "metadata": {},
   "source": [
    "Прочитаем из экселя"
   ]
  },
  {
   "cell_type": "code",
   "execution_count": 113,
   "metadata": {
    "ExecuteTime": {
     "end_time": "2024-01-30T21:10:34.201352200Z",
     "start_time": "2024-01-30T21:10:30.004621400Z"
    }
   },
   "outputs": [
    {
     "data": {
      "text/plain": "            Day   t  year  month  day month_name   T_f\n0    2008-01-01   0  2008      1    1     Январь  32.0\n1    2008-01-02  -5  2008      1    2     Январь  23.0\n2    2008-01-03 -11  2008      1    3     Январь  12.2\n3    2008-01-04 -11  2008      1    4     Январь  12.2\n4    2008-01-05 -12  2008      1    5     Январь  10.4\n...         ...  ..   ...    ...  ...        ...   ...\n3280 2016-12-27   1  2016     12   27    Декабрь  33.8\n3281 2016-12-28  -3  2016     12   28    Декабрь  26.6\n3282 2016-12-29   0  2016     12   29    Декабрь  32.0\n3283 2016-12-30   3  2016     12   30    Декабрь  37.4\n3284 2016-12-31   4  2016     12   31    Декабрь  39.2\n\n[3285 rows x 7 columns]",
      "text/html": "<div>\n<style scoped>\n    .dataframe tbody tr th:only-of-type {\n        vertical-align: middle;\n    }\n\n    .dataframe tbody tr th {\n        vertical-align: top;\n    }\n\n    .dataframe thead th {\n        text-align: right;\n    }\n</style>\n<table border=\"1\" class=\"dataframe\">\n  <thead>\n    <tr style=\"text-align: right;\">\n      <th></th>\n      <th>Day</th>\n      <th>t</th>\n      <th>year</th>\n      <th>month</th>\n      <th>day</th>\n      <th>month_name</th>\n      <th>T_f</th>\n    </tr>\n  </thead>\n  <tbody>\n    <tr>\n      <th>0</th>\n      <td>2008-01-01</td>\n      <td>0</td>\n      <td>2008</td>\n      <td>1</td>\n      <td>1</td>\n      <td>Январь</td>\n      <td>32.0</td>\n    </tr>\n    <tr>\n      <th>1</th>\n      <td>2008-01-02</td>\n      <td>-5</td>\n      <td>2008</td>\n      <td>1</td>\n      <td>2</td>\n      <td>Январь</td>\n      <td>23.0</td>\n    </tr>\n    <tr>\n      <th>2</th>\n      <td>2008-01-03</td>\n      <td>-11</td>\n      <td>2008</td>\n      <td>1</td>\n      <td>3</td>\n      <td>Январь</td>\n      <td>12.2</td>\n    </tr>\n    <tr>\n      <th>3</th>\n      <td>2008-01-04</td>\n      <td>-11</td>\n      <td>2008</td>\n      <td>1</td>\n      <td>4</td>\n      <td>Январь</td>\n      <td>12.2</td>\n    </tr>\n    <tr>\n      <th>4</th>\n      <td>2008-01-05</td>\n      <td>-12</td>\n      <td>2008</td>\n      <td>1</td>\n      <td>5</td>\n      <td>Январь</td>\n      <td>10.4</td>\n    </tr>\n    <tr>\n      <th>...</th>\n      <td>...</td>\n      <td>...</td>\n      <td>...</td>\n      <td>...</td>\n      <td>...</td>\n      <td>...</td>\n      <td>...</td>\n    </tr>\n    <tr>\n      <th>3280</th>\n      <td>2016-12-27</td>\n      <td>1</td>\n      <td>2016</td>\n      <td>12</td>\n      <td>27</td>\n      <td>Декабрь</td>\n      <td>33.8</td>\n    </tr>\n    <tr>\n      <th>3281</th>\n      <td>2016-12-28</td>\n      <td>-3</td>\n      <td>2016</td>\n      <td>12</td>\n      <td>28</td>\n      <td>Декабрь</td>\n      <td>26.6</td>\n    </tr>\n    <tr>\n      <th>3282</th>\n      <td>2016-12-29</td>\n      <td>0</td>\n      <td>2016</td>\n      <td>12</td>\n      <td>29</td>\n      <td>Декабрь</td>\n      <td>32.0</td>\n    </tr>\n    <tr>\n      <th>3283</th>\n      <td>2016-12-30</td>\n      <td>3</td>\n      <td>2016</td>\n      <td>12</td>\n      <td>30</td>\n      <td>Декабрь</td>\n      <td>37.4</td>\n    </tr>\n    <tr>\n      <th>3284</th>\n      <td>2016-12-31</td>\n      <td>4</td>\n      <td>2016</td>\n      <td>12</td>\n      <td>31</td>\n      <td>Декабрь</td>\n      <td>39.2</td>\n    </tr>\n  </tbody>\n</table>\n<p>3285 rows × 7 columns</p>\n</div>"
     },
     "execution_count": 113,
     "metadata": {},
     "output_type": "execute_result"
    }
   ],
   "source": [
    "pd.read_excel('../data/excel.xlsx', index_col=0)"
   ]
  },
  {
   "cell_type": "code",
   "execution_count": 114,
   "metadata": {
    "ExecuteTime": {
     "end_time": "2024-01-30T21:10:34.210394300Z",
     "start_time": "2024-01-30T21:10:30.725720500Z"
    }
   },
   "outputs": [],
   "source": [
    "import os\n",
    "os.remove('../data/excel.xlsx')\n",
    "os.remove('result.csv')"
   ]
  },
  {
   "cell_type": "markdown",
   "metadata": {},
   "source": [
    "# Полезные ссылки\n",
    "\n",
    "- [Git](https://git-scm.com/downloads)\n",
    "\n",
    "- [Anaconda](https://www.anaconda.com/products/individual#Downloads)\n",
    "\n",
    "- [VS Code](https://code.visualstudio.com/download)\n",
    "\n",
    "- [Шпаргалка по анаконде](https://docs.conda.io/projects/conda/en/4.6.0/_downloads/52a95608c49671267e40c689e0bc00ca/conda-cheatsheet.pdf)\n",
    "\n",
    "- [Шпаргалка по гиту](https://education.github.com/git-cheat-sheet-education.pdf)\n",
    "\n",
    "- [Установка jupyterlab (вариант с conda install, не забываем активировать окружение)](https://jupyterlab.readthedocs.io/en/stable/getting_started/installation.html)\n",
    "\n",
    "- [Небольшой курс по numpy-pandas-matplotlib, если хочется интерактивных задач](https://www.sololearn.com/learning/1161)"
   ]
  }
 ],
 "metadata": {
  "interpreter": {
   "hash": "3c60d125f86ecb331b65a8423cf0cca4676faa8812a500d14a58b02fbd427a36"
  },
  "kernelspec": {
   "display_name": "Python 3 (ipykernel)",
   "language": "python",
   "name": "python3"
  },
  "language_info": {
   "codemirror_mode": {
    "name": "ipython",
    "version": 3
   },
   "file_extension": ".py",
   "mimetype": "text/x-python",
   "name": "python",
   "nbconvert_exporter": "python",
   "pygments_lexer": "ipython3",
   "version": "3.11.7"
  }
 },
 "nbformat": 4,
 "nbformat_minor": 4
}
